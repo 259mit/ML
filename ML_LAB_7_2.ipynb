{
  "nbformat": 4,
  "nbformat_minor": 0,
  "metadata": {
    "colab": {
      "name": "ML LAB 7 2.ipynb",
      "provenance": [],
      "include_colab_link": true
    },
    "kernelspec": {
      "name": "python3",
      "display_name": "Python 3"
    },
    "accelerator": "GPU"
  },
  "cells": [
    {
      "cell_type": "markdown",
      "metadata": {
        "id": "view-in-github",
        "colab_type": "text"
      },
      "source": [
        "<a href=\"https://colab.research.google.com/github/259mit/ML/blob/LabAssignments/ML_LAB_7_2.ipynb\" target=\"_parent\"><img src=\"https://colab.research.google.com/assets/colab-badge.svg\" alt=\"Open In Colab\"/></a>"
      ]
    },
    {
      "cell_type": "markdown",
      "metadata": {
        "id": "PFlX_YX4mRZO",
        "colab_type": "text"
      },
      "source": [
        "# Import Libraries"
      ]
    },
    {
      "cell_type": "code",
      "metadata": {
        "colab_type": "code",
        "id": "qRvOZy6cUcmR",
        "colab": {}
      },
      "source": [
        "import pandas as pd\n",
        "import numpy as np\n",
        "from sklearn.datasets import fetch_covtype, fetch_kddcup99, fetch_lfw_pairs, fetch_lfw_people, fetch_olivetti_faces\n",
        "from sklearn.datasets import fetch_rcv1, load_breast_cancer, load_digits, load_wine"
      ],
      "execution_count": 1,
      "outputs": []
    },
    {
      "cell_type": "code",
      "metadata": {
        "colab_type": "code",
        "id": "Md0CGMe8XZAr",
        "colab": {}
      },
      "source": [
        "from sklearn.model_selection import train_test_split\n",
        "from sklearn.preprocessing import LabelEncoder, StandardScaler\n",
        "from scipy.sparse import csr_matrix\n",
        "import matplotlib.pyplot as plt"
      ],
      "execution_count": 2,
      "outputs": []
    },
    {
      "cell_type": "code",
      "metadata": {
        "colab_type": "code",
        "id": "J2HN_WLXatPP",
        "colab": {}
      },
      "source": [
        "from keras import models\n",
        "from keras import layers\n",
        "import tensorflow as tf\n",
        "from keras.utils import to_categorical"
      ],
      "execution_count": 11,
      "outputs": []
    },
    {
      "cell_type": "markdown",
      "metadata": {
        "colab_type": "text",
        "id": "h_HIZABtU1RZ"
      },
      "source": [
        "#Forest Cover"
      ]
    },
    {
      "cell_type": "markdown",
      "metadata": {
        "colab_type": "text",
        "id": "NJ2X3GDlU3G3"
      },
      "source": [
        "Loading Dataset and Preprocessing"
      ]
    },
    {
      "cell_type": "code",
      "metadata": {
        "colab_type": "code",
        "id": "ECsMj56KU7np",
        "colab": {}
      },
      "source": [
        "forest = fetch_covtype()\n",
        "x_fetch_covtype = forest.data\n",
        "y_fetch_covtype = forest.target"
      ],
      "execution_count": 18,
      "outputs": []
    },
    {
      "cell_type": "code",
      "metadata": {
        "colab_type": "code",
        "id": "9ECDMsZNVr48",
        "colab": {
          "base_uri": "https://localhost:8080/",
          "height": 51
        },
        "outputId": "5b40d642-1f46-482d-e968-8a37c25f63ed"
      },
      "source": [
        "x_forest = pd.DataFrame(x_fetch_covtype)\n",
        "y_forest = pd.DataFrame(y_fetch_covtype)\n",
        "print(x_forest.shape)\n",
        "print(y_forest.shape)"
      ],
      "execution_count": 19,
      "outputs": [
        {
          "output_type": "stream",
          "text": [
            "(581012, 54)\n",
            "(581012, 1)\n"
          ],
          "name": "stdout"
        }
      ]
    },
    {
      "cell_type": "markdown",
      "metadata": {
        "colab_type": "text",
        "id": "FuJgNviHW0qh"
      },
      "source": [
        "Making a Neural Network"
      ]
    },
    {
      "cell_type": "code",
      "metadata": {
        "colab_type": "code",
        "id": "CqiH7Im0XWQh",
        "colab": {
          "base_uri": "https://localhost:8080/",
          "height": 119
        },
        "outputId": "afed8e51-7c7e-4a07-a546-8782b7ad9520"
      },
      "source": [
        "y_fore = y_forest.replace([1,2,3,4,5,6,7], [0,1,2,3,4,5,6])\n",
        "y_fore = to_categorical(y_fore)\n",
        "x_train, x_test, y_train, y_test = train_test_split(x_forest, y_fore, test_size = 0.2)\n",
        "x_dev, x_test, y_dev, y_test = train_test_split(x_test, y_test, test_size = 0.5)\n",
        "print(x_train.shape)\n",
        "print(x_dev.shape)\n",
        "print(x_test.shape)\n",
        "print(y_train.shape)\n",
        "print(y_dev.shape)\n",
        "print(y_test.shape)"
      ],
      "execution_count": 20,
      "outputs": [
        {
          "output_type": "stream",
          "text": [
            "(464809, 54)\n",
            "(58101, 54)\n",
            "(58102, 54)\n",
            "(464809, 7)\n",
            "(58101, 7)\n",
            "(58102, 7)\n"
          ],
          "name": "stdout"
        }
      ]
    },
    {
      "cell_type": "code",
      "metadata": {
        "colab_type": "code",
        "id": "dGU_Us8XWxTY",
        "colab": {}
      },
      "source": [
        "nn_forest = models.Sequential()\n",
        "nn_forest.add(layers.Dense(512, activation = 'relu', input_shape = (54, )))\n",
        "nn_forest.add(layers.Dense(256, activation = 'relu'))\n",
        "nn_forest.add(layers.Dense(128, activation = 'relu'))\n",
        "nn_forest.add(layers.Dense(54, activation = 'relu'))\n",
        "nn_forest.add(layers.Dense(7, activation = 'softmax'))\n",
        "nn_forest.compile(optimizer = 'rmsprop', loss = 'categorical_crossentropy', metrics = ['accuracy'])\n",
        "\n",
        "class myCallback(tf.keras.callbacks.Callback):\n",
        "    def on_epoch_end(self, epoch, logs={}):\n",
        "        if(logs.get('accuracy')>0.9):\n",
        "            print(\"\\nReached 90% accuracy so cancelling training!\")\n",
        "            self.model.stop_training = True\n",
        "\n",
        "callbacks = myCallback()"
      ],
      "execution_count": 21,
      "outputs": []
    },
    {
      "cell_type": "code",
      "metadata": {
        "colab_type": "code",
        "id": "4970JdHuWxd8",
        "colab": {
          "base_uri": "https://localhost:8080/",
          "height": 1000
        },
        "outputId": "993d4755-f394-4e14-bb30-b69378c216c9"
      },
      "source": [
        "forest_history = nn_forest.fit(x_train, y_train, epochs = 120, batch_size = 5000, validation_data = (x_dev, y_dev), callbacks=[callbacks])\n",
        "for_dev_acc = nn_forest.evaluate(x_dev, y_dev)[1]\n",
        "print('The dev accuracy is',for_dev_acc)"
      ],
      "execution_count": 22,
      "outputs": [
        {
          "output_type": "stream",
          "text": [
            "Epoch 1/120\n",
            "93/93 [==============================] - 1s 9ms/step - loss: 28.4830 - accuracy: 0.3956 - val_loss: 11.5370 - val_accuracy: 0.3700\n",
            "Epoch 2/120\n",
            "93/93 [==============================] - 1s 6ms/step - loss: 3.9404 - accuracy: 0.4095 - val_loss: 2.1587 - val_accuracy: 0.3907\n",
            "Epoch 3/120\n",
            "93/93 [==============================] - 1s 6ms/step - loss: 2.2334 - accuracy: 0.4238 - val_loss: 1.5448 - val_accuracy: 0.4881\n",
            "Epoch 4/120\n",
            "93/93 [==============================] - 1s 6ms/step - loss: 1.4112 - accuracy: 0.4508 - val_loss: 1.2339 - val_accuracy: 0.4870\n",
            "Epoch 5/120\n",
            "93/93 [==============================] - 1s 6ms/step - loss: 1.2857 - accuracy: 0.4679 - val_loss: 1.1825 - val_accuracy: 0.4908\n",
            "Epoch 6/120\n",
            "93/93 [==============================] - 1s 6ms/step - loss: 1.2080 - accuracy: 0.4970 - val_loss: 1.0111 - val_accuracy: 0.5333\n",
            "Epoch 7/120\n",
            "93/93 [==============================] - 1s 6ms/step - loss: 1.1127 - accuracy: 0.5158 - val_loss: 0.9815 - val_accuracy: 0.5449\n",
            "Epoch 8/120\n",
            "93/93 [==============================] - 1s 6ms/step - loss: 1.0835 - accuracy: 0.5234 - val_loss: 0.9792 - val_accuracy: 0.5474\n",
            "Epoch 9/120\n",
            "93/93 [==============================] - 1s 6ms/step - loss: 0.9956 - accuracy: 0.5400 - val_loss: 0.8301 - val_accuracy: 0.6291\n",
            "Epoch 10/120\n",
            "93/93 [==============================] - 1s 6ms/step - loss: 0.9549 - accuracy: 0.5606 - val_loss: 0.9108 - val_accuracy: 0.5674\n",
            "Epoch 11/120\n",
            "93/93 [==============================] - 1s 6ms/step - loss: 0.9189 - accuracy: 0.5766 - val_loss: 0.9582 - val_accuracy: 0.5096\n",
            "Epoch 12/120\n",
            "93/93 [==============================] - 1s 6ms/step - loss: 0.8802 - accuracy: 0.5993 - val_loss: 0.9704 - val_accuracy: 0.5548\n",
            "Epoch 13/120\n",
            "93/93 [==============================] - 1s 6ms/step - loss: 0.8499 - accuracy: 0.6149 - val_loss: 0.9141 - val_accuracy: 0.5521\n",
            "Epoch 14/120\n",
            "93/93 [==============================] - 1s 6ms/step - loss: 0.8124 - accuracy: 0.6292 - val_loss: 0.6745 - val_accuracy: 0.7090\n",
            "Epoch 15/120\n",
            "93/93 [==============================] - 1s 6ms/step - loss: 0.7837 - accuracy: 0.6468 - val_loss: 0.7847 - val_accuracy: 0.6352\n",
            "Epoch 16/120\n",
            "93/93 [==============================] - 1s 6ms/step - loss: 0.7578 - accuracy: 0.6592 - val_loss: 0.6871 - val_accuracy: 0.6998\n",
            "Epoch 17/120\n",
            "93/93 [==============================] - 1s 6ms/step - loss: 0.7397 - accuracy: 0.6697 - val_loss: 0.6057 - val_accuracy: 0.7422\n",
            "Epoch 18/120\n",
            "93/93 [==============================] - 1s 6ms/step - loss: 0.7137 - accuracy: 0.6797 - val_loss: 0.6164 - val_accuracy: 0.7319\n",
            "Epoch 19/120\n",
            "93/93 [==============================] - 1s 6ms/step - loss: 0.6905 - accuracy: 0.6907 - val_loss: 0.9606 - val_accuracy: 0.5615\n",
            "Epoch 20/120\n",
            "93/93 [==============================] - 1s 6ms/step - loss: 0.6730 - accuracy: 0.6997 - val_loss: 0.6313 - val_accuracy: 0.7248\n",
            "Epoch 21/120\n",
            "93/93 [==============================] - 1s 6ms/step - loss: 0.6558 - accuracy: 0.7056 - val_loss: 0.5550 - val_accuracy: 0.7604\n",
            "Epoch 22/120\n",
            "93/93 [==============================] - 1s 6ms/step - loss: 0.6350 - accuracy: 0.7157 - val_loss: 0.5273 - val_accuracy: 0.7786\n",
            "Epoch 23/120\n",
            "93/93 [==============================] - 1s 6ms/step - loss: 0.6125 - accuracy: 0.7256 - val_loss: 0.7308 - val_accuracy: 0.6678\n",
            "Epoch 24/120\n",
            "93/93 [==============================] - 1s 6ms/step - loss: 0.6004 - accuracy: 0.7322 - val_loss: 0.6112 - val_accuracy: 0.7391\n",
            "Epoch 25/120\n",
            "93/93 [==============================] - 1s 6ms/step - loss: 0.5846 - accuracy: 0.7387 - val_loss: 0.5713 - val_accuracy: 0.7390\n",
            "Epoch 26/120\n",
            "93/93 [==============================] - 1s 6ms/step - loss: 0.5678 - accuracy: 0.7475 - val_loss: 0.5166 - val_accuracy: 0.7743\n",
            "Epoch 27/120\n",
            "93/93 [==============================] - 1s 6ms/step - loss: 0.5555 - accuracy: 0.7517 - val_loss: 0.4910 - val_accuracy: 0.7841\n",
            "Epoch 28/120\n",
            "93/93 [==============================] - 1s 6ms/step - loss: 0.5437 - accuracy: 0.7591 - val_loss: 0.7763 - val_accuracy: 0.6796\n",
            "Epoch 29/120\n",
            "93/93 [==============================] - 1s 6ms/step - loss: 0.5264 - accuracy: 0.7693 - val_loss: 0.4762 - val_accuracy: 0.7910\n",
            "Epoch 30/120\n",
            "93/93 [==============================] - 1s 6ms/step - loss: 0.5254 - accuracy: 0.7684 - val_loss: 0.4698 - val_accuracy: 0.7923\n",
            "Epoch 31/120\n",
            "93/93 [==============================] - 1s 6ms/step - loss: 0.5083 - accuracy: 0.7756 - val_loss: 0.5405 - val_accuracy: 0.7535\n",
            "Epoch 32/120\n",
            "93/93 [==============================] - 1s 6ms/step - loss: 0.5008 - accuracy: 0.7801 - val_loss: 0.7289 - val_accuracy: 0.7002\n",
            "Epoch 33/120\n",
            "93/93 [==============================] - 1s 6ms/step - loss: 0.4956 - accuracy: 0.7817 - val_loss: 0.4646 - val_accuracy: 0.7976\n",
            "Epoch 34/120\n",
            "93/93 [==============================] - 1s 6ms/step - loss: 0.4775 - accuracy: 0.7904 - val_loss: 0.5268 - val_accuracy: 0.7651\n",
            "Epoch 35/120\n",
            "93/93 [==============================] - 1s 6ms/step - loss: 0.4745 - accuracy: 0.7911 - val_loss: 0.6176 - val_accuracy: 0.7163\n",
            "Epoch 36/120\n",
            "93/93 [==============================] - 1s 6ms/step - loss: 0.4663 - accuracy: 0.7959 - val_loss: 0.4887 - val_accuracy: 0.7815\n",
            "Epoch 37/120\n",
            "93/93 [==============================] - 1s 6ms/step - loss: 0.4581 - accuracy: 0.7986 - val_loss: 0.5171 - val_accuracy: 0.7659\n",
            "Epoch 38/120\n",
            "93/93 [==============================] - 1s 6ms/step - loss: 0.4520 - accuracy: 0.8016 - val_loss: 0.4603 - val_accuracy: 0.7996\n",
            "Epoch 39/120\n",
            "93/93 [==============================] - 1s 6ms/step - loss: 0.4432 - accuracy: 0.8072 - val_loss: 0.3920 - val_accuracy: 0.8281\n",
            "Epoch 40/120\n",
            "93/93 [==============================] - 1s 6ms/step - loss: 0.4392 - accuracy: 0.8077 - val_loss: 0.3928 - val_accuracy: 0.8322\n",
            "Epoch 41/120\n",
            "93/93 [==============================] - 1s 6ms/step - loss: 0.4270 - accuracy: 0.8139 - val_loss: 0.3764 - val_accuracy: 0.8409\n",
            "Epoch 42/120\n",
            "93/93 [==============================] - 1s 6ms/step - loss: 0.4256 - accuracy: 0.8153 - val_loss: 0.4170 - val_accuracy: 0.8194\n",
            "Epoch 43/120\n",
            "93/93 [==============================] - 1s 6ms/step - loss: 0.4220 - accuracy: 0.8183 - val_loss: 0.4565 - val_accuracy: 0.7994\n",
            "Epoch 44/120\n",
            "93/93 [==============================] - 1s 6ms/step - loss: 0.4117 - accuracy: 0.8205 - val_loss: 0.6151 - val_accuracy: 0.7253\n",
            "Epoch 45/120\n",
            "93/93 [==============================] - 1s 6ms/step - loss: 0.4089 - accuracy: 0.8236 - val_loss: 0.5385 - val_accuracy: 0.7517\n",
            "Epoch 46/120\n",
            "93/93 [==============================] - 1s 6ms/step - loss: 0.4045 - accuracy: 0.8251 - val_loss: 0.5017 - val_accuracy: 0.7880\n",
            "Epoch 47/120\n",
            "93/93 [==============================] - 1s 6ms/step - loss: 0.3999 - accuracy: 0.8271 - val_loss: 0.3297 - val_accuracy: 0.8641\n",
            "Epoch 48/120\n",
            "93/93 [==============================] - 1s 6ms/step - loss: 0.3927 - accuracy: 0.8298 - val_loss: 0.3321 - val_accuracy: 0.8600\n",
            "Epoch 49/120\n",
            "93/93 [==============================] - 1s 6ms/step - loss: 0.3892 - accuracy: 0.8321 - val_loss: 0.3738 - val_accuracy: 0.8421\n",
            "Epoch 50/120\n",
            "93/93 [==============================] - 1s 6ms/step - loss: 0.3827 - accuracy: 0.8369 - val_loss: 0.4107 - val_accuracy: 0.8153\n",
            "Epoch 51/120\n",
            "93/93 [==============================] - 1s 6ms/step - loss: 0.3826 - accuracy: 0.8347 - val_loss: 0.3387 - val_accuracy: 0.8589\n",
            "Epoch 52/120\n",
            "93/93 [==============================] - 1s 6ms/step - loss: 0.3762 - accuracy: 0.8382 - val_loss: 0.3864 - val_accuracy: 0.8319\n",
            "Epoch 53/120\n",
            "93/93 [==============================] - 1s 6ms/step - loss: 0.3755 - accuracy: 0.8381 - val_loss: 0.4763 - val_accuracy: 0.7922\n",
            "Epoch 54/120\n",
            "93/93 [==============================] - 1s 6ms/step - loss: 0.3626 - accuracy: 0.8443 - val_loss: 0.3785 - val_accuracy: 0.8383\n",
            "Epoch 55/120\n",
            "93/93 [==============================] - 1s 6ms/step - loss: 0.3646 - accuracy: 0.8437 - val_loss: 0.4460 - val_accuracy: 0.8048\n",
            "Epoch 56/120\n",
            "93/93 [==============================] - 1s 6ms/step - loss: 0.3626 - accuracy: 0.8447 - val_loss: 0.2999 - val_accuracy: 0.8775\n",
            "Epoch 57/120\n",
            "93/93 [==============================] - 1s 6ms/step - loss: 0.3549 - accuracy: 0.8479 - val_loss: 0.3327 - val_accuracy: 0.8612\n",
            "Epoch 58/120\n",
            "93/93 [==============================] - 1s 6ms/step - loss: 0.3503 - accuracy: 0.8504 - val_loss: 0.3439 - val_accuracy: 0.8567\n",
            "Epoch 59/120\n",
            "93/93 [==============================] - 1s 6ms/step - loss: 0.3495 - accuracy: 0.8518 - val_loss: 0.3914 - val_accuracy: 0.8377\n",
            "Epoch 60/120\n",
            "93/93 [==============================] - 1s 6ms/step - loss: 0.3486 - accuracy: 0.8514 - val_loss: 0.4042 - val_accuracy: 0.8206\n",
            "Epoch 61/120\n",
            "93/93 [==============================] - 1s 6ms/step - loss: 0.3405 - accuracy: 0.8550 - val_loss: 0.3009 - val_accuracy: 0.8761\n",
            "Epoch 62/120\n",
            "93/93 [==============================] - 1s 6ms/step - loss: 0.3391 - accuracy: 0.8558 - val_loss: 0.3027 - val_accuracy: 0.8740\n",
            "Epoch 63/120\n",
            "93/93 [==============================] - 1s 6ms/step - loss: 0.3353 - accuracy: 0.8567 - val_loss: 0.3145 - val_accuracy: 0.8682\n",
            "Epoch 64/120\n",
            "93/93 [==============================] - 1s 6ms/step - loss: 0.3357 - accuracy: 0.8573 - val_loss: 0.2717 - val_accuracy: 0.8883\n",
            "Epoch 65/120\n",
            "93/93 [==============================] - 1s 6ms/step - loss: 0.3269 - accuracy: 0.8609 - val_loss: 0.3272 - val_accuracy: 0.8648\n",
            "Epoch 66/120\n",
            "93/93 [==============================] - 1s 6ms/step - loss: 0.3275 - accuracy: 0.8606 - val_loss: 0.3107 - val_accuracy: 0.8718\n",
            "Epoch 67/120\n",
            "93/93 [==============================] - 1s 6ms/step - loss: 0.3238 - accuracy: 0.8638 - val_loss: 0.2766 - val_accuracy: 0.8864\n",
            "Epoch 68/120\n",
            "93/93 [==============================] - 1s 6ms/step - loss: 0.3236 - accuracy: 0.8628 - val_loss: 0.2907 - val_accuracy: 0.8806\n",
            "Epoch 69/120\n",
            "93/93 [==============================] - 1s 6ms/step - loss: 0.3166 - accuracy: 0.8650 - val_loss: 0.3364 - val_accuracy: 0.8565\n",
            "Epoch 70/120\n",
            "93/93 [==============================] - 1s 6ms/step - loss: 0.3192 - accuracy: 0.8661 - val_loss: 0.3014 - val_accuracy: 0.8695\n",
            "Epoch 71/120\n",
            "93/93 [==============================] - 1s 6ms/step - loss: 0.3118 - accuracy: 0.8692 - val_loss: 0.4234 - val_accuracy: 0.8170\n",
            "Epoch 72/120\n",
            "93/93 [==============================] - 1s 6ms/step - loss: 0.3116 - accuracy: 0.8679 - val_loss: 0.2756 - val_accuracy: 0.8845\n",
            "Epoch 73/120\n",
            "93/93 [==============================] - 1s 6ms/step - loss: 0.3096 - accuracy: 0.8695 - val_loss: 0.2835 - val_accuracy: 0.8796\n",
            "Epoch 74/120\n",
            "93/93 [==============================] - 1s 6ms/step - loss: 0.3055 - accuracy: 0.8721 - val_loss: 0.3174 - val_accuracy: 0.8707\n",
            "Epoch 75/120\n",
            "93/93 [==============================] - 1s 6ms/step - loss: 0.3082 - accuracy: 0.8704 - val_loss: 0.2634 - val_accuracy: 0.8902\n",
            "Epoch 76/120\n",
            "93/93 [==============================] - 1s 6ms/step - loss: 0.2988 - accuracy: 0.8740 - val_loss: 0.5186 - val_accuracy: 0.8008\n",
            "Epoch 77/120\n",
            "93/93 [==============================] - 1s 6ms/step - loss: 0.3016 - accuracy: 0.8734 - val_loss: 0.5326 - val_accuracy: 0.7671\n",
            "Epoch 78/120\n",
            "93/93 [==============================] - 1s 6ms/step - loss: 0.2923 - accuracy: 0.8763 - val_loss: 0.3394 - val_accuracy: 0.8620\n",
            "Epoch 79/120\n",
            "93/93 [==============================] - 1s 6ms/step - loss: 0.2971 - accuracy: 0.8743 - val_loss: 0.3961 - val_accuracy: 0.8254\n",
            "Epoch 80/120\n",
            "93/93 [==============================] - 1s 6ms/step - loss: 0.2919 - accuracy: 0.8765 - val_loss: 0.2545 - val_accuracy: 0.8944\n",
            "Epoch 81/120\n",
            "93/93 [==============================] - 1s 6ms/step - loss: 0.2879 - accuracy: 0.8796 - val_loss: 0.2488 - val_accuracy: 0.8998\n",
            "Epoch 82/120\n",
            "93/93 [==============================] - 1s 6ms/step - loss: 0.2871 - accuracy: 0.8805 - val_loss: 0.2476 - val_accuracy: 0.8988\n",
            "Epoch 83/120\n",
            "93/93 [==============================] - 1s 6ms/step - loss: 0.2842 - accuracy: 0.8808 - val_loss: 0.3936 - val_accuracy: 0.8395\n",
            "Epoch 84/120\n",
            "93/93 [==============================] - 1s 6ms/step - loss: 0.2901 - accuracy: 0.8780 - val_loss: 0.2443 - val_accuracy: 0.9016\n",
            "Epoch 85/120\n",
            "93/93 [==============================] - 1s 6ms/step - loss: 0.2786 - accuracy: 0.8825 - val_loss: 0.2673 - val_accuracy: 0.8886\n",
            "Epoch 86/120\n",
            "93/93 [==============================] - 1s 6ms/step - loss: 0.2828 - accuracy: 0.8828 - val_loss: 0.6070 - val_accuracy: 0.7943\n",
            "Epoch 87/120\n",
            "93/93 [==============================] - 1s 6ms/step - loss: 0.2774 - accuracy: 0.8844 - val_loss: 0.2360 - val_accuracy: 0.9021\n",
            "Epoch 88/120\n",
            "93/93 [==============================] - 1s 6ms/step - loss: 0.2794 - accuracy: 0.8826 - val_loss: 0.2224 - val_accuracy: 0.9094\n",
            "Epoch 89/120\n",
            "93/93 [==============================] - 1s 6ms/step - loss: 0.2767 - accuracy: 0.8844 - val_loss: 0.3219 - val_accuracy: 0.8638\n",
            "Epoch 90/120\n",
            "93/93 [==============================] - 1s 5ms/step - loss: 0.2720 - accuracy: 0.8860 - val_loss: 0.2273 - val_accuracy: 0.9088\n",
            "Epoch 91/120\n",
            "93/93 [==============================] - 1s 6ms/step - loss: 0.2692 - accuracy: 0.8876 - val_loss: 0.3181 - val_accuracy: 0.8659\n",
            "Epoch 92/120\n",
            "93/93 [==============================] - 1s 6ms/step - loss: 0.2695 - accuracy: 0.8872 - val_loss: 0.2390 - val_accuracy: 0.9025\n",
            "Epoch 93/120\n",
            "93/93 [==============================] - 1s 6ms/step - loss: 0.2707 - accuracy: 0.8873 - val_loss: 0.2639 - val_accuracy: 0.8918\n",
            "Epoch 94/120\n",
            "93/93 [==============================] - 1s 6ms/step - loss: 0.2627 - accuracy: 0.8897 - val_loss: 0.3500 - val_accuracy: 0.8550\n",
            "Epoch 95/120\n",
            "93/93 [==============================] - 1s 6ms/step - loss: 0.2633 - accuracy: 0.8897 - val_loss: 0.3133 - val_accuracy: 0.8651\n",
            "Epoch 96/120\n",
            "93/93 [==============================] - 1s 6ms/step - loss: 0.2621 - accuracy: 0.8912 - val_loss: 0.2731 - val_accuracy: 0.8875\n",
            "Epoch 97/120\n",
            "93/93 [==============================] - 1s 6ms/step - loss: 0.2645 - accuracy: 0.8892 - val_loss: 0.2372 - val_accuracy: 0.9037\n",
            "Epoch 98/120\n",
            "93/93 [==============================] - 1s 6ms/step - loss: 0.2625 - accuracy: 0.8900 - val_loss: 0.2339 - val_accuracy: 0.9075\n",
            "Epoch 99/120\n",
            "93/93 [==============================] - 1s 6ms/step - loss: 0.2577 - accuracy: 0.8936 - val_loss: 0.2202 - val_accuracy: 0.9106\n",
            "Epoch 100/120\n",
            "93/93 [==============================] - 1s 6ms/step - loss: 0.2525 - accuracy: 0.8951 - val_loss: 0.2630 - val_accuracy: 0.8927\n",
            "Epoch 101/120\n",
            "93/93 [==============================] - 1s 6ms/step - loss: 0.2521 - accuracy: 0.8948 - val_loss: 0.2359 - val_accuracy: 0.9055\n",
            "Epoch 102/120\n",
            "93/93 [==============================] - 1s 6ms/step - loss: 0.2551 - accuracy: 0.8940 - val_loss: 0.2094 - val_accuracy: 0.9156\n",
            "Epoch 103/120\n",
            "93/93 [==============================] - 1s 6ms/step - loss: 0.2506 - accuracy: 0.8965 - val_loss: 0.3711 - val_accuracy: 0.8400\n",
            "Epoch 104/120\n",
            "93/93 [==============================] - 1s 6ms/step - loss: 0.2495 - accuracy: 0.8965 - val_loss: 0.2579 - val_accuracy: 0.8943\n",
            "Epoch 105/120\n",
            "93/93 [==============================] - 1s 6ms/step - loss: 0.2524 - accuracy: 0.8954 - val_loss: 0.2491 - val_accuracy: 0.9003\n",
            "Epoch 106/120\n",
            "93/93 [==============================] - 1s 6ms/step - loss: 0.2460 - accuracy: 0.8976 - val_loss: 0.2293 - val_accuracy: 0.9053\n",
            "Epoch 107/120\n",
            "93/93 [==============================] - 1s 6ms/step - loss: 0.2467 - accuracy: 0.8975 - val_loss: 0.2341 - val_accuracy: 0.9051\n",
            "Epoch 108/120\n",
            "91/93 [============================>.] - ETA: 0s - loss: 0.2403 - accuracy: 0.9005\n",
            "Reached 90% accuracy so cancelling training!\n",
            "93/93 [==============================] - 1s 6ms/step - loss: 0.2397 - accuracy: 0.9007 - val_loss: 0.2827 - val_accuracy: 0.8840\n",
            "1816/1816 [==============================] - 4s 2ms/step - loss: 0.2827 - accuracy: 0.8840\n",
            "The dev accuracy is 0.8839951157569885\n"
          ],
          "name": "stdout"
        }
      ]
    },
    {
      "cell_type": "markdown",
      "metadata": {
        "colab_type": "text",
        "id": "A5QQYHaOdTRN"
      },
      "source": [
        "Plotting Accuracy & Validation Accuracy with Epoch\n",
        "\n",
        "Plotting Loss & Validation Loss with Epoch"
      ]
    },
    {
      "cell_type": "code",
      "metadata": {
        "colab_type": "code",
        "id": "5UG4My83bsDW",
        "colab": {
          "base_uri": "https://localhost:8080/",
          "height": 899
        },
        "outputId": "52cfaf30-fbe5-4881-e353-62efcd48174c"
      },
      "source": [
        "plt.figure(figsize = (10,7))\n",
        "plt.plot(forest_history.history['accuracy'], color = 'blue')\n",
        "plt.plot(forest_history.history['val_accuracy'], color = 'red')\n",
        "plt.title('Model accuracy')\n",
        "plt.ylabel('Accuracy')\n",
        "plt.xlabel('Epoch')\n",
        "plt.legend(['Train', 'Validation'], loc='upper left')\n",
        "plt.show()\n",
        "\n",
        "plt.figure(figsize = (10,7))\n",
        "plt.plot(forest_history.history['loss'], color = 'blue')\n",
        "plt.plot(forest_history.history['val_loss'], color = 'red')\n",
        "plt.ylim((0,1))\n",
        "plt.title('Model loss')\n",
        "plt.ylabel('Loss')\n",
        "plt.xlabel('Epoch')\n",
        "plt.legend(['Train', 'Validation'], loc='upper left')\n",
        "plt.show()"
      ],
      "execution_count": 23,
      "outputs": [
        {
          "output_type": "display_data",
          "data": {
            "image/png": "[encoded data removed]",
            "text/plain": [
              "<Figure size 720x504 with 1 Axes>"
            ]
          },
          "metadata": {
            "tags": [],
            "needs_background": "light"
          }
        },
        {
          "output_type": "display_data",
          "data": {
            "image/png": "[encoded data removed]",
            "text/plain": [
              "<Figure size 720x504 with 1 Axes>"
            ]
          },
          "metadata": {
            "tags": [],
            "needs_background": "light"
          }
        }
      ]
    },
    {
      "cell_type": "code",
      "metadata": {
        "colab_type": "code",
        "id": "5ontOzYRb3uy",
        "colab": {
          "base_uri": "https://localhost:8080/",
          "height": 51
        },
        "outputId": "99f00d0b-9262-4b73-b620-2af367c1537b"
      },
      "source": [
        "for_test_acc = nn_forest.evaluate(x_test, y_test)[1]\n",
        "print('The test accuracy is',for_test_acc)"
      ],
      "execution_count": 24,
      "outputs": [
        {
          "output_type": "stream",
          "text": [
            "1816/1816 [==============================] - 4s 2ms/step - loss: 0.2829 - accuracy: 0.8842\n",
            "The test accuracy is 0.884238064289093\n"
          ],
          "name": "stdout"
        }
      ]
    }
  ]
}