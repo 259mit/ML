{
 "cells": [
  {
   "cell_type": "code",
   "execution_count": 1,
   "metadata": {},
   "outputs": [],
   "source": [
    "import os\n",
    "import pickle\n",
    "import pandas as pd\n",
    "import numpy as np\n",
    "import matplotlib.pyplot as plt\n",
    "\n",
    "import keras\n",
    "from keras.models import load_model\n",
    "from keras.datasets import cifar10\n",
    "from keras.layers import Input, Dense, Conv2D, MaxPooling2D, UpSampling2D, BatchNormalization, Activation\n",
    "from keras.models import Model\n",
    "from keras.callbacks import EarlyStopping, ModelCheckpoint\n",
    "from keras.optimizers import Adam"
   ]
  },
  {
   "cell_type": "code",
   "execution_count": 2,
   "metadata": {},
   "outputs": [],
   "source": [
    "(x_train, y_train), (x_test, y_test) = cifar10.load_data()"
   ]
  },
  {
   "cell_type": "code",
   "execution_count": 3,
   "metadata": {},
   "outputs": [],
   "source": [
    "x_train = x_train.astype('float32')\n",
    "x_test = x_test.astype('float32')\n",
    "x_train /= 255\n",
    "x_test /= 255\n",
    "x_train = x_train[:,:,:,0]\n",
    "x_test = x_test[:,:,:,0]"
   ]
  },
  {
   "cell_type": "code",
   "execution_count": 4,
   "metadata": {},
   "outputs": [
    {
     "name": "stdout",
     "output_type": "stream",
     "text": [
      "Validation Data Shape: (7000, 32, 32) \n",
      "Test Data Shape: (3000, 32, 32)\n"
     ]
    }
   ],
   "source": [
    "x_val = x_test[:7000]\n",
    "x_test = x_test[7000:]\n",
    "print(\"Validation Data Shape: {0} \\nTest Data Shape: {1}\".format(x_val.shape, x_test.shape))"
   ]
  },
  {
   "cell_type": "code",
   "execution_count": 5,
   "metadata": {},
   "outputs": [],
   "source": [
    "input_img = Input(shape=(32, 32))\n",
    "\n",
    "#Encoding\n",
    "x = Dense(128, activation = 'relu')(input_img)\n",
    "x = Dense(64, activation = 'relu')(x)\n",
    "x = Dense(32, activation = 'relu')(x)\n",
    "x = Dense(16, activation = 'relu')(x)\n",
    "encoded = Dense(8, activation = 'relu')(x)\n",
    "\n",
    "# Decoding\n",
    "x = Dense(8, activation = 'relu')(encoded)\n",
    "x = Dense(16, activation = 'relu')(x)\n",
    "x = Dense(32, activation = 'relu')(x)\n",
    "x = Dense(64, activation = 'relu')(x)\n",
    "x = Dense(128, activation = 'relu')(x)\n",
    "decoded = Dense(32, activation = 'sigmoid')(x)"
   ]
  },
  {
   "cell_type": "code",
   "execution_count": 6,
   "metadata": {},
   "outputs": [],
   "source": [
    "model = Model(input_img, decoded)\n",
    "model.compile(optimizer='adam', loss='binary_crossentropy')"
   ]
  },
  {
   "cell_type": "code",
   "execution_count": null,
   "metadata": {},
   "outputs": [
    {
     "name": "stdout",
     "output_type": "stream",
     "text": [
      "Epoch 1/100\n",
      "1556/1563 [============================>.] - ETA: 0s - loss: 0.5871\n",
      "Epoch 00001: val_loss improved from inf to 0.57992, saving model to AutoEncoder_Cifar10_Deep_weights.hdf5\n",
      "1563/1563 [==============================] - 12s 8ms/step - loss: 0.5870 - val_loss: 0.5799\n",
      "Epoch 2/100\n",
      "1554/1563 [============================>.] - ETA: 0s - loss: 0.5783\n",
      "Epoch 00002: val_loss improved from 0.57992 to 0.57868, saving model to AutoEncoder_Cifar10_Deep_weights.hdf5\n",
      "1563/1563 [==============================] - 11s 7ms/step - loss: 0.5783 - val_loss: 0.5787\n",
      "Epoch 3/100\n",
      "1556/1563 [============================>.] - ETA: 0s - loss: 0.5776\n",
      "Epoch 00003: val_loss improved from 0.57868 to 0.57473, saving model to AutoEncoder_Cifar10_Deep_weights.hdf5\n",
      "1563/1563 [==============================] - 10s 6ms/step - loss: 0.5776 - val_loss: 0.5747\n",
      "Epoch 4/100\n",
      "1563/1563 [==============================] - ETA: 0s - loss: 0.5726\n",
      "Epoch 00004: val_loss improved from 0.57473 to 0.57308, saving model to AutoEncoder_Cifar10_Deep_weights.hdf5\n",
      "1563/1563 [==============================] - 11s 7ms/step - loss: 0.5726 - val_loss: 0.5731\n",
      "Epoch 5/100\n",
      "1560/1563 [============================>.] - ETA: 0s - loss: 0.5722\n",
      "Epoch 00005: val_loss improved from 0.57308 to 0.57299, saving model to AutoEncoder_Cifar10_Deep_weights.hdf5\n",
      "1563/1563 [==============================] - 10s 6ms/step - loss: 0.5722 - val_loss: 0.5730\n",
      "Epoch 6/100\n",
      "1560/1563 [============================>.] - ETA: 0s - loss: 0.5720\n",
      "Epoch 00006: val_loss improved from 0.57299 to 0.57267, saving model to AutoEncoder_Cifar10_Deep_weights.hdf5\n",
      "1563/1563 [==============================] - 12s 7ms/step - loss: 0.5720 - val_loss: 0.5727\n",
      "Epoch 7/100\n",
      "1562/1563 [============================>.] - ETA: 0s - loss: 0.5719\n",
      "Epoch 00007: val_loss did not improve from 0.57267\n",
      "1563/1563 [==============================] - 12s 7ms/step - loss: 0.5719 - val_loss: 0.5730\n",
      "Epoch 8/100\n",
      "1560/1563 [============================>.] - ETA: 0s - loss: 0.5717\n",
      "Epoch 00008: val_loss improved from 0.57267 to 0.57239, saving model to AutoEncoder_Cifar10_Deep_weights.hdf5\n",
      "1563/1563 [==============================] - 11s 7ms/step - loss: 0.5718 - val_loss: 0.5724\n",
      "Epoch 9/100\n",
      "1560/1563 [============================>.] - ETA: 0s - loss: 0.5717\n",
      "Epoch 00009: val_loss did not improve from 0.57239\n",
      "1563/1563 [==============================] - 11s 7ms/step - loss: 0.5717 - val_loss: 0.5728\n",
      "Epoch 10/100\n",
      "1557/1563 [============================>.] - ETA: 0s - loss: 0.5715\n",
      "Epoch 00010: val_loss improved from 0.57239 to 0.57228, saving model to AutoEncoder_Cifar10_Deep_weights.hdf5\n",
      "1563/1563 [==============================] - 11s 7ms/step - loss: 0.5715 - val_loss: 0.5723\n",
      "Epoch 11/100\n",
      "1561/1563 [============================>.] - ETA: 0s - loss: 0.5714\n",
      "Epoch 00011: val_loss improved from 0.57228 to 0.57205, saving model to AutoEncoder_Cifar10_Deep_weights.hdf5\n",
      "1563/1563 [==============================] - 11s 7ms/step - loss: 0.5714 - val_loss: 0.5721\n",
      "Epoch 12/100\n",
      "1562/1563 [============================>.] - ETA: 0s - loss: 0.5713\n",
      "Epoch 00012: val_loss improved from 0.57205 to 0.57201, saving model to AutoEncoder_Cifar10_Deep_weights.hdf5\n",
      "1563/1563 [==============================] - 13s 8ms/step - loss: 0.5713 - val_loss: 0.5720\n",
      "Epoch 13/100\n",
      "1557/1563 [============================>.] - ETA: 0s - loss: 0.5712\n",
      "Epoch 00013: val_loss did not improve from 0.57201\n",
      "1563/1563 [==============================] - 12s 8ms/step - loss: 0.5712 - val_loss: 0.5721\n",
      "Epoch 14/100\n",
      "1563/1563 [==============================] - ETA: 0s - loss: 0.5711\n",
      "Epoch 00014: val_loss improved from 0.57201 to 0.57131, saving model to AutoEncoder_Cifar10_Deep_weights.hdf5\n",
      "1563/1563 [==============================] - 11s 7ms/step - loss: 0.5711 - val_loss: 0.5713\n",
      "Epoch 15/100\n",
      "1561/1563 [============================>.] - ETA: 0s - loss: 0.5690\n",
      "Epoch 00015: val_loss improved from 0.57131 to 0.56917, saving model to AutoEncoder_Cifar10_Deep_weights.hdf5\n",
      "1563/1563 [==============================] - 12s 8ms/step - loss: 0.5690 - val_loss: 0.5692\n",
      "Epoch 16/100\n",
      "1560/1563 [============================>.] - ETA: 0s - loss: 0.5684\n",
      "Epoch 00016: val_loss improved from 0.56917 to 0.56905, saving model to AutoEncoder_Cifar10_Deep_weights.hdf5\n",
      "1563/1563 [==============================] - 14s 9ms/step - loss: 0.5684 - val_loss: 0.5691\n",
      "Epoch 17/100\n",
      "1559/1563 [============================>.] - ETA: 0s - loss: 0.5682\n",
      "Epoch 00017: val_loss improved from 0.56905 to 0.56875, saving model to AutoEncoder_Cifar10_Deep_weights.hdf5\n",
      "1563/1563 [==============================] - 11s 7ms/step - loss: 0.5682 - val_loss: 0.5688\n",
      "Epoch 18/100\n",
      "1558/1563 [============================>.] - ETA: 0s - loss: 0.5680\n",
      "Epoch 00018: val_loss improved from 0.56875 to 0.56859, saving model to AutoEncoder_Cifar10_Deep_weights.hdf5\n",
      "1563/1563 [==============================] - 12s 8ms/step - loss: 0.5680 - val_loss: 0.5686\n",
      "Epoch 19/100\n",
      "1562/1563 [============================>.] - ETA: 0s - loss: 0.5678\n",
      "Epoch 00019: val_loss did not improve from 0.56859\n",
      "1563/1563 [==============================] - 10s 6ms/step - loss: 0.5678 - val_loss: 0.5686\n",
      "Epoch 20/100\n",
      "1563/1563 [==============================] - ETA: 0s - loss: 0.5677\n",
      "Epoch 00020: val_loss improved from 0.56859 to 0.56842, saving model to AutoEncoder_Cifar10_Deep_weights.hdf5\n",
      "1563/1563 [==============================] - 10s 6ms/step - loss: 0.5677 - val_loss: 0.5684\n",
      "Epoch 21/100\n",
      "1559/1563 [============================>.] - ETA: 0s - loss: 0.5675\n",
      "Epoch 00021: val_loss improved from 0.56842 to 0.56809, saving model to AutoEncoder_Cifar10_Deep_weights.hdf5\n",
      "1563/1563 [==============================] - 10s 7ms/step - loss: 0.5675 - val_loss: 0.5681\n",
      "Epoch 22/100\n",
      "1562/1563 [============================>.] - ETA: 0s - loss: 0.5674\n",
      "Epoch 00022: val_loss improved from 0.56809 to 0.56795, saving model to AutoEncoder_Cifar10_Deep_weights.hdf5\n",
      "1563/1563 [==============================] - 10s 7ms/step - loss: 0.5674 - val_loss: 0.5680\n",
      "Epoch 23/100\n",
      "1557/1563 [============================>.] - ETA: 0s - loss: 0.5674\n",
      "Epoch 00023: val_loss did not improve from 0.56795\n",
      "1563/1563 [==============================] - 10s 7ms/step - loss: 0.5673 - val_loss: 0.5682\n",
      "Epoch 24/100\n",
      "1257/1563 [=======================>......] - ETA: 1s - loss: 0.5670"
     ]
    }
   ],
   "source": [
    "batch_size = 32\n",
    "num_classes = 10\n",
    "epochs = 100\n",
    "es = EarlyStopping(monitor = 'val_loss', patience = 2, verbose = 1, mode = 'auto')\n",
    "chkpt = 'AutoEncoder_Cifar10_Deep_weights.hdf5'\n",
    "mc = ModelCheckpoint(filepath = chkpt, monitor = 'val_loss', verbose = 1, save_best_only = True, mode = 'auto')\n",
    "\n",
    "history = model.fit(x_train, x_train, batch_size = batch_size, epochs = epochs, verbose = 1, validation_data = (x_val, x_val), \n",
    "                    callbacks = [es, mc], shuffle = True)"
   ]
  },
  {
   "cell_type": "code",
   "execution_count": null,
   "metadata": {},
   "outputs": [],
   "source": [
    "score = model.evaluate(x_test, x_test, verbose=1)\n",
    "print(score)"
   ]
  },
  {
   "cell_type": "code",
   "execution_count": null,
   "metadata": {},
   "outputs": [],
   "source": [
    "c10test = model.predict(x_test)\n",
    "c10val = model.predict(x_val)\n",
    "print(\"Validation Dataset Score: {0}\\nTest Dataset Score: {1}\".format(np.average(c10val), np.average(c10test)))"
   ]
  },
  {
   "cell_type": "code",
   "execution_count": null,
   "metadata": {},
   "outputs": [],
   "source": [
    "def showOrigDec(orig, dec, num=10):\n",
    "    n = num \n",
    "    plt.figure(figsize=(20, 4))\n",
    "    for i in range(n):\n",
    "        # display original\n",
    "        ax = plt.subplot(2, n, i + 1)\n",
    "        plt.imshow(orig[i].reshape(32,32))\n",
    "        plt.gray()\n",
    "        ax.get_xaxis().set_visible(False)\n",
    "        ax.get_yaxis().set_visible(False)\n",
    "\n",
    "        # display reconstruction\n",
    "        ax = plt.subplot(2, n, i + 1 + n)\n",
    "        plt.imshow(dec[i].reshape(32,32))\n",
    "        plt.gray()\n",
    "        ax.get_xaxis().set_visible(False)\n",
    "        ax.get_yaxis().set_visible(False)\n",
    "    plt.show()"
   ]
  },
  {
   "cell_type": "code",
   "execution_count": null,
   "metadata": {},
   "outputs": [],
   "source": [
    "showOrigDec(x_test, c10test)"
   ]
  },
  {
   "cell_type": "code",
   "execution_count": null,
   "metadata": {},
   "outputs": [],
   "source": [
    "showOrigDec(x_test[100:], c10test[100:])"
   ]
  },
  {
   "cell_type": "code",
   "execution_count": null,
   "metadata": {},
   "outputs": [],
   "source": [
    "showOrigDec(x_test[200:], c10test[200:])"
   ]
  },
  {
   "cell_type": "code",
   "execution_count": null,
   "metadata": {},
   "outputs": [],
   "source": []
  }
 ],
 "metadata": {
  "kernelspec": {
   "display_name": "Python 3",
   "language": "python",
   "name": "python3"
  },
  "language_info": {
   "codemirror_mode": {
    "name": "ipython",
    "version": 3
   },
   "file_extension": ".py",
   "mimetype": "text/x-python",
   "name": "python",
   "nbconvert_exporter": "python",
   "pygments_lexer": "ipython3",
   "version": "3.7.6"
  }
 },
 "nbformat": 4,
 "nbformat_minor": 4
}
