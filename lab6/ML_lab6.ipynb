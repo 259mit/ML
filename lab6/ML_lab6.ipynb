{
 "cells": [
  {
   "cell_type": "code",
   "execution_count": 3,
   "metadata": {},
   "outputs": [],
   "source": [
    "import numpy as np\n",
    "import pandas as pd\n",
    "\n",
    "import matplotlib.pyplot as plt\n",
    "import seaborn as sns\n",
    "\n",
    "from sklearn.model_selection import train_test_split, cross_val_score\n",
    "from sklearn.preprocessing import StandardScaler\n",
    "\n",
    "from sklearn import linear_model\n",
    "from sklearn.model_selection import GridSearchCV, RandomizedSearchCV\n",
    "from sklearn.preprocessing import StandardScaler\n",
    "\n",
    "import warnings\n",
    "warnings.filterwarnings('ignore')\n",
    "\n",
    "np.random.seed(1)"
   ]
  },
  {
   "cell_type": "code",
   "execution_count": 4,
   "metadata": {},
   "outputs": [],
   "source": [
    "# setting up default plotting parameters\n",
    "%matplotlib inline\n",
    "\n",
    "plt.rcParams['figure.figsize'] = [20.0, 7.0]\n",
    "plt.rcParams.update({'font.size': 22,})\n",
    "\n",
    "sns.set_palette('viridis')\n",
    "sns.set_style('white')\n",
    "sns.set_context('talk', font_scale=0.8)"
   ]
  },
  {
   "cell_type": "markdown",
   "metadata": {},
   "source": [
    "### Datasets\n",
    "\n",
    "train1.csv - column name 'index' is the name of the observation and columns 0-15 are the sixteen features associated with each entity \n",
    "\n",
    "train2.csv - column name 'index' is the name of the observation and columns 0-19 are the nineteen features associated with each entity\n",
    "\n",
    "train3.csv - column name 'index' is the name of the observation and column 'label' is the target (response/dependent) variable associated with each entity "
   ]
  },
  {
   "cell_type": "markdown",
   "metadata": {},
   "source": [
    "### Initialize datasets"
   ]
  },
  {
   "cell_type": "code",
   "execution_count": 5,
   "metadata": {},
   "outputs": [
    {
     "name": "stdout",
     "output_type": "stream",
     "text": [
      "Train 1 Shape:  (96498, 17)\n",
      "Train 2 Shape:  (96498, 20)\n",
      "Train 3 Shape:  (96498, 2)\n"
     ]
    }
   ],
   "source": [
    "train1 = pd.read_csv('https://raw.githubusercontent.com/pranavn91/blockchain/master/2011gcn.csv')\n",
    "train2 = pd.read_csv('https://raw.githubusercontent.com/pranavn91/blockchain/master/tx2011partvertices_new.csv')\n",
    "train3 = pd.read_csv('https://raw.githubusercontent.com/pranavn91/blockchain/master/tx2011partvertices.csv')\n",
    "\n",
    "print('Train 1 Shape: ', train1.shape)\n",
    "print('Train 2 Shape: ', train2.shape)\n",
    "print('Train 3 Shape: ', train3.shape)"
   ]
  },
  {
   "cell_type": "code",
   "execution_count": 6,
   "metadata": {},
   "outputs": [
    {
     "data": {
      "text/html": [
       "<div>\n",
       "<style scoped>\n",
       "    .dataframe tbody tr th:only-of-type {\n",
       "        vertical-align: middle;\n",
       "    }\n",
       "\n",
       "    .dataframe tbody tr th {\n",
       "        vertical-align: top;\n",
       "    }\n",
       "\n",
       "    .dataframe thead th {\n",
       "        text-align: right;\n",
       "    }\n",
       "</style>\n",
       "<table border=\"1\" class=\"dataframe\">\n",
       "  <thead>\n",
       "    <tr style=\"text-align: right;\">\n",
       "      <th></th>\n",
       "      <th>index</th>\n",
       "      <th>0</th>\n",
       "      <th>1</th>\n",
       "      <th>2</th>\n",
       "      <th>3</th>\n",
       "      <th>4</th>\n",
       "      <th>5</th>\n",
       "      <th>6</th>\n",
       "      <th>7</th>\n",
       "      <th>8</th>\n",
       "      <th>9</th>\n",
       "      <th>10</th>\n",
       "      <th>11</th>\n",
       "      <th>12</th>\n",
       "      <th>13</th>\n",
       "      <th>14</th>\n",
       "      <th>15</th>\n",
       "    </tr>\n",
       "  </thead>\n",
       "  <tbody>\n",
       "    <tr>\n",
       "      <th>0</th>\n",
       "      <td>1</td>\n",
       "      <td>0.0</td>\n",
       "      <td>4.811244e+07</td>\n",
       "      <td>0.0</td>\n",
       "      <td>0.0</td>\n",
       "      <td>5.298934e+07</td>\n",
       "      <td>0.0</td>\n",
       "      <td>5.215435e+07</td>\n",
       "      <td>0.0</td>\n",
       "      <td>0.0</td>\n",
       "      <td>4.293262e+05</td>\n",
       "      <td>3.994267e+07</td>\n",
       "      <td>6.251989e+07</td>\n",
       "      <td>0.0</td>\n",
       "      <td>0.0</td>\n",
       "      <td>2.670458e+07</td>\n",
       "      <td>8.313858e+07</td>\n",
       "    </tr>\n",
       "    <tr>\n",
       "      <th>1</th>\n",
       "      <td>2</td>\n",
       "      <td>0.0</td>\n",
       "      <td>3.477977e+05</td>\n",
       "      <td>0.0</td>\n",
       "      <td>0.0</td>\n",
       "      <td>3.777575e+05</td>\n",
       "      <td>0.0</td>\n",
       "      <td>3.757520e+05</td>\n",
       "      <td>0.0</td>\n",
       "      <td>0.0</td>\n",
       "      <td>6.889133e+03</td>\n",
       "      <td>3.001618e+05</td>\n",
       "      <td>4.527358e+05</td>\n",
       "      <td>0.0</td>\n",
       "      <td>0.0</td>\n",
       "      <td>1.915057e+05</td>\n",
       "      <td>6.009039e+05</td>\n",
       "    </tr>\n",
       "    <tr>\n",
       "      <th>2</th>\n",
       "      <td>3</td>\n",
       "      <td>0.0</td>\n",
       "      <td>6.455196e+07</td>\n",
       "      <td>0.0</td>\n",
       "      <td>0.0</td>\n",
       "      <td>7.110790e+07</td>\n",
       "      <td>0.0</td>\n",
       "      <td>6.997804e+07</td>\n",
       "      <td>0.0</td>\n",
       "      <td>0.0</td>\n",
       "      <td>5.670157e+05</td>\n",
       "      <td>5.356332e+07</td>\n",
       "      <td>8.388026e+07</td>\n",
       "      <td>0.0</td>\n",
       "      <td>0.0</td>\n",
       "      <td>3.583296e+07</td>\n",
       "      <td>1.115463e+08</td>\n",
       "    </tr>\n",
       "    <tr>\n",
       "      <th>3</th>\n",
       "      <td>4</td>\n",
       "      <td>0.0</td>\n",
       "      <td>2.009876e+08</td>\n",
       "      <td>0.0</td>\n",
       "      <td>0.0</td>\n",
       "      <td>2.214679e+08</td>\n",
       "      <td>0.0</td>\n",
       "      <td>2.174101e+08</td>\n",
       "      <td>0.0</td>\n",
       "      <td>0.0</td>\n",
       "      <td>1.342720e+06</td>\n",
       "      <td>1.665389e+08</td>\n",
       "      <td>2.614420e+08</td>\n",
       "      <td>0.0</td>\n",
       "      <td>0.0</td>\n",
       "      <td>1.116514e+08</td>\n",
       "      <td>3.472892e+08</td>\n",
       "    </tr>\n",
       "    <tr>\n",
       "      <th>4</th>\n",
       "      <td>5</td>\n",
       "      <td>0.0</td>\n",
       "      <td>2.384675e+05</td>\n",
       "      <td>0.0</td>\n",
       "      <td>0.0</td>\n",
       "      <td>2.597246e+05</td>\n",
       "      <td>0.0</td>\n",
       "      <td>2.577884e+05</td>\n",
       "      <td>0.0</td>\n",
       "      <td>0.0</td>\n",
       "      <td>4.202993e+03</td>\n",
       "      <td>2.042845e+05</td>\n",
       "      <td>3.103489e+05</td>\n",
       "      <td>0.0</td>\n",
       "      <td>0.0</td>\n",
       "      <td>1.315073e+05</td>\n",
       "      <td>4.120424e+05</td>\n",
       "    </tr>\n",
       "  </tbody>\n",
       "</table>\n",
       "</div>"
      ],
      "text/plain": [
       "   index    0             1    2    3             4    5             6    7  \\\n",
       "0      1  0.0  4.811244e+07  0.0  0.0  5.298934e+07  0.0  5.215435e+07  0.0   \n",
       "1      2  0.0  3.477977e+05  0.0  0.0  3.777575e+05  0.0  3.757520e+05  0.0   \n",
       "2      3  0.0  6.455196e+07  0.0  0.0  7.110790e+07  0.0  6.997804e+07  0.0   \n",
       "3      4  0.0  2.009876e+08  0.0  0.0  2.214679e+08  0.0  2.174101e+08  0.0   \n",
       "4      5  0.0  2.384675e+05  0.0  0.0  2.597246e+05  0.0  2.577884e+05  0.0   \n",
       "\n",
       "     8             9            10            11   12   13            14  \\\n",
       "0  0.0  4.293262e+05  3.994267e+07  6.251989e+07  0.0  0.0  2.670458e+07   \n",
       "1  0.0  6.889133e+03  3.001618e+05  4.527358e+05  0.0  0.0  1.915057e+05   \n",
       "2  0.0  5.670157e+05  5.356332e+07  8.388026e+07  0.0  0.0  3.583296e+07   \n",
       "3  0.0  1.342720e+06  1.665389e+08  2.614420e+08  0.0  0.0  1.116514e+08   \n",
       "4  0.0  4.202993e+03  2.042845e+05  3.103489e+05  0.0  0.0  1.315073e+05   \n",
       "\n",
       "             15  \n",
       "0  8.313858e+07  \n",
       "1  6.009039e+05  \n",
       "2  1.115463e+08  \n",
       "3  3.472892e+08  \n",
       "4  4.120424e+05  "
      ]
     },
     "execution_count": 6,
     "metadata": {},
     "output_type": "execute_result"
    }
   ],
   "source": [
    "train1.rename(columns={'Unnamed: 0':'index'}, inplace=True)\n",
    "train1['index'] = train1['index'] + 1\n",
    "train1.head()"
   ]
  },
  {
   "cell_type": "code",
   "execution_count": 7,
   "metadata": {},
   "outputs": [
    {
     "data": {
      "text/html": [
       "<div>\n",
       "<style scoped>\n",
       "    .dataframe tbody tr th:only-of-type {\n",
       "        vertical-align: middle;\n",
       "    }\n",
       "\n",
       "    .dataframe tbody tr th {\n",
       "        vertical-align: top;\n",
       "    }\n",
       "\n",
       "    .dataframe thead th {\n",
       "        text-align: right;\n",
       "    }\n",
       "</style>\n",
       "<table border=\"1\" class=\"dataframe\">\n",
       "  <thead>\n",
       "    <tr style=\"text-align: right;\">\n",
       "      <th></th>\n",
       "      <th>index</th>\n",
       "      <th>txsize</th>\n",
       "      <th>txvirtualsize</th>\n",
       "      <th>txinputs_count</th>\n",
       "      <th>txoutputs_count</th>\n",
       "      <th>txinput_val</th>\n",
       "      <th>txoutput_val</th>\n",
       "      <th>txfee</th>\n",
       "      <th>Min_received</th>\n",
       "      <th>Max_received</th>\n",
       "      <th>Avg_received</th>\n",
       "      <th>Total_received</th>\n",
       "      <th>Stdev_received</th>\n",
       "      <th>Var_received</th>\n",
       "      <th>Min_sent</th>\n",
       "      <th>Max_sent</th>\n",
       "      <th>Avg_sent</th>\n",
       "      <th>Total_sent</th>\n",
       "      <th>Stdev_sent</th>\n",
       "      <th>Var_sent</th>\n",
       "    </tr>\n",
       "  </thead>\n",
       "  <tbody>\n",
       "    <tr>\n",
       "      <th>0</th>\n",
       "      <td>1</td>\n",
       "      <td>7369</td>\n",
       "      <td>7369</td>\n",
       "      <td>5</td>\n",
       "      <td>190</td>\n",
       "      <td>215000000.0</td>\n",
       "      <td>214600000.0</td>\n",
       "      <td>400000</td>\n",
       "      <td>0.0005</td>\n",
       "      <td>1.0000</td>\n",
       "      <td>0.011295</td>\n",
       "      <td>2.1460</td>\n",
       "      <td>0.081163</td>\n",
       "      <td>0.006587</td>\n",
       "      <td>0.0005</td>\n",
       "      <td>1.6700</td>\n",
       "      <td>0.4300</td>\n",
       "      <td>2.1500</td>\n",
       "      <td>0.703445</td>\n",
       "      <td>0.494835</td>\n",
       "    </tr>\n",
       "    <tr>\n",
       "      <th>1</th>\n",
       "      <td>2</td>\n",
       "      <td>293</td>\n",
       "      <td>293</td>\n",
       "      <td>1</td>\n",
       "      <td>3</td>\n",
       "      <td>4400000.0</td>\n",
       "      <td>4350000.0</td>\n",
       "      <td>50000</td>\n",
       "      <td>0.0010</td>\n",
       "      <td>0.0415</td>\n",
       "      <td>0.014500</td>\n",
       "      <td>0.0435</td>\n",
       "      <td>0.023383</td>\n",
       "      <td>0.000547</td>\n",
       "      <td>0.0440</td>\n",
       "      <td>0.0440</td>\n",
       "      <td>0.0440</td>\n",
       "      <td>0.0440</td>\n",
       "      <td>0.000000</td>\n",
       "      <td>0.000000</td>\n",
       "    </tr>\n",
       "    <tr>\n",
       "      <th>2</th>\n",
       "      <td>3</td>\n",
       "      <td>11139</td>\n",
       "      <td>11139</td>\n",
       "      <td>1</td>\n",
       "      <td>322</td>\n",
       "      <td>125000000.0</td>\n",
       "      <td>124400000.0</td>\n",
       "      <td>600000</td>\n",
       "      <td>0.0010</td>\n",
       "      <td>0.4460</td>\n",
       "      <td>0.003863</td>\n",
       "      <td>1.2440</td>\n",
       "      <td>0.024941</td>\n",
       "      <td>0.000622</td>\n",
       "      <td>1.2500</td>\n",
       "      <td>1.2500</td>\n",
       "      <td>1.2500</td>\n",
       "      <td>1.2500</td>\n",
       "      <td>0.000000</td>\n",
       "      <td>0.000000</td>\n",
       "    </tr>\n",
       "    <tr>\n",
       "      <th>3</th>\n",
       "      <td>4</td>\n",
       "      <td>495</td>\n",
       "      <td>495</td>\n",
       "      <td>1</td>\n",
       "      <td>9</td>\n",
       "      <td>27450000.0</td>\n",
       "      <td>27400000.0</td>\n",
       "      <td>50000</td>\n",
       "      <td>0.0010</td>\n",
       "      <td>0.2660</td>\n",
       "      <td>0.030444</td>\n",
       "      <td>0.2740</td>\n",
       "      <td>0.088333</td>\n",
       "      <td>0.007803</td>\n",
       "      <td>0.2745</td>\n",
       "      <td>0.2745</td>\n",
       "      <td>0.2745</td>\n",
       "      <td>0.2745</td>\n",
       "      <td>0.000000</td>\n",
       "      <td>0.000000</td>\n",
       "    </tr>\n",
       "    <tr>\n",
       "      <th>4</th>\n",
       "      <td>5</td>\n",
       "      <td>462</td>\n",
       "      <td>462</td>\n",
       "      <td>1</td>\n",
       "      <td>8</td>\n",
       "      <td>3000000.0</td>\n",
       "      <td>2950000.0</td>\n",
       "      <td>50000</td>\n",
       "      <td>0.0010</td>\n",
       "      <td>0.0225</td>\n",
       "      <td>0.003687</td>\n",
       "      <td>0.0295</td>\n",
       "      <td>0.007601</td>\n",
       "      <td>0.000058</td>\n",
       "      <td>0.0300</td>\n",
       "      <td>0.0300</td>\n",
       "      <td>0.0300</td>\n",
       "      <td>0.0300</td>\n",
       "      <td>0.000000</td>\n",
       "      <td>0.000000</td>\n",
       "    </tr>\n",
       "  </tbody>\n",
       "</table>\n",
       "</div>"
      ],
      "text/plain": [
       "   index  txsize  txvirtualsize  txinputs_count  txoutputs_count  txinput_val  \\\n",
       "0      1    7369           7369               5              190  215000000.0   \n",
       "1      2     293            293               1                3    4400000.0   \n",
       "2      3   11139          11139               1              322  125000000.0   \n",
       "3      4     495            495               1                9   27450000.0   \n",
       "4      5     462            462               1                8    3000000.0   \n",
       "\n",
       "   txoutput_val   txfee  Min_received  Max_received  Avg_received  \\\n",
       "0   214600000.0  400000        0.0005        1.0000      0.011295   \n",
       "1     4350000.0   50000        0.0010        0.0415      0.014500   \n",
       "2   124400000.0  600000        0.0010        0.4460      0.003863   \n",
       "3    27400000.0   50000        0.0010        0.2660      0.030444   \n",
       "4     2950000.0   50000        0.0010        0.0225      0.003687   \n",
       "\n",
       "   Total_received  Stdev_received  Var_received  Min_sent  Max_sent  Avg_sent  \\\n",
       "0          2.1460        0.081163      0.006587    0.0005    1.6700    0.4300   \n",
       "1          0.0435        0.023383      0.000547    0.0440    0.0440    0.0440   \n",
       "2          1.2440        0.024941      0.000622    1.2500    1.2500    1.2500   \n",
       "3          0.2740        0.088333      0.007803    0.2745    0.2745    0.2745   \n",
       "4          0.0295        0.007601      0.000058    0.0300    0.0300    0.0300   \n",
       "\n",
       "   Total_sent  Stdev_sent  Var_sent  \n",
       "0      2.1500    0.703445  0.494835  \n",
       "1      0.0440    0.000000  0.000000  \n",
       "2      1.2500    0.000000  0.000000  \n",
       "3      0.2745    0.000000  0.000000  \n",
       "4      0.0300    0.000000  0.000000  "
      ]
     },
     "execution_count": 7,
     "metadata": {},
     "output_type": "execute_result"
    }
   ],
   "source": [
    "train2.rename(columns={'Unnamed: 0':'index'}, inplace=True)\n",
    "train2.head()"
   ]
  },
  {
   "cell_type": "code",
   "execution_count": 8,
   "metadata": {},
   "outputs": [
    {
     "data": {
      "text/html": [
       "<div>\n",
       "<style scoped>\n",
       "    .dataframe tbody tr th:only-of-type {\n",
       "        vertical-align: middle;\n",
       "    }\n",
       "\n",
       "    .dataframe tbody tr th {\n",
       "        vertical-align: top;\n",
       "    }\n",
       "\n",
       "    .dataframe thead th {\n",
       "        text-align: right;\n",
       "    }\n",
       "</style>\n",
       "<table border=\"1\" class=\"dataframe\">\n",
       "  <thead>\n",
       "    <tr style=\"text-align: right;\">\n",
       "      <th></th>\n",
       "      <th>index</th>\n",
       "      <th>label</th>\n",
       "    </tr>\n",
       "  </thead>\n",
       "  <tbody>\n",
       "    <tr>\n",
       "      <th>0</th>\n",
       "      <td>1</td>\n",
       "      <td>unclassified</td>\n",
       "    </tr>\n",
       "    <tr>\n",
       "      <th>1</th>\n",
       "      <td>2</td>\n",
       "      <td>donations</td>\n",
       "    </tr>\n",
       "    <tr>\n",
       "      <th>2</th>\n",
       "      <td>3</td>\n",
       "      <td>unclassified</td>\n",
       "    </tr>\n",
       "    <tr>\n",
       "      <th>3</th>\n",
       "      <td>4</td>\n",
       "      <td>donations</td>\n",
       "    </tr>\n",
       "    <tr>\n",
       "      <th>4</th>\n",
       "      <td>5</td>\n",
       "      <td>donations</td>\n",
       "    </tr>\n",
       "  </tbody>\n",
       "</table>\n",
       "</div>"
      ],
      "text/plain": [
       "   index         label\n",
       "0      1  unclassified\n",
       "1      2     donations\n",
       "2      3  unclassified\n",
       "3      4     donations\n",
       "4      5     donations"
      ]
     },
     "execution_count": 8,
     "metadata": {},
     "output_type": "execute_result"
    }
   ],
   "source": [
    "train3.rename(columns={'Unnamed: 0':'index'}, inplace=True)\n",
    "train3.head()"
   ]
  },
  {
   "cell_type": "markdown",
   "metadata": {},
   "source": [
    "### Info"
   ]
  },
  {
   "cell_type": "code",
   "execution_count": 9,
   "metadata": {},
   "outputs": [
    {
     "name": "stdout",
     "output_type": "stream",
     "text": [
      "<class 'pandas.core.frame.DataFrame'>\n",
      "RangeIndex: 96498 entries, 0 to 96497\n",
      "Data columns (total 17 columns):\n",
      " #   Column  Non-Null Count  Dtype  \n",
      "---  ------  --------------  -----  \n",
      " 0   index   96498 non-null  int64  \n",
      " 1   0       96498 non-null  float64\n",
      " 2   1       96498 non-null  float64\n",
      " 3   2       96498 non-null  float64\n",
      " 4   3       96498 non-null  float64\n",
      " 5   4       96498 non-null  float64\n",
      " 6   5       96498 non-null  float64\n",
      " 7   6       96498 non-null  float64\n",
      " 8   7       96498 non-null  float64\n",
      " 9   8       96498 non-null  float64\n",
      " 10  9       96498 non-null  float64\n",
      " 11  10      96498 non-null  float64\n",
      " 12  11      96498 non-null  float64\n",
      " 13  12      96498 non-null  float64\n",
      " 14  13      96498 non-null  float64\n",
      " 15  14      96498 non-null  float64\n",
      " 16  15      96498 non-null  float64\n",
      "dtypes: float64(16), int64(1)\n",
      "memory usage: 12.5 MB\n"
     ]
    }
   ],
   "source": [
    "train1.info()"
   ]
  },
  {
   "cell_type": "code",
   "execution_count": 10,
   "metadata": {},
   "outputs": [
    {
     "name": "stdout",
     "output_type": "stream",
     "text": [
      "<class 'pandas.core.frame.DataFrame'>\n",
      "RangeIndex: 96498 entries, 0 to 96497\n",
      "Data columns (total 20 columns):\n",
      " #   Column           Non-Null Count  Dtype  \n",
      "---  ------           --------------  -----  \n",
      " 0   index            96498 non-null  int64  \n",
      " 1   txsize           96498 non-null  int64  \n",
      " 2   txvirtualsize    96498 non-null  int64  \n",
      " 3   txinputs_count   96498 non-null  int64  \n",
      " 4   txoutputs_count  96498 non-null  int64  \n",
      " 5   txinput_val      96498 non-null  float64\n",
      " 6   txoutput_val     96498 non-null  float64\n",
      " 7   txfee            96498 non-null  int64  \n",
      " 8   Min_received     96498 non-null  float64\n",
      " 9   Max_received     96498 non-null  float64\n",
      " 10  Avg_received     96498 non-null  float64\n",
      " 11  Total_received   96498 non-null  float64\n",
      " 12  Stdev_received   96498 non-null  float64\n",
      " 13  Var_received     96498 non-null  float64\n",
      " 14  Min_sent         96498 non-null  float64\n",
      " 15  Max_sent         96498 non-null  float64\n",
      " 16  Avg_sent         96498 non-null  float64\n",
      " 17  Total_sent       96498 non-null  float64\n",
      " 18  Stdev_sent       96498 non-null  float64\n",
      " 19  Var_sent         96498 non-null  float64\n",
      "dtypes: float64(14), int64(6)\n",
      "memory usage: 14.7 MB\n"
     ]
    }
   ],
   "source": [
    "train2.info()"
   ]
  },
  {
   "cell_type": "code",
   "execution_count": 11,
   "metadata": {},
   "outputs": [
    {
     "name": "stdout",
     "output_type": "stream",
     "text": [
      "<class 'pandas.core.frame.DataFrame'>\n",
      "RangeIndex: 96498 entries, 0 to 96497\n",
      "Data columns (total 2 columns):\n",
      " #   Column  Non-Null Count  Dtype \n",
      "---  ------  --------------  ----- \n",
      " 0   index   96498 non-null  int64 \n",
      " 1   label   96498 non-null  object\n",
      "dtypes: int64(1), object(1)\n",
      "memory usage: 1.5+ MB\n"
     ]
    }
   ],
   "source": [
    "train3.info()"
   ]
  },
  {
   "cell_type": "markdown",
   "metadata": {},
   "source": [
    "### Cleaning"
   ]
  },
  {
   "cell_type": "code",
   "execution_count": 12,
   "metadata": {},
   "outputs": [],
   "source": [
    "results = pd.merge(train3, train1, on='index', how='inner')\n",
    "\n",
    "# split data into X and y\n",
    "X = results.iloc[:,2:18]\n",
    "scaler = StandardScaler()\n",
    "X = scaler.fit_transform(X)\n",
    "Y1 = results['label']"
   ]
  },
  {
   "cell_type": "code",
   "execution_count": 13,
   "metadata": {},
   "outputs": [],
   "source": [
    "from sklearn import preprocessing\n",
    "le = preprocessing.LabelEncoder()\n",
    "le.fit(results['label'].unique())\n",
    "Y = pd.DataFrame(le.transform(Y1))"
   ]
  },
  {
   "cell_type": "code",
   "execution_count": 14,
   "metadata": {},
   "outputs": [
    {
     "data": {
      "text/plain": [
       "0    6\n",
       "dtype: int64"
      ]
     },
     "execution_count": 14,
     "metadata": {},
     "output_type": "execute_result"
    }
   ],
   "source": [
    "Y.nunique()"
   ]
  },
  {
   "cell_type": "markdown",
   "metadata": {},
   "source": [
    "### Train test split"
   ]
  },
  {
   "cell_type": "code",
   "execution_count": 15,
   "metadata": {},
   "outputs": [],
   "source": [
    "seed = 1\n",
    "test_size = 0.2\n",
    "X_train, X_test, y_train, y_test = train_test_split(X, Y, test_size=test_size, random_state=seed)"
   ]
  },
  {
   "cell_type": "markdown",
   "metadata": {},
   "source": [
    "### classification"
   ]
  },
  {
   "cell_type": "code",
   "execution_count": 16,
   "metadata": {},
   "outputs": [],
   "source": [
    "# define models\n",
    "logistic = linear_model.LogisticRegression(solver='liblinear')\n",
    "sgd = linear_model.SGDClassifier()"
   ]
  },
  {
   "cell_type": "code",
   "execution_count": 17,
   "metadata": {},
   "outputs": [],
   "source": [
    "models = [logistic, sgd]"
   ]
  },
  {
   "cell_type": "code",
   "execution_count": 18,
   "metadata": {},
   "outputs": [],
   "source": [
    "# function to get cross validation scores\n",
    "def get_cv_scores(model):\n",
    "    scores = cross_val_score(model, X_train, y_train, cv=3, scoring='accuracy')\n",
    "    print('CV Mean: ', np.mean(scores))\n",
    "    print('STD: ', np.std(scores))\n",
    "    print('\\n')"
   ]
  },
  {
   "cell_type": "code",
   "execution_count": 19,
   "metadata": {},
   "outputs": [
    {
     "name": "stdout",
     "output_type": "stream",
     "text": [
      "LogisticRegression(C=1.0, class_weight=None, dual=False, fit_intercept=True,\n",
      "                   intercept_scaling=1, l1_ratio=None, max_iter=100,\n",
      "                   multi_class='auto', n_jobs=None, penalty='l2',\n",
      "                   random_state=None, solver='liblinear', tol=0.0001, verbose=0,\n",
      "                   warm_start=False)\n",
      "CV Mean:  0.8704241043757203\n",
      "STD:  0.0008408605308690582\n",
      "\n",
      "\n",
      "SGDClassifier(alpha=0.0001, average=False, class_weight=None,\n",
      "              early_stopping=False, epsilon=0.1, eta0=0.0, fit_intercept=True,\n",
      "              l1_ratio=0.15, learning_rate='optimal', loss='hinge',\n",
      "              max_iter=1000, n_iter_no_change=5, n_jobs=None, penalty='l2',\n",
      "              power_t=0.5, random_state=None, shuffle=True, tol=0.001,\n",
      "              validation_fraction=0.1, verbose=0, warm_start=False)\n",
      "CV Mean:  0.863429033523253\n",
      "STD:  0.005747895882866403\n",
      "\n",
      "\n"
     ]
    }
   ],
   "source": [
    "# loop through list of models\n",
    "for model in models:\n",
    "    print(model)\n",
    "    get_cv_scores(model)"
   ]
  },
  {
   "cell_type": "markdown",
   "metadata": {},
   "source": [
    "### Logistic reg and grid search"
   ]
  },
  {
   "cell_type": "raw",
   "metadata": {},
   "source": [
    "#class sklearn.model_selection.GridSearchCV(estimator, param_grid, *, scoring=None, n_jobs=None, \n",
    "#iid='deprecated', refit=True, cv=None, verbose=0, pre_dispatch='2*n_jobs', error_score=nan, return_train_score=False)\n",
    "\n",
    "#n_jobs int, default=None\n",
    "#Number of jobs to run in parallel. None means 1 unless in a joblib.parallel_backend context. -1 means using all processors.\n",
    "\n",
    "\n",
    "penalty = ['l1', 'l2']\n",
    "C = [0.0001, 0.001, 0.01]\n",
    "class_weight = [{1:0.5, 0:0.5}, {1:0.4, 0:0.6}]\n",
    "solver = ['liblinear', 'saga']\n",
    "\n",
    "param_grid = dict(penalty=penalty,\n",
    "                  C=C,\n",
    "                  class_weight=class_weight,\n",
    "                  solver=solver)\n",
    "\n",
    "grid = GridSearchCV(estimator=logistic, param_grid=param_grid, scoring='accuracy', verbose=1, n_jobs=-1)\n",
    "grid_result = grid.fit(X_train, y_train)\n",
    "\n",
    "print('Best Score: ', grid_result.best_score_)\n",
    "print('Best Params: ', grid_result.best_params_)"
   ]
  },
  {
   "cell_type": "raw",
   "metadata": {},
   "source": [
    "logistic = linear_model.LogisticRegression(C=0.0001, class_weight={1:0.5, 0:0.5}, penalty='l2', solver='liblinear')\n",
    "get_cv_scores(logistic)"
   ]
  },
  {
   "cell_type": "raw",
   "metadata": {},
   "source": [
    "from sklearn.metrics import accuracy_score\n",
    "\n",
    "logistic.fit(X_train, y_train)\n",
    "\n",
    "y_train_pred = logistic.predict(X_train)\n",
    "accuracy_train = accuracy_score(y_train, y_train_pred)\n",
    "print(\"Accuracy: %.2f%%\" % (accuracy_train))\n",
    "\n",
    "\n",
    "y_test_pred = logistic.predict(X_test)\n",
    "accuracy_test = accuracy_score(y_test, y_test_pred)\n",
    "print(\"Accuracy: %.2f%%\" % (accuracy_test))"
   ]
  },
  {
   "cell_type": "raw",
   "metadata": {},
   "source": [
    "Best Score: 0.7839596742612616\n",
    "Best Params: {'C': 0.0001, 'class_weight': {1: 0.5, 0: 0.5}, 'penalty': 'l2', 'solver': 'liblinear'}"
   ]
  },
  {
   "cell_type": "markdown",
   "metadata": {},
   "source": [
    "### Gradient descent and random search"
   ]
  },
  {
   "cell_type": "raw",
   "metadata": {},
   "source": [
    "loss = ['hinge', 'log']\n",
    "penalty = ['l1', 'l2']\n",
    "alpha = [0.0001, 0.001]\n",
    "learning_rate = ['constant', 'optimal']\n",
    "class_weight = [{1:0.5, 0:0.5}, {1:0.4, 0:0.6}]\n",
    "eta0 = [1, 10]\n",
    "\n",
    "param_distributions = dict(loss=loss,\n",
    "                           penalty=penalty,\n",
    "                           alpha=alpha,\n",
    "                           learning_rate=learning_rate,\n",
    "                           class_weight=class_weight,\n",
    "                           eta0=eta0)\n",
    "\n",
    "random = RandomizedSearchCV(estimator=sgd, param_distributions=param_distributions, scoring='accuracy', verbose=1, n_jobs=-1, n_iter=1000)\n",
    "random_result = random.fit(X_train, y_train)\n",
    "\n",
    "print('Best Score: ', random_result.best_score_)\n",
    "print('Best Params: ', random_result.best_params_)"
   ]
  },
  {
   "cell_type": "raw",
   "metadata": {},
   "source": [
    "Best Score: 0.6772044947639583\n",
    "Best Params: {'penalty': 'l1', 'loss': 'hinge', 'learning_rate': 'optimal', 'eta0': 1, 'class_weight': {1: 0.4, 0: 0.6}, 'alpha': 0.001}"
   ]
  },
  {
   "cell_type": "raw",
   "metadata": {},
   "source": [
    "sgd = linear_model.SGDClassifier(alpha=0.001,\n",
    "                                 class_weight={1:0.4, 0:0.6},\n",
    "                                 eta0=1,\n",
    "                                 learning_rate='optimal',\n",
    "                                 loss='hinge',\n",
    "                                 penalty='l1')\n",
    "get_cv_scores(sgd)\n",
    "sgd.fit(X_train, y_train)\n",
    "\n",
    "y_train_pred = sgd.predict(X_train)\n",
    "accuracy_train = accuracy_score(y_train, y_train_pred)\n",
    "print(\"Accuracy: %.2f%%\" % (accuracy_train))\n",
    "\n",
    "\n",
    "y_test_pred = sgd.predict(X_test)\n",
    "accuracy_test = accuracy_score(y_test, y_test_pred)\n",
    "print(\"Accuracy: %.2f%%\" % (accuracy_test))"
   ]
  },
  {
   "cell_type": "raw",
   "metadata": {},
   "source": [
    "Accuracy: 0.83%\n",
    "Accuracy: 0.83%"
   ]
  },
  {
   "cell_type": "markdown",
   "metadata": {},
   "source": [
    "### Neural Networks On the Dataset"
   ]
  },
  {
   "cell_type": "code",
   "execution_count": 20,
   "metadata": {},
   "outputs": [],
   "source": [
    "from keras import models\n",
    "from keras import layers\n",
    "from keras.utils import to_categorical"
   ]
  },
  {
   "cell_type": "code",
   "execution_count": 21,
   "metadata": {},
   "outputs": [
    {
     "name": "stdout",
     "output_type": "stream",
     "text": [
      "(57898, 16)\n",
      "(19300, 16)\n",
      "(19300, 16)\n",
      "(57898, 6)\n",
      "(19300, 6)\n",
      "(19300, 6)\n"
     ]
    }
   ],
   "source": [
    "Y = to_categorical(Y)\n",
    "x_train, x_test, y_train, y_test = train_test_split(X, Y, test_size = 0.4)\n",
    "x_dev, x_test, y_dev, y_test = train_test_split(x_test, y_test, test_size = 0.5)\n",
    "# x_train = x_train.applymap(lambda x: np.log(x+1))\n",
    "# x_dev = x_dev.applymap(lambda x: np.log(x+1))\n",
    "# x_test = x_test.applymap(lambda x: np.log(x+1))\n",
    "\n",
    "print(x_train.shape)\n",
    "print(x_dev.shape)\n",
    "print(x_test.shape)\n",
    "print(y_train.shape)\n",
    "print(y_dev.shape)\n",
    "print(y_test.shape)"
   ]
  },
  {
   "cell_type": "code",
   "execution_count": 22,
   "metadata": {},
   "outputs": [],
   "source": [
    "nn = models.Sequential()\n",
    "nn.add(layers.Dense(128, activation = 'tanh', input_shape = (16, )))\n",
    "nn.add(layers.Dense(64, activation = 'relu'))\n",
    "nn.add(layers.Dense(36))\n",
    "nn.add(layers.LeakyReLU(alpha = 0.01))\n",
    "nn.add(layers.Dense(6, activation = 'softmax'))\n",
    "nn.compile(optimizer = 'rmsprop', loss = 'categorical_crossentropy',\n",
    "           metrics = ['accuracy'])"
   ]
  },
  {
   "cell_type": "code",
   "execution_count": 23,
   "metadata": {},
   "outputs": [
    {
     "name": "stdout",
     "output_type": "stream",
     "text": [
      "Epoch 1/30\n",
      "6/6 [==============================] - 0s 43ms/step - loss: 1.6612 - accuracy: 0.7982 - val_loss: 1.4852 - val_accuracy: 0.8365\n",
      "Epoch 2/30\n",
      "6/6 [==============================] - 0s 28ms/step - loss: 1.3500 - accuracy: 0.8395 - val_loss: 1.1459 - val_accuracy: 0.8365\n",
      "Epoch 3/30\n",
      "6/6 [==============================] - 0s 23ms/step - loss: 1.0038 - accuracy: 0.8398 - val_loss: 0.8200 - val_accuracy: 0.8366\n",
      "Epoch 4/30\n",
      "6/6 [==============================] - 0s 18ms/step - loss: 0.7456 - accuracy: 0.8398 - val_loss: 0.6878 - val_accuracy: 0.8366\n",
      "Epoch 5/30\n",
      "6/6 [==============================] - 0s 18ms/step - loss: 0.6645 - accuracy: 0.8398 - val_loss: 0.6561 - val_accuracy: 0.8367\n",
      "Epoch 6/30\n",
      "6/6 [==============================] - 0s 26ms/step - loss: 0.6393 - accuracy: 0.8404 - val_loss: 0.6377 - val_accuracy: 0.8388\n",
      "Epoch 7/30\n",
      "6/6 [==============================] - 0s 21ms/step - loss: 0.6220 - accuracy: 0.8422 - val_loss: 0.6231 - val_accuracy: 0.8389\n",
      "Epoch 8/30\n",
      "6/6 [==============================] - 0s 23ms/step - loss: 0.6073 - accuracy: 0.8427 - val_loss: 0.6103 - val_accuracy: 0.8395\n",
      "Epoch 9/30\n",
      "6/6 [==============================] - 0s 21ms/step - loss: 0.5947 - accuracy: 0.8453 - val_loss: 0.5996 - val_accuracy: 0.8439\n",
      "Epoch 10/30\n",
      "6/6 [==============================] - 0s 24ms/step - loss: 0.5843 - accuracy: 0.8498 - val_loss: 0.5895 - val_accuracy: 0.8524\n",
      "Epoch 11/30\n",
      "6/6 [==============================] - 0s 22ms/step - loss: 0.5735 - accuracy: 0.8580 - val_loss: 0.5801 - val_accuracy: 0.8574\n",
      "Epoch 12/30\n",
      "6/6 [==============================] - 0s 24ms/step - loss: 0.5656 - accuracy: 0.8638 - val_loss: 0.5737 - val_accuracy: 0.8652\n",
      "Epoch 13/30\n",
      "6/6 [==============================] - 0s 22ms/step - loss: 0.5592 - accuracy: 0.8682 - val_loss: 0.5667 - val_accuracy: 0.8657\n",
      "Epoch 14/30\n",
      "6/6 [==============================] - 0s 24ms/step - loss: 0.5527 - accuracy: 0.8698 - val_loss: 0.5618 - val_accuracy: 0.8660\n",
      "Epoch 15/30\n",
      "6/6 [==============================] - 0s 21ms/step - loss: 0.5499 - accuracy: 0.8699 - val_loss: 0.5586 - val_accuracy: 0.8663\n",
      "Epoch 16/30\n",
      "6/6 [==============================] - 0s 20ms/step - loss: 0.5447 - accuracy: 0.8704 - val_loss: 0.5556 - val_accuracy: 0.8664\n",
      "Epoch 17/30\n",
      "6/6 [==============================] - 0s 19ms/step - loss: 0.5411 - accuracy: 0.8708 - val_loss: 0.5543 - val_accuracy: 0.8666\n",
      "Epoch 18/30\n",
      "6/6 [==============================] - 0s 19ms/step - loss: 0.5410 - accuracy: 0.8708 - val_loss: 0.5508 - val_accuracy: 0.8666\n",
      "Epoch 19/30\n",
      "6/6 [==============================] - 0s 18ms/step - loss: 0.5386 - accuracy: 0.8705 - val_loss: 0.5490 - val_accuracy: 0.8666\n",
      "Epoch 20/30\n",
      "6/6 [==============================] - 0s 19ms/step - loss: 0.5363 - accuracy: 0.8709 - val_loss: 0.5544 - val_accuracy: 0.8658\n",
      "Epoch 21/30\n",
      "6/6 [==============================] - 0s 23ms/step - loss: 0.5372 - accuracy: 0.8706 - val_loss: 0.5485 - val_accuracy: 0.8666\n",
      "Epoch 22/30\n",
      "6/6 [==============================] - 0s 21ms/step - loss: 0.5344 - accuracy: 0.8709 - val_loss: 0.5481 - val_accuracy: 0.8673\n",
      "Epoch 23/30\n",
      "6/6 [==============================] - 0s 30ms/step - loss: 0.5359 - accuracy: 0.8707 - val_loss: 0.5462 - val_accuracy: 0.8667\n",
      "Epoch 24/30\n",
      "6/6 [==============================] - 0s 22ms/step - loss: 0.5329 - accuracy: 0.8709 - val_loss: 0.5452 - val_accuracy: 0.8667\n",
      "Epoch 25/30\n",
      "6/6 [==============================] - 0s 21ms/step - loss: 0.5342 - accuracy: 0.8710 - val_loss: 0.5441 - val_accuracy: 0.8668\n",
      "Epoch 26/30\n",
      "6/6 [==============================] - 0s 29ms/step - loss: 0.5326 - accuracy: 0.8709 - val_loss: 0.5451 - val_accuracy: 0.8668\n",
      "Epoch 27/30\n",
      "6/6 [==============================] - 0s 24ms/step - loss: 0.5343 - accuracy: 0.8709 - val_loss: 0.5447 - val_accuracy: 0.8669\n",
      "Epoch 28/30\n",
      "6/6 [==============================] - 0s 25ms/step - loss: 0.5312 - accuracy: 0.8711 - val_loss: 0.5427 - val_accuracy: 0.8675\n",
      "Epoch 29/30\n",
      "6/6 [==============================] - 0s 21ms/step - loss: 0.5313 - accuracy: 0.8710 - val_loss: 0.5417 - val_accuracy: 0.8673\n",
      "Epoch 30/30\n",
      "6/6 [==============================] - 0s 22ms/step - loss: 0.5321 - accuracy: 0.8711 - val_loss: 0.5442 - val_accuracy: 0.8676\n",
      "604/604 [==============================] - 0s 667us/step - loss: 0.5442 - accuracy: 0.8676\n"
     ]
    },
    {
     "data": {
      "text/plain": [
       "0.8675647377967834"
      ]
     },
     "execution_count": 23,
     "metadata": {},
     "output_type": "execute_result"
    }
   ],
   "source": [
    "history = nn.fit(x_train, y_train, epochs = 30, validation_data=(x_dev, y_dev), batch_size = 10000)\n",
    "nn.evaluate(x_dev, y_dev)[1]"
   ]
  },
  {
   "cell_type": "code",
   "execution_count": 24,
   "metadata": {},
   "outputs": [
    {
     "name": "stdout",
     "output_type": "stream",
     "text": [
      "604/604 [==============================] - 0s 717us/step - loss: 0.5387 - accuracy: 0.8690\n"
     ]
    },
    {
     "data": {
      "text/plain": [
       "[0.5387383699417114, 0.8689637184143066]"
      ]
     },
     "execution_count": 24,
     "metadata": {},
     "output_type": "execute_result"
    }
   ],
   "source": [
    "nn.evaluate(x_test, y_test)"
   ]
  },
  {
   "cell_type": "code",
   "execution_count": 25,
   "metadata": {},
   "outputs": [
    {
     "data": {
      "image/png": "[encoded data removed]",
      "text/plain": [
       "<Figure size 1440x504 with 1 Axes>"
      ]
     },
     "metadata": {},
     "output_type": "display_data"
    },
    {
     "data": {
      "image/png": "[encoded data removed]",
      "text/plain": [
       "<Figure size 1440x504 with 1 Axes>"
      ]
     },
     "metadata": {},
     "output_type": "display_data"
    }
   ],
   "source": [
    "import matplotlib.pyplot as plt\n",
    "# Plot training & validation accuracy values\n",
    "plt.plot(history.history['accuracy'], color = 'red')\n",
    "plt.plot(history.history['val_accuracy'], color = 'blue')\n",
    "plt.title('Model accuracy')\n",
    "plt.ylabel('Accuracy')\n",
    "plt.xlabel('Epoch')\n",
    "plt.legend(['Train', 'Validation'], loc='upper left')\n",
    "plt.show()\n",
    "\n",
    "# Plot training & validation loss values\n",
    "plt.plot(history.history['loss'], color = 'red')\n",
    "plt.plot(history.history['val_loss'], color = 'blue')\n",
    "plt.title('Model loss')\n",
    "plt.ylabel('Loss')\n",
    "plt.xlabel('Epoch')\n",
    "plt.legend(['Train', 'Validation'], loc='upper left')\n",
    "plt.show()"
   ]
  },
  {
   "cell_type": "code",
   "execution_count": null,
   "metadata": {},
   "outputs": [],
   "source": []
  }
 ],
 "metadata": {
  "kernelspec": {
   "display_name": "Python 3",
   "language": "python",
   "name": "python3"
  },
  "language_info": {
   "codemirror_mode": {
    "name": "ipython",
    "version": 3
   },
   "file_extension": ".py",
   "mimetype": "text/x-python",
   "name": "python",
   "nbconvert_exporter": "python",
   "pygments_lexer": "ipython3",
   "version": "3.7.6"
  }
 },
 "nbformat": 4,
 "nbformat_minor": 4
}
