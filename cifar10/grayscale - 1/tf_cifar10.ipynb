{
 "cells": [
  {
   "cell_type": "code",
   "execution_count": 192,
   "metadata": {},
   "outputs": [],
   "source": [
    "import numpy as np\n",
    "import pandas as pd\n",
    "import matplotlib as mpl\n",
    "import matplotlib.pyplot as plt\n",
    "from sklearn.metrics import confusion_matrix\n",
    "import tensorflow as tf\n",
    "from keras import models\n",
    "from keras import layers\n",
    "from keras.datasets import cifar10\n",
    "import random"
   ]
  },
  {
   "cell_type": "code",
   "execution_count": 193,
   "metadata": {},
   "outputs": [],
   "source": [
    "random.seed(1)\n",
    "\n",
    "(x_train,y_train),(x_test,y_test) = cifar10.load_data()"
   ]
  },
  {
   "cell_type": "code",
   "execution_count": 194,
   "metadata": {},
   "outputs": [
    {
     "name": "stdout",
     "output_type": "stream",
     "text": [
      "x_train_shape(50000, 32, 32, 3)\n",
      "y_train_shape(50000, 1)\n",
      "x_test_shape(10000, 32, 32, 3)\n",
      "y_test_shape(10000, 1)\n"
     ]
    }
   ],
   "source": [
    "print(\"x_train_shape\"+str(x_train.shape))\n",
    "print(\"y_train_shape\"+str(y_train.shape))\n",
    "print(\"x_test_shape\"+str(x_test.shape))\n",
    "print(\"y_test_shape\"+str(y_test.shape))"
   ]
  },
  {
   "cell_type": "code",
   "execution_count": 195,
   "metadata": {},
   "outputs": [
    {
     "data": {
      "text/plain": [
       "<matplotlib.image.AxesImage at 0x7f9a3755a950>"
      ]
     },
     "execution_count": 195,
     "metadata": {},
     "output_type": "execute_result"
    },
    {
     "data": {
      "image/png": "[encoded data removed]",
      "text/plain": [
       "<Figure size 432x288 with 1 Axes>"
      ]
     },
     "metadata": {
      "needs_background": "light"
     },
     "output_type": "display_data"
    }
   ],
   "source": [
    "from matplotlib import pyplot\n",
    "pyplot.imshow(x_train[201,:,:])"
   ]
  },
  {
   "cell_type": "code",
   "execution_count": 196,
   "metadata": {},
   "outputs": [],
   "source": [
    "# normalize inputs from 0-255 to 0.0-1.0\n",
    "x_train = x_train.astype('float32')\n",
    "x_test = x_test.astype('float32')\n",
    "x_train = x_train / 255.0\n",
    "x_test = x_test / 255.0"
   ]
  },
  {
   "cell_type": "code",
   "execution_count": 197,
   "metadata": {},
   "outputs": [
    {
     "data": {
      "image/png": "[encoded data removed]",
      "text/plain": [
       "<Figure size 288x144 with 2 Axes>"
      ]
     },
     "metadata": {
      "needs_background": "light"
     },
     "output_type": "display_data"
    }
   ],
   "source": [
    "import matplotlib.pyplot as plt\n",
    "\n",
    "def grayscale(data, dtype='float32'):\n",
    "    # luma coding weighted average in video systems\n",
    "    r, g, b = np.asarray(.3, dtype=dtype), np.asarray(.59, dtype=dtype), np.asarray(.11, dtype=dtype)\n",
    "    rst = r * data[:, :, :, 0] + g * data[:, :, :, 1] + b * data[:, :, :, 2]\n",
    "    # add channel dimension\n",
    "    rst = np.expand_dims(rst, axis=3)\n",
    "    return rst\n",
    "\n",
    "x_train_gray = grayscale(x_train)\n",
    "x_test_gray = grayscale(x_test)\n",
    "\n",
    "# now we have only one channel in the images\n",
    "img_channels = 1\n",
    "\n",
    "# plot a randomly chosen image\n",
    "img = 64\n",
    "plt.figure(figsize=(4, 2))\n",
    "plt.subplot(1, 2, 1)\n",
    "plt.imshow(x_train[img], interpolation='none')\n",
    "plt.subplot(1, 2, 2)\n",
    "plt.imshow(x_train_gray[img, :, :, 0], cmap=plt.get_cmap('gray'), interpolation='none')\n",
    "plt.show()"
   ]
  },
  {
   "cell_type": "code",
   "execution_count": 198,
   "metadata": {},
   "outputs": [
    {
     "name": "stdout",
     "output_type": "stream",
     "text": [
      "x_train_shape(50000, 32, 32, 1)\n",
      "y_train_shape(50000, 1)\n",
      "x_test_shape(10000, 32, 32, 1)\n",
      "y_test_shape(10000, 1)\n"
     ]
    }
   ],
   "source": [
    "print(\"x_train_shape\"+str(x_train_gray.shape))\n",
    "print(\"y_train_shape\"+str(y_train.shape))\n",
    "print(\"x_test_shape\"+str(x_test_gray.shape))\n",
    "print(\"y_test_shape\"+str(y_test.shape))"
   ]
  },
  {
   "cell_type": "code",
   "execution_count": 199,
   "metadata": {},
   "outputs": [
    {
     "name": "stdout",
     "output_type": "stream",
     "text": [
      "[[3]\n",
      " [8]\n",
      " [8]\n",
      " ...\n",
      " [5]\n",
      " [1]\n",
      " [7]]\n"
     ]
    }
   ],
   "source": [
    "print(y_test)"
   ]
  },
  {
   "cell_type": "code",
   "execution_count": 200,
   "metadata": {},
   "outputs": [],
   "source": [
    "#step 2 Build Models\n",
    "#blank model\n",
    "nn = models.Sequential()"
   ]
  },
  {
   "cell_type": "code",
   "execution_count": 201,
   "metadata": {},
   "outputs": [],
   "source": [
    "#add layer1\n",
    "nn.add(layers.Dense(512,activation=\"relu\",input_shape =(32*32,)))\n",
    "#add layer2\n",
    "nn.add(layers.Dense(256,activation=\"tanh\"))\n",
    "#add layer3\n",
    "nn.add(layers.Dense(128,activation=\"relu\"))\n",
    "#add layer4\n",
    "nn.add(layers.Dense(10,activation = \"softmax\"))"
   ]
  },
  {
   "cell_type": "code",
   "execution_count": 202,
   "metadata": {},
   "outputs": [
    {
     "data": {
      "text/plain": [
       "(10000, 32, 32, 1)"
      ]
     },
     "execution_count": 202,
     "metadata": {},
     "output_type": "execute_result"
    }
   ],
   "source": [
    "x_test_gray.shape"
   ]
  },
  {
   "cell_type": "code",
   "execution_count": 203,
   "metadata": {},
   "outputs": [],
   "source": [
    "#step 3 preprocessing \n",
    "gx_train = x_train_gray.reshape((50000, 32*32))\n",
    "gx_test = x_test_gray.reshape((10000, 32*32))"
   ]
  },
  {
   "cell_type": "code",
   "execution_count": 204,
   "metadata": {},
   "outputs": [
    {
     "data": {
      "text/plain": [
       "(50000, 10)"
      ]
     },
     "execution_count": 204,
     "metadata": {},
     "output_type": "execute_result"
    }
   ],
   "source": [
    "from keras.utils import to_categorical\n",
    "y_train = to_categorical(y_train)\n",
    "y_test = to_categorical(y_test)\n",
    "y_train.shape"
   ]
  },
  {
   "cell_type": "code",
   "execution_count": 205,
   "metadata": {},
   "outputs": [
    {
     "name": "stdout",
     "output_type": "stream",
     "text": [
      "x_train_shape(50000, 1024)\n",
      "y_train_shape(50000, 10)\n",
      "x_test_shape(10000, 1024)\n",
      "y_test_shape(10000, 10)\n"
     ]
    }
   ],
   "source": [
    "print(\"x_train_shape\"+str(gx_train.shape))\n",
    "print(\"y_train_shape\"+str(y_train.shape))\n",
    "print(\"x_test_shape\"+str(gx_test.shape))\n",
    "print(\"y_test_shape\"+str(y_test.shape))"
   ]
  },
  {
   "cell_type": "code",
   "execution_count": 206,
   "metadata": {},
   "outputs": [],
   "source": [
    "#step 4 compile\n",
    "nn.compile(optimizer=\"adam\",\n",
    "           loss='categorical_crossentropy',\n",
    "           metrics = ['accuracy'])"
   ]
  },
  {
   "cell_type": "code",
   "execution_count": 207,
   "metadata": {},
   "outputs": [
    {
     "name": "stdout",
     "output_type": "stream",
     "text": [
      "Epoch 1/10\n",
      "391/391 [==============================] - 2s 5ms/step - loss: 2.0248 - accuracy: 0.2652\n",
      "Epoch 2/10\n",
      "391/391 [==============================] - 2s 5ms/step - loss: 1.8631 - accuracy: 0.3306\n",
      "Epoch 3/10\n",
      "391/391 [==============================] - 2s 5ms/step - loss: 1.8001 - accuracy: 0.3548\n",
      "Epoch 4/10\n",
      "391/391 [==============================] - 2s 5ms/step - loss: 1.7504 - accuracy: 0.3752\n",
      "Epoch 5/10\n",
      "391/391 [==============================] - 2s 5ms/step - loss: 1.7121 - accuracy: 0.3891\n",
      "Epoch 6/10\n",
      "391/391 [==============================] - 2s 5ms/step - loss: 1.6792 - accuracy: 0.3987\n",
      "Epoch 7/10\n",
      "391/391 [==============================] - 2s 5ms/step - loss: 1.6466 - accuracy: 0.4137\n",
      "Epoch 8/10\n",
      "391/391 [==============================] - 2s 5ms/step - loss: 1.6193 - accuracy: 0.4218\n",
      "Epoch 9/10\n",
      "391/391 [==============================] - 2s 5ms/step - loss: 1.5924 - accuracy: 0.4347\n",
      "Epoch 10/10\n",
      "391/391 [==============================] - 2s 5ms/step - loss: 1.5643 - accuracy: 0.4430\n"
     ]
    },
    {
     "data": {
      "text/plain": [
       "<tensorflow.python.keras.callbacks.History at 0x7f99ab7cbc50>"
      ]
     },
     "execution_count": 207,
     "metadata": {},
     "output_type": "execute_result"
    }
   ],
   "source": [
    "nn.fit(gx_train,y_train,epochs=10,batch_size=128)"
   ]
  },
  {
   "cell_type": "code",
   "execution_count": 208,
   "metadata": {},
   "outputs": [
    {
     "name": "stdout",
     "output_type": "stream",
     "text": [
      "313/313 [==============================] - 0s 1ms/step - loss: 1.6302 - accuracy: 0.4207\n"
     ]
    }
   ],
   "source": [
    "test_loss,test_accuracy = nn.evaluate(gx_test,y_test)"
   ]
  },
  {
   "cell_type": "code",
   "execution_count": 209,
   "metadata": {},
   "outputs": [
    {
     "data": {
      "text/plain": [
       "0.4207000136375427"
      ]
     },
     "execution_count": 209,
     "metadata": {},
     "output_type": "execute_result"
    }
   ],
   "source": [
    "test_accuracy"
   ]
  },
  {
   "cell_type": "code",
   "execution_count": null,
   "metadata": {},
   "outputs": [],
   "source": []
  },
  {
   "cell_type": "code",
   "execution_count": null,
   "metadata": {},
   "outputs": [],
   "source": []
  }
 ],
 "metadata": {
  "kernelspec": {
   "display_name": "Python 3",
   "language": "python",
   "name": "python3"
  },
  "language_info": {
   "codemirror_mode": {
    "name": "ipython",
    "version": 3
   },
   "file_extension": ".py",
   "mimetype": "text/x-python",
   "name": "python",
   "nbconvert_exporter": "python",
   "pygments_lexer": "ipython3",
   "version": "3.7.6"
  }
 },
 "nbformat": 4,
 "nbformat_minor": 4
}
