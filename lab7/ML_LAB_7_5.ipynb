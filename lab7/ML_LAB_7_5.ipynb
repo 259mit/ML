{
  "nbformat": 4,
  "nbformat_minor": 0,
  "metadata": {
    "colab": {
      "name": "ML LAB_7_5.ipynb",
      "provenance": []
    },
    "kernelspec": {
      "name": "python3",
      "display_name": "Python 3"
    }
  },
  "cells": [
    {
      "cell_type": "code",
      "metadata": {
        "colab_type": "code",
        "id": "qRvOZy6cUcmR",
        "colab": {}
      },
      "source": [
        "import pandas as pd\n",
        "import numpy as np\n",
        "from sklearn.datasets import fetch_covtype, fetch_kddcup99, fetch_lfw_pairs, fetch_lfw_people, fetch_olivetti_faces\n",
        "from sklearn.datasets import fetch_rcv1, load_breast_cancer, load_digits, load_wine"
      ],
      "execution_count": 1,
      "outputs": []
    },
    {
      "cell_type": "code",
      "metadata": {
        "colab_type": "code",
        "id": "Md0CGMe8XZAr",
        "colab": {}
      },
      "source": [
        "from sklearn.model_selection import train_test_split\n",
        "from sklearn.preprocessing import LabelEncoder, StandardScaler\n",
        "from scipy.sparse import csr_matrix\n",
        "import matplotlib.pyplot as plt"
      ],
      "execution_count": 2,
      "outputs": []
    },
    {
      "cell_type": "code",
      "metadata": {
        "colab_type": "code",
        "id": "J2HN_WLXatPP",
        "colab": {}
      },
      "source": [
        "from keras import models\n",
        "from keras import layers\n",
        "from keras.utils import to_categorical\n",
        "import tensorflow as tf"
      ],
      "execution_count": 4,
      "outputs": []
    },
    {
      "cell_type": "markdown",
      "metadata": {
        "colab_type": "text",
        "id": "TNPLboC_1sli"
      },
      "source": [
        "Wine Dataset"
      ]
    },
    {
      "cell_type": "code",
      "metadata": {
        "colab_type": "code",
        "id": "DfodpdkP1slj",
        "colab": {}
      },
      "source": [
        "wine = load_wine()\n",
        "x_load_wine = wine.data\n",
        "y_load_wine = wine.target"
      ],
      "execution_count": 27,
      "outputs": []
    },
    {
      "cell_type": "code",
      "metadata": {
        "colab_type": "code",
        "id": "bqr6BXUs1sll",
        "colab": {
          "base_uri": "https://localhost:8080/",
          "height": 51
        },
        "outputId": "9573bfeb-7f3e-4f08-a3e5-08a8e3e08ace"
      },
      "source": [
        "x_wine = pd.DataFrame(x_load_wine)\n",
        "y_wine = pd.DataFrame(y_load_wine)\n",
        "print(x_wine.shape)\n",
        "print(y_wine.shape)"
      ],
      "execution_count": 28,
      "outputs": [
        {
          "output_type": "stream",
          "text": [
            "(178, 13)\n",
            "(178, 1)\n"
          ],
          "name": "stdout"
        }
      ]
    },
    {
      "cell_type": "code",
      "metadata": {
        "colab_type": "code",
        "id": "2Bh3RkXb1sln",
        "colab": {}
      },
      "source": [
        "sc = StandardScaler()\n",
        "x_wine = pd.DataFrame(sc.fit_transform(x_wine))"
      ],
      "execution_count": 29,
      "outputs": []
    },
    {
      "cell_type": "code",
      "metadata": {
        "colab_type": "code",
        "id": "1w-fMWoJ1slo",
        "colab": {
          "base_uri": "https://localhost:8080/",
          "height": 68
        },
        "outputId": "bb34e9b0-94ba-413f-a821-8e87890f8a56"
      },
      "source": [
        "y_wine = to_categorical(y_wine)\n",
        "x_train, x_test, y_train, y_test = train_test_split(x_wine, y_wine, test_size = 0.2, shuffle = True)\n",
        "x_dev, x_test, y_dev, y_test = train_test_split(x_test, y_test, test_size = 0.5, shuffle = True)\n",
        "print(x_train.shape, y_train.shape)\n",
        "print(x_dev.shape, y_dev.shape)\n",
        "print(x_test.shape, y_test.shape)"
      ],
      "execution_count": 30,
      "outputs": [
        {
          "output_type": "stream",
          "text": [
            "(142, 13) (142, 3)\n",
            "(18, 13) (18, 3)\n",
            "(18, 13) (18, 3)\n"
          ],
          "name": "stdout"
        }
      ]
    },
    {
      "cell_type": "code",
      "metadata": {
        "colab_type": "code",
        "id": "fe-3p9o41slr",
        "colab": {}
      },
      "source": [
        "nn_wine = models.Sequential()\n",
        "\n",
        "nn_wine.add(layers.Dense(128, activation = 'relu', input_shape = (13, )))\n",
        "nn_wine.add(layers.Dense(32, activation = 'relu'))\n",
        "nn_wine.add(layers.Dense(3, activation = 'sigmoid'))\n",
        "\n",
        "nn_wine.compile(optimizer = 'sgd', loss = 'binary_crossentropy', metrics = ['accuracy'])\n",
        "class myCallback(tf.keras.callbacks.Callback):\n",
        "    def on_epoch_end(self, epoch, logs={}):\n",
        "        if(logs.get('accuracy')>0.99):\n",
        "            print(\"\\nReached 99% accuracy so cancelling training!\")\n",
        "            self.model.stop_training = True\n",
        "\n",
        "callbacks = myCallback()"
      ],
      "execution_count": 31,
      "outputs": []
    },
    {
      "cell_type": "code",
      "metadata": {
        "colab_type": "code",
        "id": "JQdlOSkG1sls",
        "colab": {
          "base_uri": "https://localhost:8080/",
          "height": 1000
        },
        "outputId": "9cd0d540-19fa-4313-9ee6-03bb1f442453"
      },
      "source": [
        "wine_history = nn_wine.fit(x_train, y_train, epochs = 50, validation_data = (x_dev, y_dev), callbacks=[callbacks])\n",
        "\n",
        "wine_dev_acc = nn_wine.evaluate(x_dev, y_dev)[1]\n",
        "print('The dev accuracy is', wine_dev_acc)"
      ],
      "execution_count": 32,
      "outputs": [
        {
          "output_type": "stream",
          "text": [
            "Epoch 1/50\n",
            "5/5 [==============================] - 0s 32ms/step - loss: 0.7046 - accuracy: 0.4014 - val_loss: 0.6809 - val_accuracy: 0.5556\n",
            "Epoch 2/50\n",
            "5/5 [==============================] - 0s 5ms/step - loss: 0.6938 - accuracy: 0.4296 - val_loss: 0.6699 - val_accuracy: 0.5556\n",
            "Epoch 3/50\n",
            "5/5 [==============================] - 0s 5ms/step - loss: 0.6833 - accuracy: 0.4437 - val_loss: 0.6588 - val_accuracy: 0.5556\n",
            "Epoch 4/50\n",
            "5/5 [==============================] - 0s 5ms/step - loss: 0.6730 - accuracy: 0.4437 - val_loss: 0.6481 - val_accuracy: 0.6667\n",
            "Epoch 5/50\n",
            "5/5 [==============================] - 0s 5ms/step - loss: 0.6633 - accuracy: 0.4648 - val_loss: 0.6381 - val_accuracy: 0.6667\n",
            "Epoch 6/50\n",
            "5/5 [==============================] - 0s 5ms/step - loss: 0.6538 - accuracy: 0.4718 - val_loss: 0.6288 - val_accuracy: 0.6667\n",
            "Epoch 7/50\n",
            "5/5 [==============================] - 0s 5ms/step - loss: 0.6445 - accuracy: 0.4930 - val_loss: 0.6195 - val_accuracy: 0.7222\n",
            "Epoch 8/50\n",
            "5/5 [==============================] - 0s 5ms/step - loss: 0.6353 - accuracy: 0.5141 - val_loss: 0.6102 - val_accuracy: 0.7222\n",
            "Epoch 9/50\n",
            "5/5 [==============================] - 0s 6ms/step - loss: 0.6265 - accuracy: 0.5563 - val_loss: 0.6016 - val_accuracy: 0.7222\n",
            "Epoch 10/50\n",
            "5/5 [==============================] - 0s 5ms/step - loss: 0.6182 - accuracy: 0.5775 - val_loss: 0.5934 - val_accuracy: 0.7222\n",
            "Epoch 11/50\n",
            "5/5 [==============================] - 0s 5ms/step - loss: 0.6097 - accuracy: 0.5986 - val_loss: 0.5852 - val_accuracy: 0.7222\n",
            "Epoch 12/50\n",
            "5/5 [==============================] - 0s 5ms/step - loss: 0.6016 - accuracy: 0.6127 - val_loss: 0.5770 - val_accuracy: 0.7778\n",
            "Epoch 13/50\n",
            "5/5 [==============================] - 0s 5ms/step - loss: 0.5935 - accuracy: 0.6549 - val_loss: 0.5693 - val_accuracy: 0.7778\n",
            "Epoch 14/50\n",
            "5/5 [==============================] - 0s 5ms/step - loss: 0.5858 - accuracy: 0.6690 - val_loss: 0.5617 - val_accuracy: 0.7778\n",
            "Epoch 15/50\n",
            "5/5 [==============================] - 0s 5ms/step - loss: 0.5783 - accuracy: 0.6831 - val_loss: 0.5543 - val_accuracy: 0.7778\n",
            "Epoch 16/50\n",
            "5/5 [==============================] - 0s 5ms/step - loss: 0.5708 - accuracy: 0.6972 - val_loss: 0.5473 - val_accuracy: 0.7778\n",
            "Epoch 17/50\n",
            "5/5 [==============================] - 0s 5ms/step - loss: 0.5637 - accuracy: 0.6972 - val_loss: 0.5404 - val_accuracy: 0.8889\n",
            "Epoch 18/50\n",
            "5/5 [==============================] - 0s 5ms/step - loss: 0.5568 - accuracy: 0.7183 - val_loss: 0.5333 - val_accuracy: 0.8889\n",
            "Epoch 19/50\n",
            "5/5 [==============================] - 0s 5ms/step - loss: 0.5498 - accuracy: 0.7465 - val_loss: 0.5264 - val_accuracy: 0.8889\n",
            "Epoch 20/50\n",
            "5/5 [==============================] - 0s 5ms/step - loss: 0.5429 - accuracy: 0.7606 - val_loss: 0.5200 - val_accuracy: 0.8889\n",
            "Epoch 21/50\n",
            "5/5 [==============================] - 0s 5ms/step - loss: 0.5362 - accuracy: 0.7746 - val_loss: 0.5136 - val_accuracy: 0.8889\n",
            "Epoch 22/50\n",
            "5/5 [==============================] - 0s 5ms/step - loss: 0.5296 - accuracy: 0.7887 - val_loss: 0.5073 - val_accuracy: 0.8889\n",
            "Epoch 23/50\n",
            "5/5 [==============================] - 0s 6ms/step - loss: 0.5231 - accuracy: 0.8169 - val_loss: 0.5009 - val_accuracy: 0.8333\n",
            "Epoch 24/50\n",
            "5/5 [==============================] - 0s 5ms/step - loss: 0.5167 - accuracy: 0.8239 - val_loss: 0.4946 - val_accuracy: 0.8333\n",
            "Epoch 25/50\n",
            "5/5 [==============================] - 0s 5ms/step - loss: 0.5103 - accuracy: 0.8310 - val_loss: 0.4884 - val_accuracy: 0.8333\n",
            "Epoch 26/50\n",
            "5/5 [==============================] - 0s 5ms/step - loss: 0.5041 - accuracy: 0.8451 - val_loss: 0.4824 - val_accuracy: 0.8333\n",
            "Epoch 27/50\n",
            "5/5 [==============================] - 0s 5ms/step - loss: 0.4979 - accuracy: 0.8521 - val_loss: 0.4765 - val_accuracy: 0.8333\n",
            "Epoch 28/50\n",
            "5/5 [==============================] - 0s 5ms/step - loss: 0.4920 - accuracy: 0.8592 - val_loss: 0.4707 - val_accuracy: 0.8333\n",
            "Epoch 29/50\n",
            "5/5 [==============================] - 0s 6ms/step - loss: 0.4860 - accuracy: 0.8592 - val_loss: 0.4647 - val_accuracy: 0.8333\n",
            "Epoch 30/50\n",
            "5/5 [==============================] - 0s 5ms/step - loss: 0.4799 - accuracy: 0.8592 - val_loss: 0.4589 - val_accuracy: 0.8333\n",
            "Epoch 31/50\n",
            "5/5 [==============================] - 0s 5ms/step - loss: 0.4739 - accuracy: 0.8662 - val_loss: 0.4533 - val_accuracy: 0.8333\n",
            "Epoch 32/50\n",
            "5/5 [==============================] - 0s 6ms/step - loss: 0.4679 - accuracy: 0.8803 - val_loss: 0.4480 - val_accuracy: 0.8333\n",
            "Epoch 33/50\n",
            "5/5 [==============================] - 0s 5ms/step - loss: 0.4619 - accuracy: 0.8944 - val_loss: 0.4425 - val_accuracy: 0.8333\n",
            "Epoch 34/50\n",
            "5/5 [==============================] - 0s 5ms/step - loss: 0.4560 - accuracy: 0.8944 - val_loss: 0.4369 - val_accuracy: 0.8333\n",
            "Epoch 35/50\n",
            "5/5 [==============================] - 0s 6ms/step - loss: 0.4502 - accuracy: 0.8944 - val_loss: 0.4314 - val_accuracy: 0.8333\n",
            "Epoch 36/50\n",
            "5/5 [==============================] - 0s 5ms/step - loss: 0.4445 - accuracy: 0.9014 - val_loss: 0.4261 - val_accuracy: 0.8333\n",
            "Epoch 37/50\n",
            "5/5 [==============================] - 0s 5ms/step - loss: 0.4387 - accuracy: 0.9014 - val_loss: 0.4206 - val_accuracy: 0.8889\n",
            "Epoch 38/50\n",
            "5/5 [==============================] - 0s 5ms/step - loss: 0.4330 - accuracy: 0.9085 - val_loss: 0.4153 - val_accuracy: 0.8889\n",
            "Epoch 39/50\n",
            "5/5 [==============================] - 0s 5ms/step - loss: 0.4275 - accuracy: 0.9085 - val_loss: 0.4101 - val_accuracy: 0.8889\n",
            "Epoch 40/50\n",
            "5/5 [==============================] - 0s 6ms/step - loss: 0.4218 - accuracy: 0.9366 - val_loss: 0.4050 - val_accuracy: 0.8889\n",
            "Epoch 41/50\n",
            "5/5 [==============================] - 0s 6ms/step - loss: 0.4163 - accuracy: 0.9437 - val_loss: 0.3999 - val_accuracy: 0.9444\n",
            "Epoch 42/50\n",
            "5/5 [==============================] - 0s 5ms/step - loss: 0.4110 - accuracy: 0.9437 - val_loss: 0.3948 - val_accuracy: 0.9444\n",
            "Epoch 43/50\n",
            "5/5 [==============================] - 0s 5ms/step - loss: 0.4055 - accuracy: 0.9437 - val_loss: 0.3899 - val_accuracy: 0.9444\n",
            "Epoch 44/50\n",
            "5/5 [==============================] - 0s 6ms/step - loss: 0.4002 - accuracy: 0.9507 - val_loss: 0.3851 - val_accuracy: 0.9444\n",
            "Epoch 45/50\n",
            "5/5 [==============================] - 0s 5ms/step - loss: 0.3949 - accuracy: 0.9507 - val_loss: 0.3802 - val_accuracy: 0.9444\n",
            "Epoch 46/50\n",
            "5/5 [==============================] - 0s 5ms/step - loss: 0.3896 - accuracy: 0.9507 - val_loss: 0.3755 - val_accuracy: 0.9444\n",
            "Epoch 47/50\n",
            "5/5 [==============================] - 0s 5ms/step - loss: 0.3844 - accuracy: 0.9577 - val_loss: 0.3707 - val_accuracy: 0.9444\n",
            "Epoch 48/50\n",
            "5/5 [==============================] - 0s 5ms/step - loss: 0.3790 - accuracy: 0.9648 - val_loss: 0.3656 - val_accuracy: 0.9444\n",
            "Epoch 49/50\n",
            "5/5 [==============================] - 0s 5ms/step - loss: 0.3739 - accuracy: 0.9648 - val_loss: 0.3608 - val_accuracy: 0.9444\n",
            "Epoch 50/50\n",
            "5/5 [==============================] - 0s 5ms/step - loss: 0.3689 - accuracy: 0.9648 - val_loss: 0.3561 - val_accuracy: 0.9444\n",
            "1/1 [==============================] - 0s 2ms/step - loss: 0.3561 - accuracy: 0.9444\n",
            "The dev accuracy is 0.9444444179534912\n"
          ],
          "name": "stdout"
        }
      ]
    },
    {
      "cell_type": "markdown",
      "metadata": {
        "colab_type": "text",
        "id": "X2IU2Z2f1slu"
      },
      "source": [
        "Plotting Accuracy & Validation Accuracy with Epoch\n",
        "\n",
        "Plotting Loss & Validation Loss with Epoch"
      ]
    },
    {
      "cell_type": "code",
      "metadata": {
        "colab_type": "code",
        "id": "JBIjT_rO1slv",
        "colab": {
          "base_uri": "https://localhost:8080/",
          "height": 899
        },
        "outputId": "e70cc1ea-5258-42ec-a957-d0bdae605486"
      },
      "source": [
        "plt.figure(figsize = (10,7))\n",
        "plt.plot(wine_history.history['accuracy'], color = 'blue')\n",
        "plt.plot(wine_history.history['val_accuracy'], color = 'red')\n",
        "plt.title('Model accuracy')\n",
        "plt.ylabel('Accuracy')\n",
        "plt.xlabel('Epoch')\n",
        "plt.legend(['Train', 'Validation'], loc='upper left')\n",
        "plt.show()\n",
        "\n",
        "plt.figure(figsize = (10,7))\n",
        "plt.plot(wine_history.history['loss'], color = 'blue')\n",
        "plt.plot(wine_history.history['val_loss'], color = 'red')\n",
        "# plt.ylim((0,3))\n",
        "plt.title('Model loss')\n",
        "plt.ylabel('Loss')\n",
        "plt.xlabel('Epoch')\n",
        "plt.legend(['Train', 'Validation'], loc='upper left')\n",
        "plt.show()"
      ],
      "execution_count": 33,
      "outputs": [
        {
          "output_type": "display_data",
          "data": {
            "image/png": "[encoded data removed]",
            "text/plain": [
              "<Figure size 720x504 with 1 Axes>"
            ]
          },
          "metadata": {
            "tags": [],
            "needs_background": "light"
          }
        },
        {
          "output_type": "display_data",
          "data": {
            "image/png": "[encoded data removed]",
            "text/plain": [
              "<Figure size 720x504 with 1 Axes>"
            ]
          },
          "metadata": {
            "tags": [],
            "needs_background": "light"
          }
        }
      ]
    },
    {
      "cell_type": "code",
      "metadata": {
        "colab_type": "code",
        "id": "i4edNRv61sly",
        "colab": {
          "base_uri": "https://localhost:8080/",
          "height": 51
        },
        "outputId": "240d07bf-c454-4221-b4e7-ec2337db7274"
      },
      "source": [
        "wine_test_acc = nn_wine.evaluate(x_test, y_test)[1]\n",
        "print('The test accuracy is', wine_test_acc)"
      ],
      "execution_count": 34,
      "outputs": [
        {
          "output_type": "stream",
          "text": [
            "1/1 [==============================] - 0s 1ms/step - loss: 0.3717 - accuracy: 1.0000\n",
            "The test accuracy is 1.0\n"
          ],
          "name": "stdout"
        }
      ]
    }
  ]
}