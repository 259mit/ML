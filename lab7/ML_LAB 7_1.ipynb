{
 "cells": [
  {
   "cell_type": "markdown",
   "metadata": {},
   "source": [
    "### TITANIC DATASET"
   ]
  },
  {
   "cell_type": "markdown",
   "metadata": {},
   "source": [
    "### Import Libraries, Read Data"
   ]
  },
  {
   "cell_type": "code",
   "execution_count": 1,
   "metadata": {},
   "outputs": [],
   "source": [
    "import numpy as np\n",
    "import pandas as pd\n",
    "import matplotlib.pyplot as plt\n",
    "import seaborn as sns"
   ]
  },
  {
   "cell_type": "code",
   "execution_count": 4,
   "metadata": {},
   "outputs": [
    {
     "name": "stdout",
     "output_type": "stream",
     "text": [
      "(891, 12)\n",
      " \n"
     ]
    },
    {
     "data": {
      "text/html": [
       "<div>\n",
       "<style scoped>\n",
       "    .dataframe tbody tr th:only-of-type {\n",
       "        vertical-align: middle;\n",
       "    }\n",
       "\n",
       "    .dataframe tbody tr th {\n",
       "        vertical-align: top;\n",
       "    }\n",
       "\n",
       "    .dataframe thead th {\n",
       "        text-align: right;\n",
       "    }\n",
       "</style>\n",
       "<table border=\"1\" class=\"dataframe\">\n",
       "  <thead>\n",
       "    <tr style=\"text-align: right;\">\n",
       "      <th></th>\n",
       "      <th>PassengerId</th>\n",
       "      <th>Survived</th>\n",
       "      <th>Pclass</th>\n",
       "      <th>Name</th>\n",
       "      <th>Sex</th>\n",
       "      <th>Age</th>\n",
       "      <th>SibSp</th>\n",
       "      <th>Parch</th>\n",
       "      <th>Ticket</th>\n",
       "      <th>Fare</th>\n",
       "      <th>Cabin</th>\n",
       "      <th>Embarked</th>\n",
       "    </tr>\n",
       "  </thead>\n",
       "  <tbody>\n",
       "    <tr>\n",
       "      <th>0</th>\n",
       "      <td>1</td>\n",
       "      <td>0</td>\n",
       "      <td>3</td>\n",
       "      <td>Braund, Mr. Owen Harris</td>\n",
       "      <td>male</td>\n",
       "      <td>22.0</td>\n",
       "      <td>1</td>\n",
       "      <td>0</td>\n",
       "      <td>A/5 21171</td>\n",
       "      <td>7.2500</td>\n",
       "      <td>NaN</td>\n",
       "      <td>S</td>\n",
       "    </tr>\n",
       "    <tr>\n",
       "      <th>1</th>\n",
       "      <td>2</td>\n",
       "      <td>1</td>\n",
       "      <td>1</td>\n",
       "      <td>Cumings, Mrs. John Bradley (Florence Briggs Th...</td>\n",
       "      <td>female</td>\n",
       "      <td>38.0</td>\n",
       "      <td>1</td>\n",
       "      <td>0</td>\n",
       "      <td>PC 17599</td>\n",
       "      <td>71.2833</td>\n",
       "      <td>C85</td>\n",
       "      <td>C</td>\n",
       "    </tr>\n",
       "    <tr>\n",
       "      <th>2</th>\n",
       "      <td>3</td>\n",
       "      <td>1</td>\n",
       "      <td>3</td>\n",
       "      <td>Heikkinen, Miss. Laina</td>\n",
       "      <td>female</td>\n",
       "      <td>26.0</td>\n",
       "      <td>0</td>\n",
       "      <td>0</td>\n",
       "      <td>STON/O2. 3101282</td>\n",
       "      <td>7.9250</td>\n",
       "      <td>NaN</td>\n",
       "      <td>S</td>\n",
       "    </tr>\n",
       "    <tr>\n",
       "      <th>3</th>\n",
       "      <td>4</td>\n",
       "      <td>1</td>\n",
       "      <td>1</td>\n",
       "      <td>Futrelle, Mrs. Jacques Heath (Lily May Peel)</td>\n",
       "      <td>female</td>\n",
       "      <td>35.0</td>\n",
       "      <td>1</td>\n",
       "      <td>0</td>\n",
       "      <td>113803</td>\n",
       "      <td>53.1000</td>\n",
       "      <td>C123</td>\n",
       "      <td>S</td>\n",
       "    </tr>\n",
       "    <tr>\n",
       "      <th>4</th>\n",
       "      <td>5</td>\n",
       "      <td>0</td>\n",
       "      <td>3</td>\n",
       "      <td>Allen, Mr. William Henry</td>\n",
       "      <td>male</td>\n",
       "      <td>35.0</td>\n",
       "      <td>0</td>\n",
       "      <td>0</td>\n",
       "      <td>373450</td>\n",
       "      <td>8.0500</td>\n",
       "      <td>NaN</td>\n",
       "      <td>S</td>\n",
       "    </tr>\n",
       "  </tbody>\n",
       "</table>\n",
       "</div>"
      ],
      "text/plain": [
       "   PassengerId  Survived  Pclass  \\\n",
       "0            1         0       3   \n",
       "1            2         1       1   \n",
       "2            3         1       3   \n",
       "3            4         1       1   \n",
       "4            5         0       3   \n",
       "\n",
       "                                                Name     Sex   Age  SibSp  \\\n",
       "0                            Braund, Mr. Owen Harris    male  22.0      1   \n",
       "1  Cumings, Mrs. John Bradley (Florence Briggs Th...  female  38.0      1   \n",
       "2                             Heikkinen, Miss. Laina  female  26.0      0   \n",
       "3       Futrelle, Mrs. Jacques Heath (Lily May Peel)  female  35.0      1   \n",
       "4                           Allen, Mr. William Henry    male  35.0      0   \n",
       "\n",
       "   Parch            Ticket     Fare Cabin Embarked  \n",
       "0      0         A/5 21171   7.2500   NaN        S  \n",
       "1      0          PC 17599  71.2833   C85        C  \n",
       "2      0  STON/O2. 3101282   7.9250   NaN        S  \n",
       "3      0            113803  53.1000  C123        S  \n",
       "4      0            373450   8.0500   NaN        S  "
      ]
     },
     "execution_count": 4,
     "metadata": {},
     "output_type": "execute_result"
    }
   ],
   "source": [
    "data = pd.read_csv('/Users/home/Downloads/train.csv')\n",
    "data1 = data\n",
    "print(data.shape)\n",
    "print(' ')\n",
    "data.head()"
   ]
  },
  {
   "cell_type": "markdown",
   "metadata": {},
   "source": [
    "### Data Cleaning"
   ]
  },
  {
   "cell_type": "code",
   "execution_count": 5,
   "metadata": {},
   "outputs": [
    {
     "name": "stdout",
     "output_type": "stream",
     "text": [
      "     PassengerId  Survived  Pclass   Name    Sex    Age  SibSp  Parch  Ticket  \\\n",
      "0          False     False   False  False  False  False  False  False   False   \n",
      "1          False     False   False  False  False  False  False  False   False   \n",
      "2          False     False   False  False  False  False  False  False   False   \n",
      "3          False     False   False  False  False  False  False  False   False   \n",
      "4          False     False   False  False  False  False  False  False   False   \n",
      "..           ...       ...     ...    ...    ...    ...    ...    ...     ...   \n",
      "886        False     False   False  False  False  False  False  False   False   \n",
      "887        False     False   False  False  False  False  False  False   False   \n",
      "888        False     False   False  False  False   True  False  False   False   \n",
      "889        False     False   False  False  False  False  False  False   False   \n",
      "890        False     False   False  False  False  False  False  False   False   \n",
      "\n",
      "      Fare  Cabin  Embarked  \n",
      "0    False   True     False  \n",
      "1    False  False     False  \n",
      "2    False   True     False  \n",
      "3    False  False     False  \n",
      "4    False   True     False  \n",
      "..     ...    ...       ...  \n",
      "886  False   True     False  \n",
      "887  False  False     False  \n",
      "888  False   True     False  \n",
      "889  False  False     False  \n",
      "890  False   True     False  \n",
      "\n",
      "[891 rows x 12 columns]\n"
     ]
    }
   ],
   "source": [
    "print(data.isnull())"
   ]
  },
  {
   "cell_type": "code",
   "execution_count": 6,
   "metadata": {},
   "outputs": [
    {
     "data": {
      "text/plain": [
       "PassengerId      0\n",
       "Survived         0\n",
       "Pclass           0\n",
       "Name             0\n",
       "Sex              0\n",
       "Age            177\n",
       "SibSp            0\n",
       "Parch            0\n",
       "Ticket           0\n",
       "Fare             0\n",
       "Cabin          687\n",
       "Embarked         2\n",
       "dtype: int64"
      ]
     },
     "execution_count": 6,
     "metadata": {},
     "output_type": "execute_result"
    }
   ],
   "source": [
    "data.isnull().sum()"
   ]
  },
  {
   "cell_type": "code",
   "execution_count": 7,
   "metadata": {},
   "outputs": [],
   "source": [
    "data = data.replace('?', np.nan)"
   ]
  },
  {
   "cell_type": "code",
   "execution_count": 8,
   "metadata": {},
   "outputs": [
    {
     "name": "stdout",
     "output_type": "stream",
     "text": [
      "Columns with NA values\n",
      "\n",
      "Age         177\n",
      "Cabin       687\n",
      "Embarked      2\n",
      "dtype: int64\n",
      "\n",
      "Total NA values = 866\n"
     ]
    }
   ],
   "source": [
    "colna_sum = data.isnull().sum()\n",
    "print(\"Columns with NA values\")\n",
    "print(\"\")\n",
    "print(colna_sum[colna_sum>0])\n",
    "print(\"\")\n",
    "print(\"Total NA values = {naval_sum:n}\".format(naval_sum = data.isnull().sum().sum()))"
   ]
  },
  {
   "cell_type": "code",
   "execution_count": 9,
   "metadata": {},
   "outputs": [],
   "source": [
    "def replacena_mean(df,k):\n",
    "    for i in k:\n",
    "        a = df[i].astype('float').mean(axis =0)\n",
    "        df[i].replace(np.nan,a,inplace= True)\n",
    "    return df\n",
    "\n",
    "def replacena_mode(df,k):\n",
    "    for i in k:\n",
    "        df[i].fillna(df[i].mode()[0], inplace = True)\n",
    "    return df\n",
    "\n",
    "def replacena_median(df,k):\n",
    "    for i in k:\n",
    "        a = df[i].astype('float').median(axis =0)\n",
    "        df[i].replace(np.nan,a,inplace= True)\n",
    "    return df"
   ]
  },
  {
   "cell_type": "code",
   "execution_count": 10,
   "metadata": {},
   "outputs": [
    {
     "name": "stdout",
     "output_type": "stream",
     "text": [
      "Name\n",
      "Keane, Mr. Andrew \"Andy\"                 1\n",
      "Newell, Miss. Marjorie                   1\n",
      "Bystrom, Mrs. (Karolina)                 1\n",
      "Carlsson, Mr. August Sigfrid             1\n",
      "Greenfield, Mr. William Bertram          1\n",
      "                                        ..\n",
      "Sirota, Mr. Maurice                      1\n",
      "Richards, Mrs. Sidney (Emily Hocking)    1\n",
      "Niskanen, Mr. Juha                       1\n",
      "Slemen, Mr. Richard James                1\n",
      "Youseff, Mr. Gerious                     1\n",
      "Name: Name, Length: 891, dtype: int64\n",
      "\n",
      "\n",
      "Sex\n",
      "male      577\n",
      "female    314\n",
      "Name: Sex, dtype: int64\n",
      "\n",
      "\n",
      "Ticket\n",
      "347082      7\n",
      "CA. 2343    7\n",
      "1601        7\n",
      "347088      6\n",
      "CA 2144     6\n",
      "           ..\n",
      "315096      1\n",
      "2672        1\n",
      "349248      1\n",
      "PC 17603    1\n",
      "349244      1\n",
      "Name: Ticket, Length: 681, dtype: int64\n",
      "\n",
      "\n",
      "Cabin\n",
      "G6             4\n",
      "B96 B98        4\n",
      "C23 C25 C27    4\n",
      "E101           3\n",
      "F33            3\n",
      "              ..\n",
      "C90            1\n",
      "A24            1\n",
      "C148           1\n",
      "C110           1\n",
      "C128           1\n",
      "Name: Cabin, Length: 147, dtype: int64\n",
      "\n",
      "\n",
      "Embarked\n",
      "S    644\n",
      "C    168\n",
      "Q     77\n",
      "Name: Embarked, dtype: int64\n",
      "\n",
      "\n"
     ]
    }
   ],
   "source": [
    "for i in data.describe(include=np.object).columns:\n",
    "    print(i)\n",
    "    print(data[i].value_counts())\n",
    "    print(\"\")\n",
    "    print(\"\")"
   ]
  },
  {
   "cell_type": "code",
   "execution_count": 11,
   "metadata": {},
   "outputs": [],
   "source": [
    "data = data.drop(['Cabin'], axis = 1)\n",
    "data = data.drop(['PassengerId'], axis = 1)\n",
    "data = data.drop(['Name'], axis = 1)\n",
    "data = data.drop(['Ticket'], axis = 1)"
   ]
  },
  {
   "cell_type": "code",
   "execution_count": 12,
   "metadata": {},
   "outputs": [
    {
     "data": {
      "text/html": [
       "<div>\n",
       "<style scoped>\n",
       "    .dataframe tbody tr th:only-of-type {\n",
       "        vertical-align: middle;\n",
       "    }\n",
       "\n",
       "    .dataframe tbody tr th {\n",
       "        vertical-align: top;\n",
       "    }\n",
       "\n",
       "    .dataframe thead th {\n",
       "        text-align: right;\n",
       "    }\n",
       "</style>\n",
       "<table border=\"1\" class=\"dataframe\">\n",
       "  <thead>\n",
       "    <tr style=\"text-align: right;\">\n",
       "      <th></th>\n",
       "      <th>Survived</th>\n",
       "      <th>Pclass</th>\n",
       "      <th>Sex</th>\n",
       "      <th>Age</th>\n",
       "      <th>SibSp</th>\n",
       "      <th>Parch</th>\n",
       "      <th>Fare</th>\n",
       "      <th>Embarked</th>\n",
       "    </tr>\n",
       "  </thead>\n",
       "  <tbody>\n",
       "    <tr>\n",
       "      <th>0</th>\n",
       "      <td>0</td>\n",
       "      <td>3</td>\n",
       "      <td>male</td>\n",
       "      <td>22.0</td>\n",
       "      <td>1</td>\n",
       "      <td>0</td>\n",
       "      <td>7.2500</td>\n",
       "      <td>S</td>\n",
       "    </tr>\n",
       "    <tr>\n",
       "      <th>1</th>\n",
       "      <td>1</td>\n",
       "      <td>1</td>\n",
       "      <td>female</td>\n",
       "      <td>38.0</td>\n",
       "      <td>1</td>\n",
       "      <td>0</td>\n",
       "      <td>71.2833</td>\n",
       "      <td>C</td>\n",
       "    </tr>\n",
       "    <tr>\n",
       "      <th>2</th>\n",
       "      <td>1</td>\n",
       "      <td>3</td>\n",
       "      <td>female</td>\n",
       "      <td>26.0</td>\n",
       "      <td>0</td>\n",
       "      <td>0</td>\n",
       "      <td>7.9250</td>\n",
       "      <td>S</td>\n",
       "    </tr>\n",
       "    <tr>\n",
       "      <th>3</th>\n",
       "      <td>1</td>\n",
       "      <td>1</td>\n",
       "      <td>female</td>\n",
       "      <td>35.0</td>\n",
       "      <td>1</td>\n",
       "      <td>0</td>\n",
       "      <td>53.1000</td>\n",
       "      <td>S</td>\n",
       "    </tr>\n",
       "    <tr>\n",
       "      <th>4</th>\n",
       "      <td>0</td>\n",
       "      <td>3</td>\n",
       "      <td>male</td>\n",
       "      <td>35.0</td>\n",
       "      <td>0</td>\n",
       "      <td>0</td>\n",
       "      <td>8.0500</td>\n",
       "      <td>S</td>\n",
       "    </tr>\n",
       "    <tr>\n",
       "      <th>...</th>\n",
       "      <td>...</td>\n",
       "      <td>...</td>\n",
       "      <td>...</td>\n",
       "      <td>...</td>\n",
       "      <td>...</td>\n",
       "      <td>...</td>\n",
       "      <td>...</td>\n",
       "      <td>...</td>\n",
       "    </tr>\n",
       "    <tr>\n",
       "      <th>886</th>\n",
       "      <td>0</td>\n",
       "      <td>2</td>\n",
       "      <td>male</td>\n",
       "      <td>27.0</td>\n",
       "      <td>0</td>\n",
       "      <td>0</td>\n",
       "      <td>13.0000</td>\n",
       "      <td>S</td>\n",
       "    </tr>\n",
       "    <tr>\n",
       "      <th>887</th>\n",
       "      <td>1</td>\n",
       "      <td>1</td>\n",
       "      <td>female</td>\n",
       "      <td>19.0</td>\n",
       "      <td>0</td>\n",
       "      <td>0</td>\n",
       "      <td>30.0000</td>\n",
       "      <td>S</td>\n",
       "    </tr>\n",
       "    <tr>\n",
       "      <th>888</th>\n",
       "      <td>0</td>\n",
       "      <td>3</td>\n",
       "      <td>female</td>\n",
       "      <td>28.0</td>\n",
       "      <td>1</td>\n",
       "      <td>2</td>\n",
       "      <td>23.4500</td>\n",
       "      <td>S</td>\n",
       "    </tr>\n",
       "    <tr>\n",
       "      <th>889</th>\n",
       "      <td>1</td>\n",
       "      <td>1</td>\n",
       "      <td>male</td>\n",
       "      <td>26.0</td>\n",
       "      <td>0</td>\n",
       "      <td>0</td>\n",
       "      <td>30.0000</td>\n",
       "      <td>C</td>\n",
       "    </tr>\n",
       "    <tr>\n",
       "      <th>890</th>\n",
       "      <td>0</td>\n",
       "      <td>3</td>\n",
       "      <td>male</td>\n",
       "      <td>32.0</td>\n",
       "      <td>0</td>\n",
       "      <td>0</td>\n",
       "      <td>7.7500</td>\n",
       "      <td>Q</td>\n",
       "    </tr>\n",
       "  </tbody>\n",
       "</table>\n",
       "<p>891 rows × 8 columns</p>\n",
       "</div>"
      ],
      "text/plain": [
       "     Survived  Pclass     Sex   Age  SibSp  Parch     Fare Embarked\n",
       "0           0       3    male  22.0      1      0   7.2500        S\n",
       "1           1       1  female  38.0      1      0  71.2833        C\n",
       "2           1       3  female  26.0      0      0   7.9250        S\n",
       "3           1       1  female  35.0      1      0  53.1000        S\n",
       "4           0       3    male  35.0      0      0   8.0500        S\n",
       "..        ...     ...     ...   ...    ...    ...      ...      ...\n",
       "886         0       2    male  27.0      0      0  13.0000        S\n",
       "887         1       1  female  19.0      0      0  30.0000        S\n",
       "888         0       3  female  28.0      1      2  23.4500        S\n",
       "889         1       1    male  26.0      0      0  30.0000        C\n",
       "890         0       3    male  32.0      0      0   7.7500        Q\n",
       "\n",
       "[891 rows x 8 columns]"
      ]
     },
     "execution_count": 12,
     "metadata": {},
     "output_type": "execute_result"
    }
   ],
   "source": [
    "mdnv = ['Age']\n",
    "mdv = ['Embarked']\n",
    "replacena_mode(data,mdv)\n",
    "replacena_median(data, mdnv)"
   ]
  },
  {
   "cell_type": "code",
   "execution_count": 13,
   "metadata": {},
   "outputs": [
    {
     "name": "stdout",
     "output_type": "stream",
     "text": [
      "Columns with NA values\n",
      "\n",
      "Series([], dtype: int64)\n",
      "\n",
      "Total NA values = 0\n"
     ]
    }
   ],
   "source": [
    "colna_sum = data.isnull().sum()\n",
    "print(\"Columns with NA values\")\n",
    "print(\"\")\n",
    "print(colna_sum[colna_sum>0])\n",
    "print(\"\")\n",
    "print(\"Total NA values = {naval_sum:n}\".format(naval_sum = data.isnull().sum().sum()))"
   ]
  },
  {
   "cell_type": "code",
   "execution_count": 14,
   "metadata": {},
   "outputs": [
    {
     "data": {
      "text/plain": [
       "Survived      int64\n",
       "Pclass        int64\n",
       "Sex          object\n",
       "Age         float64\n",
       "SibSp         int64\n",
       "Parch         int64\n",
       "Fare        float64\n",
       "Embarked     object\n",
       "dtype: object"
      ]
     },
     "execution_count": 14,
     "metadata": {},
     "output_type": "execute_result"
    }
   ],
   "source": [
    "data.dtypes"
   ]
  },
  {
   "cell_type": "code",
   "execution_count": 15,
   "metadata": {},
   "outputs": [],
   "source": [
    "data['Age'] = data['Age'].astype('int')"
   ]
  },
  {
   "cell_type": "code",
   "execution_count": 16,
   "metadata": {},
   "outputs": [
    {
     "data": {
      "text/plain": [
       "Survived      int64\n",
       "Pclass        int64\n",
       "Sex          object\n",
       "Age           int64\n",
       "SibSp         int64\n",
       "Parch         int64\n",
       "Fare        float64\n",
       "Embarked     object\n",
       "dtype: object"
      ]
     },
     "execution_count": 16,
     "metadata": {},
     "output_type": "execute_result"
    }
   ],
   "source": [
    "data.dtypes"
   ]
  },
  {
   "cell_type": "code",
   "execution_count": 17,
   "metadata": {},
   "outputs": [],
   "source": [
    "from sklearn.preprocessing import LabelEncoder \n",
    "  \n",
    "le = LabelEncoder() \n",
    "  \n",
    "data['Embarked']= le.fit_transform(data['Embarked']) \n",
    "data['Sex']= le.fit_transform(data['Sex']) "
   ]
  },
  {
   "cell_type": "code",
   "execution_count": 18,
   "metadata": {},
   "outputs": [],
   "source": [
    "data = data.drop(['Age'], axis = 1)\n",
    "data = data.drop(['SibSp'], axis = 1)\n",
    "data = data.drop(['Parch'], axis = 1)"
   ]
  },
  {
   "cell_type": "markdown",
   "metadata": {},
   "source": [
    "### Correlation"
   ]
  },
  {
   "cell_type": "code",
   "execution_count": 19,
   "metadata": {},
   "outputs": [
    {
     "name": "stdout",
     "output_type": "stream",
     "text": [
      "Column name: Survived      Correlation: Positive\n",
      "Column name: Pclass      Correlation: Negative\n",
      "Column name: Sex      Correlation: Negative\n",
      "Column name: Fare      Correlation: Positive\n",
      "Column name: Embarked      Correlation: Negative\n"
     ]
    }
   ],
   "source": [
    "correlation = data.corr()\n",
    "for i in data.describe().columns:\n",
    "    a = correlation['Survived'][i]\n",
    "    if (a > 0 or a < 0):\n",
    "        sign = \"Positive\"\n",
    "        if (a < 0):\n",
    "            sign = \"Negative\"\n",
    "        else:\n",
    "            sign = \"Positive\"\n",
    "        print(\"Column name: {gog:s}      Correlation: {fog:s}\".format(gog = i, fog = sign))"
   ]
  },
  {
   "cell_type": "code",
   "execution_count": 20,
   "metadata": {},
   "outputs": [
    {
     "data": {
      "image/png": "[encoded data removed]",
      "text/plain": [
       "<Figure size 432x288 with 2 Axes>"
      ]
     },
     "metadata": {
      "needs_background": "light"
     },
     "output_type": "display_data"
    }
   ],
   "source": [
    "sns.heatmap(correlation, annot = True)\n",
    "plt.show()"
   ]
  },
  {
   "cell_type": "markdown",
   "metadata": {},
   "source": [
    "### Train Cv Test Split"
   ]
  },
  {
   "cell_type": "code",
   "execution_count": 21,
   "metadata": {},
   "outputs": [],
   "source": [
    "def train_validate_test_split(df, train_percent=.6, validate_percent=.2, seed=None):\n",
    "    np.random.seed(seed)\n",
    "    perm = np.random.permutation(df.index)\n",
    "    m = len(df.index)\n",
    "    train_end = int(train_percent * m)\n",
    "    validate_end = int(validate_percent * m) + train_end\n",
    "    train = df.iloc[perm[:train_end]]\n",
    "    validate = df.iloc[perm[train_end:validate_end]]\n",
    "    test = df.iloc[perm[validate_end:]]\n",
    "    return train, validate, test"
   ]
  },
  {
   "cell_type": "code",
   "execution_count": 22,
   "metadata": {},
   "outputs": [],
   "source": [
    "train, validate, test = train_validate_test_split(data, train_percent=.6, validate_percent=.2, seed=None)"
   ]
  },
  {
   "cell_type": "code",
   "execution_count": 23,
   "metadata": {},
   "outputs": [],
   "source": [
    "x_train = train.drop(['Survived'], axis = 1)\n",
    "y_train = train['Survived']"
   ]
  },
  {
   "cell_type": "code",
   "execution_count": 24,
   "metadata": {},
   "outputs": [],
   "source": [
    "x_cv = validate.drop(['Survived'], axis = 1)\n",
    "y_cv = validate['Survived']"
   ]
  },
  {
   "cell_type": "code",
   "execution_count": 25,
   "metadata": {},
   "outputs": [],
   "source": [
    "x_test = test.drop(['Survived'], axis = 1)\n",
    "y_test = test['Survived']"
   ]
  },
  {
   "cell_type": "markdown",
   "metadata": {},
   "source": [
    "### Logistic"
   ]
  },
  {
   "cell_type": "code",
   "execution_count": 26,
   "metadata": {},
   "outputs": [
    {
     "data": {
      "text/plain": [
       "LogisticRegression(C=0.01, class_weight=None, dual=False, fit_intercept=True,\n",
       "                   intercept_scaling=1, l1_ratio=None, max_iter=100,\n",
       "                   multi_class='auto', n_jobs=None, penalty='l2',\n",
       "                   random_state=None, solver='liblinear', tol=0.0001, verbose=0,\n",
       "                   warm_start=False)"
      ]
     },
     "execution_count": 26,
     "metadata": {},
     "output_type": "execute_result"
    }
   ],
   "source": [
    "from sklearn.linear_model import LogisticRegression\n",
    "from sklearn.metrics import confusion_matrix\n",
    "LR = LogisticRegression(C=0.01, solver='liblinear').fit(x_train,y_train)\n",
    "LR"
   ]
  },
  {
   "cell_type": "code",
   "execution_count": 27,
   "metadata": {},
   "outputs": [
    {
     "data": {
      "text/plain": [
       "array([0, 0, 0, 1, 0, 0, 0, 0, 0, 0, 1, 0, 0, 0, 0, 0, 0, 0, 0, 0, 0, 0,\n",
       "       1, 0, 0, 0, 0, 0, 0, 0, 0, 0, 0, 0, 1, 0, 0, 0, 1, 0, 0, 0, 0, 0,\n",
       "       0, 0, 0, 0, 1, 0, 0, 0, 0, 1, 0, 0, 1, 0, 1, 0, 0, 0, 0, 0, 0, 0,\n",
       "       0, 0, 0, 0, 0, 1, 0, 0, 0, 0, 0, 1, 0, 0, 0, 0, 1, 0, 0, 0, 0, 0,\n",
       "       0, 1, 0, 0, 0, 0, 0, 0, 0, 0, 0, 0, 1, 0, 0, 0, 0, 0, 1, 0, 0, 0,\n",
       "       0, 0, 0, 0, 0, 0, 0, 0, 0, 1, 0, 0, 0, 0, 0, 0, 0, 0, 0, 0, 0, 1,\n",
       "       0, 0, 0, 0, 0, 0, 0, 0, 0, 0, 0, 0, 1, 0, 0, 0, 0, 0, 1, 0, 0, 0,\n",
       "       1, 0, 0, 0, 1, 0, 0, 0, 0, 0, 0, 0, 0, 0, 0, 0, 1, 0, 0, 0, 0, 0,\n",
       "       0, 1, 0])"
      ]
     },
     "execution_count": 27,
     "metadata": {},
     "output_type": "execute_result"
    }
   ],
   "source": [
    "yhat = LR.predict(x_test)\n",
    "yhat"
   ]
  },
  {
   "cell_type": "code",
   "execution_count": 28,
   "metadata": {},
   "outputs": [
    {
     "data": {
      "text/plain": [
       "array([[ 20,  50],\n",
       "       [  3, 106]])"
      ]
     },
     "execution_count": 28,
     "metadata": {},
     "output_type": "execute_result"
    }
   ],
   "source": [
    "from sklearn.metrics import confusion_matrix\n",
    "cnf_matrix = confusion_matrix(y_test, yhat, labels=[1,0])\n",
    "np.set_printoptions(precision=2)\n",
    "cnf_matrix"
   ]
  },
  {
   "cell_type": "code",
   "execution_count": 29,
   "metadata": {},
   "outputs": [
    {
     "name": "stdout",
     "output_type": "stream",
     "text": [
      "Accuracy: 70.39106145251397%\n"
     ]
    }
   ],
   "source": [
    "print('Accuracy: ' + str(float((cnf_matrix[0,0]+cnf_matrix[1,1])*100/np.sum(cnf_matrix))) + '%')"
   ]
  },
  {
   "cell_type": "markdown",
   "metadata": {},
   "source": [
    "### Random Forest"
   ]
  },
  {
   "cell_type": "code",
   "execution_count": 30,
   "metadata": {},
   "outputs": [
    {
     "data": {
      "text/plain": [
       "RandomForestClassifier(bootstrap=True, ccp_alpha=0.0, class_weight=None,\n",
       "                       criterion='gini', max_depth=None, max_features='auto',\n",
       "                       max_leaf_nodes=None, max_samples=None,\n",
       "                       min_impurity_decrease=0.0, min_impurity_split=None,\n",
       "                       min_samples_leaf=1, min_samples_split=2,\n",
       "                       min_weight_fraction_leaf=0.0, n_estimators=100,\n",
       "                       n_jobs=None, oob_score=False, random_state=None,\n",
       "                       verbose=0, warm_start=False)"
      ]
     },
     "execution_count": 30,
     "metadata": {},
     "output_type": "execute_result"
    }
   ],
   "source": [
    "from sklearn.ensemble import RandomForestClassifier\n",
    "random_forest = RandomForestClassifier(n_estimators=100)\n",
    "random_forest.fit(x_train, y_train)"
   ]
  },
  {
   "cell_type": "code",
   "execution_count": 31,
   "metadata": {},
   "outputs": [
    {
     "name": "stdout",
     "output_type": "stream",
     "text": [
      "0.9176029962546817\n"
     ]
    }
   ],
   "source": [
    "yhatrf_train = random_forest.predict(x_train)\n",
    "yhatrf_train\n",
    "from sklearn.metrics import confusion_matrix, accuracy_score\n",
    "print(accuracy_score(y_train, yhatrf_train))"
   ]
  },
  {
   "cell_type": "code",
   "execution_count": 32,
   "metadata": {},
   "outputs": [
    {
     "name": "stdout",
     "output_type": "stream",
     "text": [
      "0.7584269662921348\n"
     ]
    }
   ],
   "source": [
    "yhatrf_cv = random_forest.predict(x_cv)\n",
    "yhatrf_cv\n",
    "from sklearn.metrics import confusion_matrix, accuracy_score\n",
    "print(accuracy_score(y_cv, yhatrf_cv))"
   ]
  },
  {
   "cell_type": "code",
   "execution_count": 33,
   "metadata": {},
   "outputs": [
    {
     "name": "stdout",
     "output_type": "stream",
     "text": [
      "0.7821229050279329\n"
     ]
    }
   ],
   "source": [
    "yhatrf_test = random_forest.predict(x_test)\n",
    "yhatrf_test\n",
    "from sklearn.metrics import confusion_matrix, accuracy_score\n",
    "print(accuracy_score(y_test, yhatrf_test))"
   ]
  },
  {
   "cell_type": "code",
   "execution_count": null,
   "metadata": {},
   "outputs": [],
   "source": []
  },
  {
   "cell_type": "markdown",
   "metadata": {},
   "source": [
    "### Neural Network"
   ]
  },
  {
   "cell_type": "code",
   "execution_count": 34,
   "metadata": {},
   "outputs": [],
   "source": [
    "import numpy as np\n",
    "import pandas as pd\n",
    "import matplotlib as mpl\n",
    "import matplotlib.pyplot as plt\n",
    "from sklearn.metrics import confusion_matrix"
   ]
  },
  {
   "cell_type": "code",
   "execution_count": 35,
   "metadata": {},
   "outputs": [],
   "source": [
    "import tensorflow as tf\n",
    "from keras import models\n",
    "from keras import layers"
   ]
  },
  {
   "cell_type": "code",
   "execution_count": 36,
   "metadata": {},
   "outputs": [],
   "source": [
    "class myCallback(tf.keras.callbacks.Callback):\n",
    "    def on_epoch_end(self, epoch, logs={}):\n",
    "        if(logs.get('accuracy')>0.9):\n",
    "            print(\"\\nReached 90% accuracy so cancelling training!\")\n",
    "            self.model.stop_training = True\n",
    "\n",
    "callbacks = myCallback()"
   ]
  },
  {
   "cell_type": "code",
   "execution_count": 37,
   "metadata": {},
   "outputs": [
    {
     "name": "stdout",
     "output_type": "stream",
     "text": [
      "x_train_shape(534, 4)\n",
      "y_train_shape(534,)\n",
      "x_test_shape(179, 4)\n",
      "y_test_shape(179,)\n"
     ]
    }
   ],
   "source": [
    "print(\"x_train_shape\"+str(x_train.shape))\n",
    "print(\"y_train_shape\"+str(y_train.shape))\n",
    "print(\"x_test_shape\"+str(x_test.shape))\n",
    "print(\"y_test_shape\"+str(y_test.shape))"
   ]
  },
  {
   "cell_type": "code",
   "execution_count": 38,
   "metadata": {},
   "outputs": [],
   "source": [
    "nn = models.Sequential()"
   ]
  },
  {
   "cell_type": "code",
   "execution_count": 39,
   "metadata": {},
   "outputs": [],
   "source": [
    "#add layer1\n",
    "nn.add(layers.Dense(512,activation=\"relu\",input_shape =(4,)))\n",
    "#add layer2\n",
    "nn.add(layers.Dense(256,activation=\"relu\"))\n",
    "#add layer3\n",
    "nn.add(layers.Dense(128,activation=\"relu\"))\n",
    "#add layer4\n",
    "nn.add(layers.Dense(2,activation = \"sigmoid\"))"
   ]
  },
  {
   "cell_type": "code",
   "execution_count": 40,
   "metadata": {},
   "outputs": [
    {
     "data": {
      "text/plain": [
       "pandas.core.frame.DataFrame"
      ]
     },
     "execution_count": 40,
     "metadata": {},
     "output_type": "execute_result"
    }
   ],
   "source": [
    "type(x_train)"
   ]
  },
  {
   "cell_type": "code",
   "execution_count": 41,
   "metadata": {},
   "outputs": [],
   "source": [
    "from keras.utils import to_categorical\n",
    "y_train = to_categorical(y_train)\n",
    "y_test = to_categorical(y_test)\n",
    "y_cv = to_categorical(y_cv)"
   ]
  },
  {
   "cell_type": "code",
   "execution_count": 42,
   "metadata": {},
   "outputs": [
    {
     "name": "stdout",
     "output_type": "stream",
     "text": [
      "x_train_shape(534, 4)\n",
      "y_train_shape(534, 2)\n",
      "x_test_shape(179, 4)\n",
      "y_test_shape(179, 2)\n"
     ]
    }
   ],
   "source": [
    "print(\"x_train_shape\"+str(x_train.shape))\n",
    "print(\"y_train_shape\"+str(y_train.shape))\n",
    "print(\"x_test_shape\"+str(x_test.shape))\n",
    "print(\"y_test_shape\"+str(y_test.shape))"
   ]
  },
  {
   "cell_type": "code",
   "execution_count": 43,
   "metadata": {},
   "outputs": [],
   "source": [
    "nn.compile(optimizer=\"rmsprop\",\n",
    "           loss='binary_crossentropy',\n",
    "           metrics = ['accuracy'])\n",
    "#'sparse_categorical_crossentropy'"
   ]
  },
  {
   "cell_type": "code",
   "execution_count": 44,
   "metadata": {},
   "outputs": [
    {
     "name": "stdout",
     "output_type": "stream",
     "text": [
      "Epoch 1/50\n",
      "17/17 [==============================] - 0s 3ms/step - loss: 1.0852 - accuracy: 0.6086\n",
      "Epoch 2/50\n",
      "17/17 [==============================] - 0s 3ms/step - loss: 0.7001 - accuracy: 0.6648\n",
      "Epoch 3/50\n",
      "17/17 [==============================] - 0s 3ms/step - loss: 0.6256 - accuracy: 0.6854\n",
      "Epoch 4/50\n",
      "17/17 [==============================] - 0s 2ms/step - loss: 0.6667 - accuracy: 0.6816\n",
      "Epoch 5/50\n",
      "17/17 [==============================] - 0s 2ms/step - loss: 0.5948 - accuracy: 0.7097\n",
      "Epoch 6/50\n",
      "17/17 [==============================] - 0s 2ms/step - loss: 0.6440 - accuracy: 0.6573\n",
      "Epoch 7/50\n",
      "17/17 [==============================] - 0s 3ms/step - loss: 0.6050 - accuracy: 0.6742\n",
      "Epoch 8/50\n",
      "17/17 [==============================] - 0s 2ms/step - loss: 0.5691 - accuracy: 0.6929\n",
      "Epoch 9/50\n",
      "17/17 [==============================] - 0s 2ms/step - loss: 0.5390 - accuracy: 0.7266\n",
      "Epoch 10/50\n",
      "17/17 [==============================] - 0s 2ms/step - loss: 0.5634 - accuracy: 0.7285\n",
      "Epoch 11/50\n",
      "17/17 [==============================] - 0s 2ms/step - loss: 0.5448 - accuracy: 0.7453\n",
      "Epoch 12/50\n",
      "17/17 [==============================] - 0s 2ms/step - loss: 0.5465 - accuracy: 0.7247\n",
      "Epoch 13/50\n",
      "17/17 [==============================] - 0s 2ms/step - loss: 0.5228 - accuracy: 0.7453\n",
      "Epoch 14/50\n",
      "17/17 [==============================] - 0s 2ms/step - loss: 0.5394 - accuracy: 0.7547\n",
      "Epoch 15/50\n",
      "17/17 [==============================] - 0s 2ms/step - loss: 0.5512 - accuracy: 0.7322\n",
      "Epoch 16/50\n",
      "17/17 [==============================] - 0s 2ms/step - loss: 0.5227 - accuracy: 0.7434\n",
      "Epoch 17/50\n",
      "17/17 [==============================] - 0s 2ms/step - loss: 0.5365 - accuracy: 0.7622\n",
      "Epoch 18/50\n",
      "17/17 [==============================] - 0s 2ms/step - loss: 0.5163 - accuracy: 0.7697\n",
      "Epoch 19/50\n",
      "17/17 [==============================] - 0s 2ms/step - loss: 0.5113 - accuracy: 0.7753\n",
      "Epoch 20/50\n",
      "17/17 [==============================] - 0s 2ms/step - loss: 0.5268 - accuracy: 0.7584\n",
      "Epoch 21/50\n",
      "17/17 [==============================] - 0s 2ms/step - loss: 0.4934 - accuracy: 0.7753\n",
      "Epoch 22/50\n",
      "17/17 [==============================] - 0s 3ms/step - loss: 0.5237 - accuracy: 0.7603\n",
      "Epoch 23/50\n",
      "17/17 [==============================] - 0s 3ms/step - loss: 0.4970 - accuracy: 0.7715\n",
      "Epoch 24/50\n",
      "17/17 [==============================] - 0s 3ms/step - loss: 0.4967 - accuracy: 0.7865\n",
      "Epoch 25/50\n",
      "17/17 [==============================] - 0s 3ms/step - loss: 0.5009 - accuracy: 0.7640\n",
      "Epoch 26/50\n",
      "17/17 [==============================] - 0s 3ms/step - loss: 0.5121 - accuracy: 0.7809\n",
      "Epoch 27/50\n",
      "17/17 [==============================] - 0s 3ms/step - loss: 0.5092 - accuracy: 0.7622\n",
      "Epoch 28/50\n",
      "17/17 [==============================] - 0s 2ms/step - loss: 0.4691 - accuracy: 0.7846\n",
      "Epoch 29/50\n",
      "17/17 [==============================] - 0s 3ms/step - loss: 0.4979 - accuracy: 0.7865\n",
      "Epoch 30/50\n",
      "17/17 [==============================] - 0s 3ms/step - loss: 0.5034 - accuracy: 0.7846\n",
      "Epoch 31/50\n",
      "17/17 [==============================] - 0s 3ms/step - loss: 0.4746 - accuracy: 0.7865\n",
      "Epoch 32/50\n",
      "17/17 [==============================] - 0s 3ms/step - loss: 0.4911 - accuracy: 0.7940\n",
      "Epoch 33/50\n",
      "17/17 [==============================] - 0s 3ms/step - loss: 0.4936 - accuracy: 0.7903\n",
      "Epoch 34/50\n",
      "17/17 [==============================] - 0s 3ms/step - loss: 0.4802 - accuracy: 0.7846\n",
      "Epoch 35/50\n",
      "17/17 [==============================] - 0s 2ms/step - loss: 0.4830 - accuracy: 0.7790\n",
      "Epoch 36/50\n",
      "17/17 [==============================] - 0s 2ms/step - loss: 0.4711 - accuracy: 0.8015\n",
      "Epoch 37/50\n",
      "17/17 [==============================] - 0s 2ms/step - loss: 0.4811 - accuracy: 0.7978\n",
      "Epoch 38/50\n",
      "17/17 [==============================] - 0s 2ms/step - loss: 0.4878 - accuracy: 0.7884\n",
      "Epoch 39/50\n",
      "17/17 [==============================] - 0s 2ms/step - loss: 0.4759 - accuracy: 0.7959\n",
      "Epoch 40/50\n",
      "17/17 [==============================] - 0s 2ms/step - loss: 0.4837 - accuracy: 0.7884\n",
      "Epoch 41/50\n",
      "17/17 [==============================] - 0s 2ms/step - loss: 0.4650 - accuracy: 0.7903\n",
      "Epoch 42/50\n",
      "17/17 [==============================] - 0s 2ms/step - loss: 0.4590 - accuracy: 0.7865\n",
      "Epoch 43/50\n",
      "17/17 [==============================] - 0s 2ms/step - loss: 0.4741 - accuracy: 0.8109\n",
      "Epoch 44/50\n",
      "17/17 [==============================] - 0s 2ms/step - loss: 0.4651 - accuracy: 0.8052\n",
      "Epoch 45/50\n",
      "17/17 [==============================] - 0s 2ms/step - loss: 0.4672 - accuracy: 0.7865\n",
      "Epoch 46/50\n",
      "17/17 [==============================] - ETA: 0s - loss: 0.4143 - accuracy: 0.84 - 0s 3ms/step - loss: 0.4582 - accuracy: 0.7921\n",
      "Epoch 47/50\n",
      "17/17 [==============================] - 0s 3ms/step - loss: 0.4773 - accuracy: 0.7959\n",
      "Epoch 48/50\n",
      "17/17 [==============================] - 0s 3ms/step - loss: 0.4468 - accuracy: 0.8034\n",
      "Epoch 49/50\n",
      "17/17 [==============================] - 0s 3ms/step - loss: 0.4602 - accuracy: 0.8165\n",
      "Epoch 50/50\n",
      "17/17 [==============================] - 0s 3ms/step - loss: 0.4444 - accuracy: 0.8109\n"
     ]
    },
    {
     "data": {
      "text/plain": [
       "<tensorflow.python.keras.callbacks.History at 0x7f9f98949190>"
      ]
     },
     "execution_count": 44,
     "metadata": {},
     "output_type": "execute_result"
    }
   ],
   "source": [
    "nn.fit(x_train,y_train,epochs=50, callbacks=[callbacks])"
   ]
  },
  {
   "cell_type": "code",
   "execution_count": 45,
   "metadata": {},
   "outputs": [
    {
     "name": "stdout",
     "output_type": "stream",
     "text": [
      "6/6 [==============================] - 0s 1ms/step - loss: 0.8662 - accuracy: 0.7247\n"
     ]
    },
    {
     "data": {
      "text/plain": [
       "0.7247191071510315"
      ]
     },
     "execution_count": 45,
     "metadata": {},
     "output_type": "execute_result"
    }
   ],
   "source": [
    "val_loss,val_accuracy = nn.evaluate(x_cv,y_cv)\n",
    "val_accuracy"
   ]
  },
  {
   "cell_type": "code",
   "execution_count": 46,
   "metadata": {},
   "outputs": [
    {
     "name": "stdout",
     "output_type": "stream",
     "text": [
      "6/6 [==============================] - 0s 1ms/step - loss: 0.5238 - accuracy: 0.7765\n"
     ]
    }
   ],
   "source": [
    "test_loss,test_accuracy = nn.evaluate(x_test,y_test)"
   ]
  },
  {
   "cell_type": "code",
   "execution_count": 47,
   "metadata": {},
   "outputs": [
    {
     "data": {
      "text/plain": [
       "0.7765362858772278"
      ]
     },
     "execution_count": 47,
     "metadata": {},
     "output_type": "execute_result"
    }
   ],
   "source": [
    "test_accuracy"
   ]
  },
  {
   "cell_type": "markdown",
   "metadata": {},
   "source": [
    "### Hyperparameter - NN"
   ]
  },
  {
   "cell_type": "markdown",
   "metadata": {},
   "source": [
    "RELU (512) RELU (256) RELU (128) SIGMOID (2)\n",
    "\n",
    "EPOCH: 242\n",
    "\n",
    "optimizer= \"rmsprop\"\n",
    "\n",
    "loss= 'binary_crossentropy'"
   ]
  },
  {
   "cell_type": "markdown",
   "metadata": {},
   "source": [
    "### Hyperparameter - RF"
   ]
  },
  {
   "cell_type": "markdown",
   "metadata": {},
   "source": [
    "Eliminators - 100"
   ]
  },
  {
   "cell_type": "code",
   "execution_count": null,
   "metadata": {},
   "outputs": [],
   "source": []
  }
 ],
 "metadata": {
  "kernelspec": {
   "display_name": "Python 3",
   "language": "python",
   "name": "python3"
  },
  "language_info": {
   "codemirror_mode": {
    "name": "ipython",
    "version": 3
   },
   "file_extension": ".py",
   "mimetype": "text/x-python",
   "name": "python",
   "nbconvert_exporter": "python",
   "pygments_lexer": "ipython3",
   "version": "3.7.6"
  }
 },
 "nbformat": 4,
 "nbformat_minor": 4
}
