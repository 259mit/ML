{
  "nbformat": 4,
  "nbformat_minor": 0,
  "metadata": {
    "colab": {
      "name": "ML LAB 7 3.ipynb",
      "provenance": []
    },
    "kernelspec": {
      "name": "python3",
      "display_name": "Python 3"
    }
  },
  "cells": [
    {
      "cell_type": "code",
      "metadata": {
        "colab_type": "code",
        "id": "qRvOZy6cUcmR",
        "colab": {}
      },
      "source": [
        "import pandas as pd\n",
        "import numpy as np\n",
        "from sklearn.datasets import fetch_covtype, fetch_kddcup99, fetch_lfw_pairs, fetch_lfw_people, fetch_olivetti_faces\n",
        "from sklearn.datasets import fetch_rcv1, load_breast_cancer, load_digits, load_wine"
      ],
      "execution_count": 1,
      "outputs": []
    },
    {
      "cell_type": "code",
      "metadata": {
        "colab_type": "code",
        "id": "Md0CGMe8XZAr",
        "colab": {}
      },
      "source": [
        "from sklearn.model_selection import train_test_split\n",
        "from sklearn.preprocessing import LabelEncoder, StandardScaler\n",
        "from scipy.sparse import csr_matrix\n",
        "import matplotlib.pyplot as plt"
      ],
      "execution_count": 2,
      "outputs": []
    },
    {
      "cell_type": "code",
      "metadata": {
        "colab_type": "code",
        "id": "J2HN_WLXatPP",
        "colab": {}
      },
      "source": [
        "from keras import models\n",
        "from keras import layers\n",
        "import tensorflow as tf\n",
        "from keras.utils import to_categorical"
      ],
      "execution_count": 10,
      "outputs": []
    },
    {
      "cell_type": "markdown",
      "metadata": {
        "colab_type": "text",
        "id": "k488g80SepgH"
      },
      "source": [
        "# Fetch CupKdd99"
      ]
    },
    {
      "cell_type": "markdown",
      "metadata": {
        "colab_type": "text",
        "id": "-YnkajjTeqI7"
      },
      "source": [
        "Loading and Preprocessing the Data"
      ]
    },
    {
      "cell_type": "code",
      "metadata": {
        "colab_type": "code",
        "id": "oupaHuRqe3dP",
        "colab": {
          "base_uri": "https://localhost:8080/",
          "height": 34
        },
        "outputId": "f02fce90-5ee1-4088-8a1c-b13034b9733c"
      },
      "source": [
        "kddcup99 = fetch_kddcup99()\n",
        "x_fetch_kddcup99 = kddcup99.data\n",
        "y_fetch_kddcup99 = kddcup99.target"
      ],
      "execution_count": 4,
      "outputs": [
        {
          "output_type": "stream",
          "text": [
            "Downloading https://ndownloader.figshare.com/files/5976042\n"
          ],
          "name": "stderr"
        }
      ]
    },
    {
      "cell_type": "code",
      "metadata": {
        "colab_type": "code",
        "id": "mmtJpHXWfNIP",
        "colab": {
          "base_uri": "https://localhost:8080/",
          "height": 51
        },
        "outputId": "9d644741-61a9-4008-925f-a53c695995f8"
      },
      "source": [
        "x_kdd = pd.DataFrame(x_fetch_kddcup99)\n",
        "y_kdd = pd.DataFrame(y_fetch_kddcup99)\n",
        "print(x_kdd.shape)\n",
        "print(y_kdd.shape)"
      ],
      "execution_count": 5,
      "outputs": [
        {
          "output_type": "stream",
          "text": [
            "(494021, 41)\n",
            "(494021, 1)\n"
          ],
          "name": "stdout"
        }
      ]
    },
    {
      "cell_type": "code",
      "metadata": {
        "colab_type": "code",
        "id": "kuhwPWgYowGx",
        "colab": {}
      },
      "source": [
        "le = LabelEncoder()\n",
        "for i in [1,2,3]:\n",
        "  x_kdd[i] = [j.decode('utf-8') for j in x_kdd[i]]\n",
        "  x_kdd[i] = le.fit_transform(x_kdd[i])\n",
        "\n",
        "for i in range(x_kdd.shape[1]):\n",
        "  x_kdd[i] = x_kdd[i].astype('float')"
      ],
      "execution_count": 6,
      "outputs": []
    },
    {
      "cell_type": "code",
      "metadata": {
        "colab_type": "code",
        "id": "0qzkpaGGkFvl",
        "colab": {}
      },
      "source": [
        "y_kdd99 = [i.decode('utf-8') for i in y_fetch_kddcup99]\n",
        "y_kdd99 = pd.DataFrame(le.fit_transform(y_kdd99))"
      ],
      "execution_count": 7,
      "outputs": []
    },
    {
      "cell_type": "markdown",
      "metadata": {
        "colab_type": "text",
        "id": "HQrMdP9PqE-l"
      },
      "source": [
        "Making A Neural Network"
      ]
    },
    {
      "cell_type": "code",
      "metadata": {
        "colab_type": "code",
        "id": "23iz8QNifiwF",
        "colab": {
          "base_uri": "https://localhost:8080/",
          "height": 119
        },
        "outputId": "4995b206-c135-45fe-aff1-783ffc73c749"
      },
      "source": [
        "y_kdd99 = to_categorical(y_kdd99)\n",
        "x_train, x_test, y_train, y_test = train_test_split(x_kdd, y_kdd99, test_size = 0.2)\n",
        "x_dev, x_test, y_dev, y_test = train_test_split(x_test, y_test, test_size = 0.5)\n",
        "print(x_train.shape)\n",
        "print(x_dev.shape)\n",
        "print(x_test.shape)\n",
        "print(y_train.shape)\n",
        "print(y_dev.shape)\n",
        "print(y_test.shape)"
      ],
      "execution_count": 8,
      "outputs": [
        {
          "output_type": "stream",
          "text": [
            "(395216, 41)\n",
            "(49402, 41)\n",
            "(49403, 41)\n",
            "(395216, 23)\n",
            "(49402, 23)\n",
            "(49403, 23)\n"
          ],
          "name": "stdout"
        }
      ]
    },
    {
      "cell_type": "code",
      "metadata": {
        "colab_type": "code",
        "id": "Iry-cstVnTaw",
        "colab": {}
      },
      "source": [
        "nn_kdd99 = models.Sequential()\n",
        "nn_kdd99.add(layers.Dense(256, activation = 'relu', input_shape = (41, )))\n",
        "nn_kdd99.add(layers.Dense(128, activation = 'relu'))\n",
        "nn_kdd99.add(layers.Dense(64, activation = 'relu'))\n",
        "nn_kdd99.add(layers.Dense(32, activation = 'relu'))\n",
        "nn_kdd99.add(layers.Dense(23, activation = 'softmax'))\n",
        "nn_kdd99.compile(optimizer = 'rmsprop', loss = 'categorical_crossentropy', metrics = ['accuracy'])\n",
        "class myCallback(tf.keras.callbacks.Callback):\n",
        "    def on_epoch_end(self, epoch, logs={}):\n",
        "        if(logs.get('accuracy')>0.99):\n",
        "            print(\"\\nReached 99% accuracy so cancelling training!\")\n",
        "            self.model.stop_training = True\n",
        "\n",
        "callbacks = myCallback()"
      ],
      "execution_count": 11,
      "outputs": []
    },
    {
      "cell_type": "code",
      "metadata": {
        "colab_type": "code",
        "id": "us-4qHGuniZo",
        "colab": {
          "base_uri": "https://localhost:8080/",
          "height": 221
        },
        "outputId": "93c66d3b-3b36-4402-fd3f-45d33a2b58c8"
      },
      "source": [
        "kdd99_history = nn_kdd99.fit(x_train, y_train, epochs = 10, batch_size = 1000, validation_data = (x_dev, y_dev), callbacks=[callbacks])\n",
        "kdd99_dev_acc = nn_kdd99.evaluate(x_dev, y_dev)[1]\n",
        "print('The dev accuracy is', kdd99_dev_acc)"
      ],
      "execution_count": 12,
      "outputs": [
        {
          "output_type": "stream",
          "text": [
            "Epoch 1/10\n",
            "396/396 [==============================] - 5s 12ms/step - loss: 5.0865 - accuracy: 0.9470 - val_loss: 1.3095 - val_accuracy: 0.9597\n",
            "Epoch 2/10\n",
            "396/396 [==============================] - 4s 11ms/step - loss: 0.3670 - accuracy: 0.9853 - val_loss: 0.1436 - val_accuracy: 0.9907\n",
            "Epoch 3/10\n",
            "396/396 [==============================] - 4s 11ms/step - loss: 0.5007 - accuracy: 0.9883 - val_loss: 4.3553 - val_accuracy: 0.9906\n",
            "Epoch 4/10\n",
            "394/396 [============================>.] - ETA: 0s - loss: 0.3969 - accuracy: 0.9902\n",
            "Reached 99% accuracy so cancelling training!\n",
            "396/396 [==============================] - 4s 11ms/step - loss: 0.3961 - accuracy: 0.9901 - val_loss: 0.1013 - val_accuracy: 0.9911\n",
            "1544/1544 [==============================] - 1s 932us/step - loss: 0.1013 - accuracy: 0.9911\n",
            "The dev accuracy is 0.9910934567451477\n"
          ],
          "name": "stdout"
        }
      ]
    },
    {
      "cell_type": "markdown",
      "metadata": {
        "colab_type": "text",
        "id": "LDpXqUZwnz9C"
      },
      "source": [
        "Plotting Accuracy & Validation Accuracy with Epoch\n",
        "\n",
        "Plotting Loss & Validation Loss with Epoch"
      ]
    },
    {
      "cell_type": "code",
      "metadata": {
        "colab_type": "code",
        "id": "gXz63xx1n1MH",
        "colab": {
          "base_uri": "https://localhost:8080/",
          "height": 899
        },
        "outputId": "b7c0c7f1-fe1c-4421-9636-f8c125054d3b"
      },
      "source": [
        "plt.figure(figsize = (10,7))\n",
        "plt.plot(kdd99_history.history['accuracy'], color = 'blue')\n",
        "plt.plot(kdd99_history.history['val_accuracy'], color = 'red')\n",
        "plt.title('Model accuracy')\n",
        "plt.ylabel('Accuracy')\n",
        "plt.xlabel('Epoch')\n",
        "plt.legend(['Train', 'Validation'], loc='upper left')\n",
        "plt.show()\n",
        "\n",
        "plt.figure(figsize = (10,7))\n",
        "plt.plot(kdd99_history.history['loss'], color = 'blue')\n",
        "plt.plot(kdd99_history.history['val_loss'], color = 'red')\n",
        "plt.ylim((0,3))\n",
        "plt.title('Model loss')\n",
        "plt.ylabel('Loss')\n",
        "plt.xlabel('Epoch')\n",
        "plt.legend(['Train', 'Validation'], loc='upper left')\n",
        "plt.show()"
      ],
      "execution_count": 13,
      "outputs": [
        {
          "output_type": "display_data",
          "data": {
            "image/png": "[encoded data removed]",
            "text/plain": [
              "<Figure size 720x504 with 1 Axes>"
            ]
          },
          "metadata": {
            "tags": [],
            "needs_background": "light"
          }
        },
        {
          "output_type": "display_data",
          "data": {
            "image/png": "[encoded data removed]",
            "text/plain": [
              "<Figure size 720x504 with 1 Axes>"
            ]
          },
          "metadata": {
            "tags": [],
            "needs_background": "light"
          }
        }
      ]
    },
    {
      "cell_type": "code",
      "metadata": {
        "colab_type": "code",
        "id": "CeF-VWhYn63U",
        "colab": {
          "base_uri": "https://localhost:8080/",
          "height": 51
        },
        "outputId": "17007f73-5068-40f6-862d-b14e4fe236f8"
      },
      "source": [
        "kdd99_test_acc = nn_kdd99.evaluate(x_test, y_test)[1]\n",
        "print('The test accuracy is', kdd99_test_acc)"
      ],
      "execution_count": 14,
      "outputs": [
        {
          "output_type": "stream",
          "text": [
            "1544/1544 [==============================] - 1s 933us/step - loss: 0.0988 - accuracy: 0.9917\n",
            "The test accuracy is 0.9917008876800537\n"
          ],
          "name": "stdout"
        }
      ]
    }
  ]
}