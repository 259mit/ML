{
  "nbformat": 4,
  "nbformat_minor": 0,
  "metadata": {
    "colab": {
      "name": "ML LAB_7_4.ipynb",
      "provenance": []
    },
    "kernelspec": {
      "name": "python3",
      "display_name": "Python 3"
    }
  },
  "cells": [
    {
      "cell_type": "code",
      "metadata": {
        "colab_type": "code",
        "id": "qRvOZy6cUcmR",
        "colab": {}
      },
      "source": [
        "import pandas as pd\n",
        "import numpy as np\n",
        "from sklearn.datasets import fetch_covtype, fetch_kddcup99, fetch_lfw_pairs, fetch_lfw_people, fetch_olivetti_faces\n",
        "from sklearn.datasets import fetch_rcv1, load_breast_cancer, load_digits, load_wine"
      ],
      "execution_count": 1,
      "outputs": []
    },
    {
      "cell_type": "code",
      "metadata": {
        "colab_type": "code",
        "id": "Md0CGMe8XZAr",
        "colab": {}
      },
      "source": [
        "from sklearn.model_selection import train_test_split\n",
        "from sklearn.preprocessing import LabelEncoder, StandardScaler\n",
        "from scipy.sparse import csr_matrix\n",
        "import matplotlib.pyplot as plt"
      ],
      "execution_count": 2,
      "outputs": []
    },
    {
      "cell_type": "code",
      "metadata": {
        "colab_type": "code",
        "id": "J2HN_WLXatPP",
        "colab": {}
      },
      "source": [
        "from keras import models\n",
        "from keras import layers\n",
        "from keras.utils import to_categorical"
      ],
      "execution_count": 3,
      "outputs": []
    },
    {
      "cell_type": "markdown",
      "metadata": {
        "colab_type": "text",
        "id": "Il4XUxkLFR8s"
      },
      "source": [
        "Breast Cancer Dataset"
      ]
    },
    {
      "cell_type": "code",
      "metadata": {
        "colab_type": "code",
        "id": "9z2B-lakFPL4",
        "colab": {}
      },
      "source": [
        "cancer = load_breast_cancer()\n",
        "x_load_breast_cancer = cancer.data\n",
        "y_load_breast_cancer = cancer.target"
      ],
      "execution_count": 4,
      "outputs": []
    },
    {
      "cell_type": "code",
      "metadata": {
        "colab_type": "code",
        "id": "Sg0OdQzBFX2L",
        "colab": {
          "base_uri": "https://localhost:8080/",
          "height": 51
        },
        "outputId": "bcdb819e-2a50-449e-8acf-f44ac21608cb"
      },
      "source": [
        "x_cancer = pd.DataFrame(x_load_breast_cancer)\n",
        "y_cancer = pd.DataFrame(y_load_breast_cancer)\n",
        "print(x_cancer.shape)\n",
        "print(y_cancer.shape)"
      ],
      "execution_count": 5,
      "outputs": [
        {
          "output_type": "stream",
          "text": [
            "(569, 30)\n",
            "(569, 1)\n"
          ],
          "name": "stdout"
        }
      ]
    },
    {
      "cell_type": "code",
      "metadata": {
        "colab_type": "code",
        "id": "o6mnfcBaH8QC",
        "colab": {}
      },
      "source": [
        "sc = StandardScaler()\n",
        "x_cancer = pd.DataFrame(sc.fit_transform(x_cancer))"
      ],
      "execution_count": 6,
      "outputs": []
    },
    {
      "cell_type": "code",
      "metadata": {
        "colab_type": "code",
        "id": "yJEUlRCpFjVp",
        "colab": {
          "base_uri": "https://localhost:8080/",
          "height": 119
        },
        "outputId": "3b0cc52a-146a-440d-ea1a-751b15799553"
      },
      "source": [
        "x_train, x_test, y_train, y_test = train_test_split(x_cancer, y_cancer, test_size = 0.2, shuffle = True)\n",
        "x_dev, x_test, y_dev, y_test = train_test_split(x_test, y_test, test_size = 0.5, shuffle = True)\n",
        "print(x_train.shape)\n",
        "print(x_dev.shape)\n",
        "print(x_test.shape)\n",
        "print(y_train.shape)\n",
        "print(y_dev.shape)\n",
        "print(y_test.shape)"
      ],
      "execution_count": 7,
      "outputs": [
        {
          "output_type": "stream",
          "text": [
            "(455, 30)\n",
            "(57, 30)\n",
            "(57, 30)\n",
            "(455, 1)\n",
            "(57, 1)\n",
            "(57, 1)\n"
          ],
          "name": "stdout"
        }
      ]
    },
    {
      "cell_type": "code",
      "metadata": {
        "colab_type": "code",
        "id": "nG7wUh6gFniy",
        "colab": {}
      },
      "source": [
        "nn_cancer = models.Sequential()\n",
        "\n",
        "nn_cancer.add(layers.Dense(128, activation = 'relu', input_shape = (30, )))\n",
        "nn_cancer.add(layers.Dense(64, activation = 'relu'))\n",
        "nn_cancer.add(layers.Dense(1, activation = 'sigmoid'))\n",
        "\n",
        "nn_cancer.compile(optimizer = 'sgd', loss = 'binary_crossentropy', metrics = ['accuracy'])"
      ],
      "execution_count": 8,
      "outputs": []
    },
    {
      "cell_type": "code",
      "metadata": {
        "colab_type": "code",
        "id": "AXjhgwG2FptR",
        "colab": {
          "base_uri": "https://localhost:8080/",
          "height": 1000
        },
        "outputId": "c54c22a4-0f19-499c-dae0-04dc5c541c31"
      },
      "source": [
        "cancer_history = nn_cancer.fit(x_train, y_train, epochs = 30, validation_data = (x_dev, y_dev))\n",
        "\n",
        "cancer_dev_acc = nn_cancer.evaluate(x_dev, y_dev)[1]\n",
        "print('The dev accuracy is', cancer_dev_acc)"
      ],
      "execution_count": 9,
      "outputs": [
        {
          "output_type": "stream",
          "text": [
            "Epoch 1/30\n",
            "15/15 [==============================] - 0s 16ms/step - loss: 0.7225 - accuracy: 0.3846 - val_loss: 0.6254 - val_accuracy: 0.4737\n",
            "Epoch 2/30\n",
            "15/15 [==============================] - 0s 3ms/step - loss: 0.5711 - accuracy: 0.6945 - val_loss: 0.4991 - val_accuracy: 0.8947\n",
            "Epoch 3/30\n",
            "15/15 [==============================] - 0s 3ms/step - loss: 0.4736 - accuracy: 0.8989 - val_loss: 0.4103 - val_accuracy: 0.9649\n",
            "Epoch 4/30\n",
            "15/15 [==============================] - 0s 3ms/step - loss: 0.4035 - accuracy: 0.9385 - val_loss: 0.3419 - val_accuracy: 0.9649\n",
            "Epoch 5/30\n",
            "15/15 [==============================] - 0s 3ms/step - loss: 0.3497 - accuracy: 0.9385 - val_loss: 0.2912 - val_accuracy: 0.9649\n",
            "Epoch 6/30\n",
            "15/15 [==============================] - 0s 3ms/step - loss: 0.3094 - accuracy: 0.9473 - val_loss: 0.2532 - val_accuracy: 0.9649\n",
            "Epoch 7/30\n",
            "15/15 [==============================] - 0s 3ms/step - loss: 0.2779 - accuracy: 0.9451 - val_loss: 0.2235 - val_accuracy: 0.9649\n",
            "Epoch 8/30\n",
            "15/15 [==============================] - 0s 3ms/step - loss: 0.2531 - accuracy: 0.9429 - val_loss: 0.2002 - val_accuracy: 0.9649\n",
            "Epoch 9/30\n",
            "15/15 [==============================] - 0s 3ms/step - loss: 0.2332 - accuracy: 0.9495 - val_loss: 0.1804 - val_accuracy: 0.9649\n",
            "Epoch 10/30\n",
            "15/15 [==============================] - 0s 3ms/step - loss: 0.2164 - accuracy: 0.9495 - val_loss: 0.1646 - val_accuracy: 0.9649\n",
            "Epoch 11/30\n",
            "15/15 [==============================] - 0s 3ms/step - loss: 0.2025 - accuracy: 0.9473 - val_loss: 0.1515 - val_accuracy: 0.9649\n",
            "Epoch 12/30\n",
            "15/15 [==============================] - 0s 3ms/step - loss: 0.1907 - accuracy: 0.9516 - val_loss: 0.1406 - val_accuracy: 0.9649\n",
            "Epoch 13/30\n",
            "15/15 [==============================] - 0s 3ms/step - loss: 0.1807 - accuracy: 0.9516 - val_loss: 0.1314 - val_accuracy: 0.9649\n",
            "Epoch 14/30\n",
            "15/15 [==============================] - 0s 3ms/step - loss: 0.1722 - accuracy: 0.9516 - val_loss: 0.1233 - val_accuracy: 0.9649\n",
            "Epoch 15/30\n",
            "15/15 [==============================] - 0s 3ms/step - loss: 0.1645 - accuracy: 0.9538 - val_loss: 0.1171 - val_accuracy: 0.9649\n",
            "Epoch 16/30\n",
            "15/15 [==============================] - 0s 4ms/step - loss: 0.1585 - accuracy: 0.9560 - val_loss: 0.1109 - val_accuracy: 0.9649\n",
            "Epoch 17/30\n",
            "15/15 [==============================] - 0s 3ms/step - loss: 0.1526 - accuracy: 0.9560 - val_loss: 0.1058 - val_accuracy: 0.9649\n",
            "Epoch 18/30\n",
            "15/15 [==============================] - 0s 3ms/step - loss: 0.1473 - accuracy: 0.9560 - val_loss: 0.1008 - val_accuracy: 0.9649\n",
            "Epoch 19/30\n",
            "15/15 [==============================] - 0s 3ms/step - loss: 0.1424 - accuracy: 0.9582 - val_loss: 0.0964 - val_accuracy: 0.9649\n",
            "Epoch 20/30\n",
            "15/15 [==============================] - 0s 3ms/step - loss: 0.1380 - accuracy: 0.9582 - val_loss: 0.0925 - val_accuracy: 0.9825\n",
            "Epoch 21/30\n",
            "15/15 [==============================] - 0s 3ms/step - loss: 0.1341 - accuracy: 0.9604 - val_loss: 0.0887 - val_accuracy: 0.9825\n",
            "Epoch 22/30\n",
            "15/15 [==============================] - 0s 3ms/step - loss: 0.1302 - accuracy: 0.9648 - val_loss: 0.0854 - val_accuracy: 0.9825\n",
            "Epoch 23/30\n",
            "15/15 [==============================] - 0s 3ms/step - loss: 0.1269 - accuracy: 0.9648 - val_loss: 0.0825 - val_accuracy: 0.9825\n",
            "Epoch 24/30\n",
            "15/15 [==============================] - 0s 3ms/step - loss: 0.1238 - accuracy: 0.9648 - val_loss: 0.0798 - val_accuracy: 0.9825\n",
            "Epoch 25/30\n",
            "15/15 [==============================] - 0s 3ms/step - loss: 0.1209 - accuracy: 0.9648 - val_loss: 0.0773 - val_accuracy: 0.9825\n",
            "Epoch 26/30\n",
            "15/15 [==============================] - 0s 3ms/step - loss: 0.1182 - accuracy: 0.9670 - val_loss: 0.0749 - val_accuracy: 0.9825\n",
            "Epoch 27/30\n",
            "15/15 [==============================] - 0s 3ms/step - loss: 0.1157 - accuracy: 0.9692 - val_loss: 0.0730 - val_accuracy: 0.9825\n",
            "Epoch 28/30\n",
            "15/15 [==============================] - 0s 3ms/step - loss: 0.1134 - accuracy: 0.9670 - val_loss: 0.0710 - val_accuracy: 0.9825\n",
            "Epoch 29/30\n",
            "15/15 [==============================] - 0s 3ms/step - loss: 0.1111 - accuracy: 0.9670 - val_loss: 0.0693 - val_accuracy: 0.9825\n",
            "Epoch 30/30\n",
            "15/15 [==============================] - 0s 3ms/step - loss: 0.1090 - accuracy: 0.9670 - val_loss: 0.0675 - val_accuracy: 0.9825\n",
            "2/2 [==============================] - 0s 2ms/step - loss: 0.0675 - accuracy: 0.9825\n",
            "The dev accuracy is 0.9824561476707458\n"
          ],
          "name": "stdout"
        }
      ]
    },
    {
      "cell_type": "markdown",
      "metadata": {
        "colab_type": "text",
        "id": "tpPB80RNFs07"
      },
      "source": [
        "Plotting Accuracy & Validation Accuracy with Epoch\n",
        "\n",
        "Plotting Loss & Validation Loss with Epoch"
      ]
    },
    {
      "cell_type": "code",
      "metadata": {
        "colab_type": "code",
        "id": "TzHb2x3IFtKR",
        "colab": {
          "base_uri": "https://localhost:8080/",
          "height": 899
        },
        "outputId": "792745fe-402d-499e-fe8b-32ec2d3491d2"
      },
      "source": [
        "plt.figure(figsize = (10,7))\n",
        "plt.plot(cancer_history.history['accuracy'], color = 'blue')\n",
        "plt.plot(cancer_history.history['val_accuracy'], color = 'red')\n",
        "plt.title('Model accuracy')\n",
        "plt.ylabel('Accuracy')\n",
        "plt.xlabel('Epoch')\n",
        "plt.legend(['Train', 'Validation'], loc='upper left')\n",
        "plt.show()\n",
        "\n",
        "plt.figure(figsize = (10,7))\n",
        "plt.plot(cancer_history.history['loss'], color = 'blue')\n",
        "plt.plot(cancer_history.history['val_loss'], color = 'red')\n",
        "# plt.ylim((0,3))\n",
        "plt.title('Model loss')\n",
        "plt.ylabel('Loss')\n",
        "plt.xlabel('Epoch')\n",
        "plt.legend(['Train', 'Validation'], loc='upper left')\n",
        "plt.show()"
      ],
      "execution_count": 10,
      "outputs": [
        {
          "output_type": "display_data",
          "data": {
            "image/png": "[encoded data removed]",
            "text/plain": [
              "<Figure size 720x504 with 1 Axes>"
            ]
          },
          "metadata": {
            "tags": [],
            "needs_background": "light"
          }
        },
        {
          "output_type": "display_data",
          "data": {
            "image/png": "[encoded data removed]",
            "text/plain": [
              "<Figure size 720x504 with 1 Axes>"
            ]
          },
          "metadata": {
            "tags": [],
            "needs_background": "light"
          }
        }
      ]
    },
    {
      "cell_type": "code",
      "metadata": {
        "colab_type": "code",
        "id": "dxztPM_tFxJC",
        "colab": {
          "base_uri": "https://localhost:8080/",
          "height": 51
        },
        "outputId": "8df569ca-0d1e-4ab3-fdc4-5e9c5903a5d0"
      },
      "source": [
        "cancer_test_acc = nn_cancer.evaluate(x_test, y_test)[1]\n",
        "print('The test accuracy is', cancer_test_acc)"
      ],
      "execution_count": 11,
      "outputs": [
        {
          "output_type": "stream",
          "text": [
            "2/2 [==============================] - 0s 4ms/step - loss: 0.0909 - accuracy: 0.9825\n",
            "The test accuracy is 0.9824561476707458\n"
          ],
          "name": "stdout"
        }
      ]
    }
  ]
}