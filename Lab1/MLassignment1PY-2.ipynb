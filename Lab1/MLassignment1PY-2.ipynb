{
 "cells": [
  {
   "cell_type": "markdown",
   "metadata": {},
   "source": [
    "MITHESH R, J002"
   ]
  },
  {
   "cell_type": "markdown",
   "metadata": {},
   "source": [
    "Loading Packages"
   ]
  },
  {
   "cell_type": "code",
   "execution_count": 27,
   "metadata": {},
   "outputs": [],
   "source": [
    "import pandas as pd\n",
    "import numpy as np\n",
    "from statistics import mean \n",
    "import matplotlib.pyplot as plt"
   ]
  },
  {
   "cell_type": "markdown",
   "metadata": {},
   "source": [
    "Statistics Package Exercise 1: Exploring Variables in a Dataset\n",
    "View dataset"
   ]
  },
  {
   "cell_type": "code",
   "execution_count": 28,
   "metadata": {},
   "outputs": [
    {
     "data": {
      "text/html": [
       "<div>\n",
       "<style scoped>\n",
       "    .dataframe tbody tr th:only-of-type {\n",
       "        vertical-align: middle;\n",
       "    }\n",
       "\n",
       "    .dataframe tbody tr th {\n",
       "        vertical-align: top;\n",
       "    }\n",
       "\n",
       "    .dataframe thead th {\n",
       "        text-align: right;\n",
       "    }\n",
       "</style>\n",
       "<table border=\"1\" class=\"dataframe\">\n",
       "  <thead>\n",
       "    <tr style=\"text-align: right;\">\n",
       "      <th></th>\n",
       "      <th>Unnamed: 0</th>\n",
       "      <th>Hospt</th>\n",
       "      <th>Treat</th>\n",
       "      <th>Outcome</th>\n",
       "      <th>Time</th>\n",
       "      <th>AcuteT</th>\n",
       "      <th>Age</th>\n",
       "      <th>Gender</th>\n",
       "    </tr>\n",
       "  </thead>\n",
       "  <tbody>\n",
       "    <tr>\n",
       "      <th>0</th>\n",
       "      <td>1</td>\n",
       "      <td>1</td>\n",
       "      <td>0</td>\n",
       "      <td>1</td>\n",
       "      <td>36.143002</td>\n",
       "      <td>211</td>\n",
       "      <td>33</td>\n",
       "      <td>1</td>\n",
       "    </tr>\n",
       "    <tr>\n",
       "      <th>1</th>\n",
       "      <td>2</td>\n",
       "      <td>1</td>\n",
       "      <td>1</td>\n",
       "      <td>0</td>\n",
       "      <td>105.142998</td>\n",
       "      <td>176</td>\n",
       "      <td>49</td>\n",
       "      <td>1</td>\n",
       "    </tr>\n",
       "    <tr>\n",
       "      <th>2</th>\n",
       "      <td>3</td>\n",
       "      <td>1</td>\n",
       "      <td>1</td>\n",
       "      <td>0</td>\n",
       "      <td>74.570999</td>\n",
       "      <td>191</td>\n",
       "      <td>50</td>\n",
       "      <td>1</td>\n",
       "    </tr>\n",
       "    <tr>\n",
       "      <th>3</th>\n",
       "      <td>4</td>\n",
       "      <td>1</td>\n",
       "      <td>0</td>\n",
       "      <td>1</td>\n",
       "      <td>49.714001</td>\n",
       "      <td>206</td>\n",
       "      <td>29</td>\n",
       "      <td>2</td>\n",
       "    </tr>\n",
       "    <tr>\n",
       "      <th>4</th>\n",
       "      <td>5</td>\n",
       "      <td>1</td>\n",
       "      <td>0</td>\n",
       "      <td>0</td>\n",
       "      <td>14.429000</td>\n",
       "      <td>63</td>\n",
       "      <td>29</td>\n",
       "      <td>1</td>\n",
       "    </tr>\n",
       "  </tbody>\n",
       "</table>\n",
       "</div>"
      ],
      "text/plain": [
       "   Unnamed: 0  Hospt  Treat  Outcome        Time  AcuteT  Age  Gender\n",
       "0           1      1      0        1   36.143002     211   33       1\n",
       "1           2      1      1        0  105.142998     176   49       1\n",
       "2           3      1      1        0   74.570999     191   50       1\n",
       "3           4      1      0        1   49.714001     206   29       2\n",
       "4           5      1      0        0   14.429000      63   29       1"
      ]
     },
     "execution_count": 28,
     "metadata": {},
     "output_type": "execute_result"
    }
   ],
   "source": [
    "dep = pd.read_csv('/Users/home/Downloads/OneDrive_1_07-07-2020/depression.csv')\n",
    "dep.head()"
   ]
  },
  {
   "cell_type": "markdown",
   "metadata": {},
   "source": [
    "Question 1: What are the categorical variables in this dataset?\n",
    "From the above image, we can see that ‘Hospt’ , ‘Treat’ , ‘Outcome’ and ‘Gender’ are categorical variables, i.e have outcomes in levels.\n",
    "1. Hostp because the numbers represent codes, which are used to identify individual hospitals and place them into categories.\n",
    "2. Treat because the treatment received by the patients is in the form of categories (Lithium, Imipramine, or Placebo)\n",
    "3. Outcome since recurrence is in the form of two categories (Recurrence or No Recurrence)\n",
    "4. Gender because the numbers represent two distinct categories: Female and Male.\n"
   ]
  },
  {
   "cell_type": "markdown",
   "metadata": {},
   "source": [
    "Question 2: What are the quantitative variables in this dataset?\n",
    "From the above image, we can see that ‘Time’ , ‘AcuteT’ and ‘Age’ are quantitative variables, i.e have outcomes in datatype int or numeric (continous)\n",
    "1. Time since it can take on multiple numerical values, which have arithmetic meaning (i.e., it makes sense to add, subtract, multiply, divide, or compare the magnitude of such values)\n",
    "2. Age since it can take on multiple numerical values, which represent a characteristic of the patient\n",
    "3. AcuteT because it can take on multiple numerical values to represent a characteristic of the patient."
   ]
  },
  {
   "cell_type": "markdown",
   "metadata": {},
   "source": [
    "Statistics Package Exercise 2 : Tallying Data and Creating Pie Charts"
   ]
  },
  {
   "cell_type": "markdown",
   "metadata": {},
   "source": [
    "Loading Dataset for question 3: friends.csv"
   ]
  },
  {
   "cell_type": "code",
   "execution_count": 29,
   "metadata": {},
   "outputs": [
    {
     "data": {
      "text/html": [
       "<div>\n",
       "<style scoped>\n",
       "    .dataframe tbody tr th:only-of-type {\n",
       "        vertical-align: middle;\n",
       "    }\n",
       "\n",
       "    .dataframe tbody tr th {\n",
       "        vertical-align: top;\n",
       "    }\n",
       "\n",
       "    .dataframe thead th {\n",
       "        text-align: right;\n",
       "    }\n",
       "</style>\n",
       "<table border=\"1\" class=\"dataframe\">\n",
       "  <thead>\n",
       "    <tr style=\"text-align: right;\">\n",
       "      <th></th>\n",
       "      <th>Unnamed: 0</th>\n",
       "      <th>Friends</th>\n",
       "    </tr>\n",
       "  </thead>\n",
       "  <tbody>\n",
       "    <tr>\n",
       "      <th>0</th>\n",
       "      <td>1</td>\n",
       "      <td>No difference</td>\n",
       "    </tr>\n",
       "    <tr>\n",
       "      <th>1</th>\n",
       "      <td>2</td>\n",
       "      <td>No difference</td>\n",
       "    </tr>\n",
       "    <tr>\n",
       "      <th>2</th>\n",
       "      <td>3</td>\n",
       "      <td>No difference</td>\n",
       "    </tr>\n",
       "    <tr>\n",
       "      <th>3</th>\n",
       "      <td>4</td>\n",
       "      <td>No difference</td>\n",
       "    </tr>\n",
       "    <tr>\n",
       "      <th>4</th>\n",
       "      <td>5</td>\n",
       "      <td>No difference</td>\n",
       "    </tr>\n",
       "  </tbody>\n",
       "</table>\n",
       "</div>"
      ],
      "text/plain": [
       "   Unnamed: 0        Friends\n",
       "0           1  No difference\n",
       "1           2  No difference\n",
       "2           3  No difference\n",
       "3           4  No difference\n",
       "4           5  No difference"
      ]
     },
     "execution_count": 29,
     "metadata": {},
     "output_type": "execute_result"
    }
   ],
   "source": [
    "friends = pd.read_csv('/Users/home/Downloads/OneDrive_1_07-07-2020/friends.csv')\n",
    "friends.head()"
   ]
  },
  {
   "cell_type": "code",
   "execution_count": 30,
   "metadata": {},
   "outputs": [
    {
     "data": {
      "text/plain": [
       "No difference    602\n",
       "Opposite sex     434\n",
       "Same sex         164\n",
       "Name: Friends, dtype: int64"
      ]
     },
     "execution_count": 30,
     "metadata": {},
     "output_type": "execute_result"
    }
   ],
   "source": [
    "friends.Friends.value_counts()"
   ]
  },
  {
   "cell_type": "code",
   "execution_count": 31,
   "metadata": {},
   "outputs": [
    {
     "data": {
      "text/plain": [
       "No difference    0.501667\n",
       "Opposite sex     0.361667\n",
       "Same sex         0.136667\n",
       "Name: Friends, dtype: float64"
      ]
     },
     "execution_count": 31,
     "metadata": {},
     "output_type": "execute_result"
    }
   ],
   "source": [
    "friends.Friends.value_counts()/len(df1)"
   ]
  },
  {
   "cell_type": "markdown",
   "metadata": {},
   "source": [
    "In percentage"
   ]
  },
  {
   "cell_type": "code",
   "execution_count": 32,
   "metadata": {},
   "outputs": [
    {
     "data": {
      "text/plain": [
       "No difference    50.166667\n",
       "Opposite sex     36.166667\n",
       "Same sex         13.666667\n",
       "Name: Friends, dtype: float64"
      ]
     },
     "execution_count": 32,
     "metadata": {},
     "output_type": "execute_result"
    }
   ],
   "source": [
    "friends.Friends.value_counts()*100/len(df1)"
   ]
  },
  {
   "cell_type": "code",
   "execution_count": 33,
   "metadata": {},
   "outputs": [
    {
     "data": {
      "text/plain": [
       "([<matplotlib.patches.Wedge at 0x7f9359b57390>,\n",
       "  <matplotlib.patches.Wedge at 0x7f9359ac52d0>,\n",
       "  <matplotlib.patches.Wedge at 0x7f9359b57d10>],\n",
       " [Text(-0.005759554721866945, 1.0999849215009294, ''),\n",
       "  Text(-0.45266576442884915, -1.0025436178611113, ''),\n",
       "  Text(1.0001597573937753, -0.45790878970601206, '')])"
      ]
     },
     "execution_count": 33,
     "metadata": {},
     "output_type": "execute_result"
    },
    {
     "data": {
      "image/png": "[encoded data removed]",
      "text/plain": [
       "<Figure size 432x288 with 1 Axes>"
      ]
     },
     "metadata": {},
     "output_type": "display_data"
    }
   ],
   "source": [
    "plt.pie(friends.Friends.value_counts())"
   ]
  },
  {
   "cell_type": "code",
   "execution_count": 34,
   "metadata": {},
   "outputs": [
    {
     "data": {
      "text/plain": [
       "([<matplotlib.patches.Wedge at 0x7f9359bfda90>,\n",
       "  <matplotlib.patches.Wedge at 0x7f9359bfde90>,\n",
       "  <matplotlib.patches.Wedge at 0x7f9359c0a490>],\n",
       " [Text(-0.005759554721866945, 1.0999849215009294, 'No Difference'),\n",
       "  Text(-0.45266576442884915, -1.0025436178611113, 'Opposite Sex'),\n",
       "  Text(1.0001597573937753, -0.45790878970601206, 'Same Sex')])"
      ]
     },
     "execution_count": 34,
     "metadata": {},
     "output_type": "execute_result"
    },
    {
     "data": {
      "image/png": "[encoded data removed]",
      "text/plain": [
       "<Figure size 432x288 with 1 Axes>"
      ]
     },
     "metadata": {},
     "output_type": "display_data"
    }
   ],
   "source": [
    "legend = ['No Difference', 'Opposite Sex', 'Same Sex']\n",
    "plt.pie(friends.Friends.value_counts(), labels = legend)"
   ]
  },
  {
   "cell_type": "markdown",
   "metadata": {},
   "source": [
    "Question 3: Describe the distribution of the variable “friends” in dataset - Survey that asked 1,200 U.S. college students about their body perception\n",
    "\n",
    "The students are NOT divided equally among the three categories. About 50% of the students find it as easy to make friends with the opposite sex as with the same sex. Among the remaining 50% of the students, the majority (36.2%) find it easier to make friends with people of the opposite sex, and the remainder (13.7%) find it easier to make friends with people of their own sex.\n"
   ]
  },
  {
   "cell_type": "markdown",
   "metadata": {},
   "source": [
    "Statistics Package Exercise 3: Creating and Describing Histograms\n",
    "Loading Dataset for question 4 to 6: actor_age.csv\n"
   ]
  },
  {
   "cell_type": "code",
   "execution_count": 35,
   "metadata": {},
   "outputs": [
    {
     "data": {
      "text/html": [
       "<div>\n",
       "<style scoped>\n",
       "    .dataframe tbody tr th:only-of-type {\n",
       "        vertical-align: middle;\n",
       "    }\n",
       "\n",
       "    .dataframe tbody tr th {\n",
       "        vertical-align: top;\n",
       "    }\n",
       "\n",
       "    .dataframe thead th {\n",
       "        text-align: right;\n",
       "    }\n",
       "</style>\n",
       "<table border=\"1\" class=\"dataframe\">\n",
       "  <thead>\n",
       "    <tr style=\"text-align: right;\">\n",
       "      <th></th>\n",
       "      <th>Unnamed: 0</th>\n",
       "      <th>Age</th>\n",
       "    </tr>\n",
       "  </thead>\n",
       "  <tbody>\n",
       "    <tr>\n",
       "      <th>0</th>\n",
       "      <td>1</td>\n",
       "      <td>43</td>\n",
       "    </tr>\n",
       "    <tr>\n",
       "      <th>1</th>\n",
       "      <td>2</td>\n",
       "      <td>42</td>\n",
       "    </tr>\n",
       "    <tr>\n",
       "      <th>2</th>\n",
       "      <td>3</td>\n",
       "      <td>48</td>\n",
       "    </tr>\n",
       "    <tr>\n",
       "      <th>3</th>\n",
       "      <td>4</td>\n",
       "      <td>49</td>\n",
       "    </tr>\n",
       "    <tr>\n",
       "      <th>4</th>\n",
       "      <td>5</td>\n",
       "      <td>56</td>\n",
       "    </tr>\n",
       "  </tbody>\n",
       "</table>\n",
       "</div>"
      ],
      "text/plain": [
       "   Unnamed: 0  Age\n",
       "0           1   43\n",
       "1           2   42\n",
       "2           3   48\n",
       "3           4   49\n",
       "4           5   56"
      ]
     },
     "execution_count": 35,
     "metadata": {},
     "output_type": "execute_result"
    }
   ],
   "source": [
    "actors = pd.read_csv('/Users/home/Downloads/OneDrive_1_07-07-2020/actor_age.csv')\n",
    "actors.head()"
   ]
  },
  {
   "cell_type": "code",
   "execution_count": 36,
   "metadata": {},
   "outputs": [
    {
     "data": {
      "text/plain": [
       "(array([5., 8., 9., 6., 7., 4., 3., 1., 0., 1.]),\n",
       " array([29. , 33.7, 38.4, 43.1, 47.8, 52.5, 57.2, 61.9, 66.6, 71.3, 76. ]),\n",
       " <a list of 10 Patch objects>)"
      ]
     },
     "execution_count": 36,
     "metadata": {},
     "output_type": "execute_result"
    },
    {
     "data": {
      "image/png": "[encoded data removed]",
      "text/plain": [
       "<Figure size 432x288 with 1 Axes>"
      ]
     },
     "metadata": {
      "needs_background": "light"
     },
     "output_type": "display_data"
    }
   ],
   "source": [
    "plt.hist(actors.Age)"
   ]
  },
  {
   "cell_type": "code",
   "execution_count": 37,
   "metadata": {},
   "outputs": [
    {
     "data": {
      "text/plain": [
       "[Text(0, 0.5, 'Number of Actors'),\n",
       " Text(0.5, 0, 'Age of Best Actor Oscar Winners (1970-2013)'),\n",
       " Text(0.5, 1.0, 'Best Actor Oscar Winners Ages')]"
      ]
     },
     "execution_count": 37,
     "metadata": {},
     "output_type": "execute_result"
    },
    {
     "data": {
      "image/png": "[encoded data removed]",
      "text/plain": [
       "<Figure size 432x288 with 1 Axes>"
      ]
     },
     "metadata": {
      "needs_background": "light"
     },
     "output_type": "display_data"
    }
   ],
   "source": [
    "plt.hist(actors.Age)\n",
    "plt.gca().set(xlabel='Age of Best Actor Oscar Winners (1970-2013)', ylabel='Number of Actors', title='Best Actor Oscar Winners Ages')"
   ]
  },
  {
   "cell_type": "markdown",
   "metadata": {},
   "source": [
    "Question 4: Describe the distribution of the ages of the Best Actor Oscar winners. Be sure to address shape, center, spread and outliers (Dataset - Best Actor Oscar winners (1970-2013))\n",
    "\n",
    "1. Shape: the distribution is skewed right. This means that most actors receive the best acting Oscar at a relatively younger age (before age 48), and fewer at an older age.\n",
    "2. Center: The distribution seems to be centered at around 42-43. This means that about half the actors are 42 or younger when they receive the Oscar, and about half are older.\n",
    "3. Spread: The age distribution ranges from about 30 to about 75. The entire dataset is covered, then, by a range of 45 years. It should be noted, though, that there is one high outlier at around age 75, and the rest of the data ranges only from 30 to 60.\n",
    "4. Outliers: As mentioned above, there is one high outlier at around age 75."
   ]
  },
  {
   "cell_type": "code",
   "execution_count": 38,
   "metadata": {},
   "outputs": [
    {
     "data": {
      "text/plain": [
       "count    44.000000\n",
       "mean     44.977273\n",
       "std       9.749153\n",
       "min      29.000000\n",
       "25%      38.000000\n",
       "50%      43.500000\n",
       "75%      50.250000\n",
       "max      76.000000\n",
       "Name: Age, dtype: float64"
      ]
     },
     "execution_count": 38,
     "metadata": {},
     "output_type": "execute_result"
    }
   ],
   "source": [
    "actors.Age.describe()"
   ]
  },
  {
   "cell_type": "markdown",
   "metadata": {},
   "source": [
    "Question 5: Getting information from the output:\n",
    "A. How many observations are in this data set?\n",
    "B. What is the mean age of the actors who won the Oscar?\n",
    "C. What is the five-number summary of the distribution? (Dataset - Best Actor Oscar winners (1970-2013))\n",
    "\n",
    "\n",
    "A. There are n = 44 observations in the data set (representing the age of the Best Actor Oscar winners of the 44 years from 1970 through 2013).\n",
    "B. Mean = 44.98\n",
    "C. The five-number summary is: min = 29, Q1 = 38, M = 43.5, Q3 = 50.5, Max = 76"
   ]
  },
  {
   "cell_type": "markdown",
   "metadata": {},
   "source": [
    "Question 6: Get information from the five-number summary:\n",
    "A. Half of the actors won the Oscar before what age? B. What is the range covered by all the actors’ ages?\n",
    "C. What is the range covered by the middle 50% of the ages? (Dataset - Best Actor Oscar winners (1970-2013))\n",
    "\n",
    "\n",
    "A. Half the actors won the Oscar before age 43.5 (the median).\n",
    "B. The range covered by all the ages is: Range = Max - min = 76 - 29 = 47.\n",
    "C. The range covered by the middle 50% of the ages is: IQR = Q3 - Q1 = 50.5 - 38 = 12.5\n"
   ]
  },
  {
   "cell_type": "markdown",
   "metadata": {},
   "source": [
    "Statistics Package Exercise 4: Creating Side-by-Side Boxplots"
   ]
  },
  {
   "cell_type": "markdown",
   "metadata": {},
   "source": [
    "Loading Dataset: grad_data.csv\n"
   ]
  },
  {
   "cell_type": "code",
   "execution_count": 39,
   "metadata": {},
   "outputs": [
    {
     "data": {
      "text/html": [
       "<div>\n",
       "<style scoped>\n",
       "    .dataframe tbody tr th:only-of-type {\n",
       "        vertical-align: middle;\n",
       "    }\n",
       "\n",
       "    .dataframe tbody tr th {\n",
       "        vertical-align: top;\n",
       "    }\n",
       "\n",
       "    .dataframe thead th {\n",
       "        text-align: right;\n",
       "    }\n",
       "</style>\n",
       "<table border=\"1\" class=\"dataframe\">\n",
       "  <thead>\n",
       "    <tr style=\"text-align: right;\">\n",
       "      <th></th>\n",
       "      <th>Unnamed: 0</th>\n",
       "      <th>College.A</th>\n",
       "      <th>College.B</th>\n",
       "      <th>College.C</th>\n",
       "      <th>College.D</th>\n",
       "      <th>College.E</th>\n",
       "      <th>College.F</th>\n",
       "    </tr>\n",
       "  </thead>\n",
       "  <tbody>\n",
       "    <tr>\n",
       "      <th>0</th>\n",
       "      <td>1</td>\n",
       "      <td>57.6</td>\n",
       "      <td>70.1</td>\n",
       "      <td>54.5</td>\n",
       "      <td>80.1</td>\n",
       "      <td>71.3</td>\n",
       "      <td>68.8</td>\n",
       "    </tr>\n",
       "    <tr>\n",
       "      <th>1</th>\n",
       "      <td>2</td>\n",
       "      <td>43.2</td>\n",
       "      <td>69.6</td>\n",
       "      <td>55.6</td>\n",
       "      <td>77.3</td>\n",
       "      <td>62.6</td>\n",
       "      <td>61.0</td>\n",
       "    </tr>\n",
       "    <tr>\n",
       "      <th>2</th>\n",
       "      <td>3</td>\n",
       "      <td>49.6</td>\n",
       "      <td>67.3</td>\n",
       "      <td>56.9</td>\n",
       "      <td>74.7</td>\n",
       "      <td>54.5</td>\n",
       "      <td>57.7</td>\n",
       "    </tr>\n",
       "    <tr>\n",
       "      <th>3</th>\n",
       "      <td>4</td>\n",
       "      <td>51.4</td>\n",
       "      <td>76.7</td>\n",
       "      <td>71.0</td>\n",
       "      <td>79.2</td>\n",
       "      <td>57.5</td>\n",
       "      <td>66.4</td>\n",
       "    </tr>\n",
       "    <tr>\n",
       "      <th>4</th>\n",
       "      <td>5</td>\n",
       "      <td>69.9</td>\n",
       "      <td>69.4</td>\n",
       "      <td>73.3</td>\n",
       "      <td>84.6</td>\n",
       "      <td>55.0</td>\n",
       "      <td>75.2</td>\n",
       "    </tr>\n",
       "  </tbody>\n",
       "</table>\n",
       "</div>"
      ],
      "text/plain": [
       "   Unnamed: 0  College.A  College.B  College.C  College.D  College.E  \\\n",
       "0           1       57.6       70.1       54.5       80.1       71.3   \n",
       "1           2       43.2       69.6       55.6       77.3       62.6   \n",
       "2           3       49.6       67.3       56.9       74.7       54.5   \n",
       "3           4       51.4       76.7       71.0       79.2       57.5   \n",
       "4           5       69.9       69.4       73.3       84.6       55.0   \n",
       "\n",
       "   College.F  \n",
       "0       68.8  \n",
       "1       61.0  \n",
       "2       57.7  \n",
       "3       66.4  \n",
       "4       75.2  "
      ]
     },
     "execution_count": 39,
     "metadata": {},
     "output_type": "execute_result"
    }
   ],
   "source": [
    "grad = pd.read_csv('/Users/home/Downloads/OneDrive_1_07-07-2020/grad_data.csv')\n",
    "grad.head()"
   ]
  },
  {
   "cell_type": "code",
   "execution_count": 40,
   "metadata": {},
   "outputs": [
    {
     "data": {
      "text/html": [
       "<div>\n",
       "<style scoped>\n",
       "    .dataframe tbody tr th:only-of-type {\n",
       "        vertical-align: middle;\n",
       "    }\n",
       "\n",
       "    .dataframe tbody tr th {\n",
       "        vertical-align: top;\n",
       "    }\n",
       "\n",
       "    .dataframe thead th {\n",
       "        text-align: right;\n",
       "    }\n",
       "</style>\n",
       "<table border=\"1\" class=\"dataframe\">\n",
       "  <thead>\n",
       "    <tr style=\"text-align: right;\">\n",
       "      <th></th>\n",
       "      <th>Unnamed: 0</th>\n",
       "      <th>College.A</th>\n",
       "      <th>College.B</th>\n",
       "      <th>College.C</th>\n",
       "      <th>College.D</th>\n",
       "      <th>College.E</th>\n",
       "      <th>College.F</th>\n",
       "    </tr>\n",
       "  </thead>\n",
       "  <tbody>\n",
       "    <tr>\n",
       "      <th>count</th>\n",
       "      <td>8.00000</td>\n",
       "      <td>8.000000</td>\n",
       "      <td>8.000000</td>\n",
       "      <td>8.000000</td>\n",
       "      <td>8.000000</td>\n",
       "      <td>8.000000</td>\n",
       "      <td>8.000000</td>\n",
       "    </tr>\n",
       "    <tr>\n",
       "      <th>mean</th>\n",
       "      <td>4.50000</td>\n",
       "      <td>60.962500</td>\n",
       "      <td>71.287500</td>\n",
       "      <td>65.175000</td>\n",
       "      <td>79.112500</td>\n",
       "      <td>60.775000</td>\n",
       "      <td>72.775000</td>\n",
       "    </tr>\n",
       "    <tr>\n",
       "      <th>std</th>\n",
       "      <td>2.44949</td>\n",
       "      <td>11.955027</td>\n",
       "      <td>3.061483</td>\n",
       "      <td>8.279018</td>\n",
       "      <td>3.853547</td>\n",
       "      <td>5.892307</td>\n",
       "      <td>11.116108</td>\n",
       "    </tr>\n",
       "    <tr>\n",
       "      <th>min</th>\n",
       "      <td>1.00000</td>\n",
       "      <td>43.200000</td>\n",
       "      <td>67.300000</td>\n",
       "      <td>54.500000</td>\n",
       "      <td>74.100000</td>\n",
       "      <td>54.500000</td>\n",
       "      <td>57.700000</td>\n",
       "    </tr>\n",
       "    <tr>\n",
       "      <th>25%</th>\n",
       "      <td>2.75000</td>\n",
       "      <td>50.950000</td>\n",
       "      <td>69.550000</td>\n",
       "      <td>56.575000</td>\n",
       "      <td>76.650000</td>\n",
       "      <td>56.875000</td>\n",
       "      <td>65.050000</td>\n",
       "    </tr>\n",
       "    <tr>\n",
       "      <th>50%</th>\n",
       "      <td>4.50000</td>\n",
       "      <td>63.750000</td>\n",
       "      <td>70.150000</td>\n",
       "      <td>67.650000</td>\n",
       "      <td>79.000000</td>\n",
       "      <td>59.150000</td>\n",
       "      <td>72.000000</td>\n",
       "    </tr>\n",
       "    <tr>\n",
       "      <th>75%</th>\n",
       "      <td>6.25000</td>\n",
       "      <td>70.500000</td>\n",
       "      <td>73.050000</td>\n",
       "      <td>71.575000</td>\n",
       "      <td>81.100000</td>\n",
       "      <td>63.700000</td>\n",
       "      <td>81.275000</td>\n",
       "    </tr>\n",
       "    <tr>\n",
       "      <th>max</th>\n",
       "      <td>8.00000</td>\n",
       "      <td>73.800000</td>\n",
       "      <td>76.700000</td>\n",
       "      <td>74.800000</td>\n",
       "      <td>84.600000</td>\n",
       "      <td>71.300000</td>\n",
       "      <td>87.400000</td>\n",
       "    </tr>\n",
       "  </tbody>\n",
       "</table>\n",
       "</div>"
      ],
      "text/plain": [
       "       Unnamed: 0  College.A  College.B  College.C  College.D  College.E  \\\n",
       "count     8.00000   8.000000   8.000000   8.000000   8.000000   8.000000   \n",
       "mean      4.50000  60.962500  71.287500  65.175000  79.112500  60.775000   \n",
       "std       2.44949  11.955027   3.061483   8.279018   3.853547   5.892307   \n",
       "min       1.00000  43.200000  67.300000  54.500000  74.100000  54.500000   \n",
       "25%       2.75000  50.950000  69.550000  56.575000  76.650000  56.875000   \n",
       "50%       4.50000  63.750000  70.150000  67.650000  79.000000  59.150000   \n",
       "75%       6.25000  70.500000  73.050000  71.575000  81.100000  63.700000   \n",
       "max       8.00000  73.800000  76.700000  74.800000  84.600000  71.300000   \n",
       "\n",
       "       College.F  \n",
       "count   8.000000  \n",
       "mean   72.775000  \n",
       "std    11.116108  \n",
       "min    57.700000  \n",
       "25%    65.050000  \n",
       "50%    72.000000  \n",
       "75%    81.275000  \n",
       "max    87.400000  "
      ]
     },
     "execution_count": 40,
     "metadata": {},
     "output_type": "execute_result"
    }
   ],
   "source": [
    "grad.describe()"
   ]
  },
  {
   "cell_type": "code",
   "execution_count": 42,
   "metadata": {},
   "outputs": [],
   "source": [
    "grad1 = grad.drop('Unnamed: 0', axis=1)"
   ]
  },
  {
   "cell_type": "code",
   "execution_count": 43,
   "metadata": {},
   "outputs": [
    {
     "data": {
      "text/plain": [
       "<matplotlib.axes._subplots.AxesSubplot at 0x7f9359f89990>"
      ]
     },
     "execution_count": 43,
     "metadata": {},
     "output_type": "execute_result"
    },
    {
     "data": {
      "image/png": "[encoded data removed]",
      "text/plain": [
       "<Figure size 432x288 with 1 Axes>"
      ]
     },
     "metadata": {
      "needs_background": "light"
     },
     "output_type": "display_data"
    }
   ],
   "source": [
    "grad1.plot(kind='box', title='Comparison of Graduation Rates')"
   ]
  },
  {
   "cell_type": "code",
   "execution_count": 44,
   "metadata": {},
   "outputs": [
    {
     "data": {
      "text/html": [
       "<div>\n",
       "<style scoped>\n",
       "    .dataframe tbody tr th:only-of-type {\n",
       "        vertical-align: middle;\n",
       "    }\n",
       "\n",
       "    .dataframe tbody tr th {\n",
       "        vertical-align: top;\n",
       "    }\n",
       "\n",
       "    .dataframe thead th {\n",
       "        text-align: right;\n",
       "    }\n",
       "</style>\n",
       "<table border=\"1\" class=\"dataframe\">\n",
       "  <thead>\n",
       "    <tr style=\"text-align: right;\">\n",
       "      <th></th>\n",
       "      <th>Unnamed: 0</th>\n",
       "      <th>Class.I</th>\n",
       "      <th>Class.II</th>\n",
       "      <th>Class.III</th>\n",
       "    </tr>\n",
       "  </thead>\n",
       "  <tbody>\n",
       "    <tr>\n",
       "      <th>0</th>\n",
       "      <td>1</td>\n",
       "      <td>1</td>\n",
       "      <td>1</td>\n",
       "      <td>1</td>\n",
       "    </tr>\n",
       "    <tr>\n",
       "      <th>1</th>\n",
       "      <td>2</td>\n",
       "      <td>1</td>\n",
       "      <td>1</td>\n",
       "      <td>2</td>\n",
       "    </tr>\n",
       "    <tr>\n",
       "      <th>2</th>\n",
       "      <td>3</td>\n",
       "      <td>5</td>\n",
       "      <td>1</td>\n",
       "      <td>3</td>\n",
       "    </tr>\n",
       "    <tr>\n",
       "      <th>3</th>\n",
       "      <td>4</td>\n",
       "      <td>5</td>\n",
       "      <td>1</td>\n",
       "      <td>4</td>\n",
       "    </tr>\n",
       "    <tr>\n",
       "      <th>4</th>\n",
       "      <td>5</td>\n",
       "      <td>5</td>\n",
       "      <td>1</td>\n",
       "      <td>5</td>\n",
       "    </tr>\n",
       "  </tbody>\n",
       "</table>\n",
       "</div>"
      ],
      "text/plain": [
       "   Unnamed: 0  Class.I  Class.II  Class.III\n",
       "0           1        1         1          1\n",
       "1           2        1         1          2\n",
       "2           3        5         1          3\n",
       "3           4        5         1          4\n",
       "4           5        5         1          5"
      ]
     },
     "execution_count": 44,
     "metadata": {},
     "output_type": "execute_result"
    }
   ],
   "source": [
    "ratings = pd.read_csv('/Users/home/Downloads/OneDrive_1_07-07-2020/ratings.csv')\n",
    "ratings.head()"
   ]
  },
  {
   "cell_type": "code",
   "execution_count": 45,
   "metadata": {},
   "outputs": [],
   "source": [
    "rating = ratings.drop('Unnamed: 0', axis=1)"
   ]
  },
  {
   "cell_type": "code",
   "execution_count": 46,
   "metadata": {},
   "outputs": [
    {
     "data": {
      "text/plain": [
       "Class.I      1.568929\n",
       "Class.II     4.000000\n",
       "Class.III    2.631174\n",
       "dtype: float64"
      ]
     },
     "execution_count": 46,
     "metadata": {},
     "output_type": "execute_result"
    }
   ],
   "source": [
    "rating.std(axis=0)"
   ]
  },
  {
   "cell_type": "markdown",
   "metadata": {},
   "source": [
    "Question 7: What are the standard deviations of the three rating distributions? Was your intuition correct? (Dataset - 27 students in the class were asked to rate the instructor on a number scale of 1 to 9)\n",
    "\n",
    "\n",
    "Here are the three standard deviations: Class I: 1.569\n",
    "Class II: 4.000\n",
    "Class III: 2.631\n",
    "Note that through this example, we also learn that the number of distinct values represented in a histogram does not necessarily indicate greater variability."
   ]
  },
  {
   "cell_type": "markdown",
   "metadata": {},
   "source": [
    "Question 8: Assume that the average rating in each of the three classes is 5 (which should be visually reasonably clear from the histograms), and recall the interpretation of the SD as a “typical” or “average” distance between the data points and their mean. Judging from the table and the histograms, which class would have the largest standard deviation, and which one would have the smallest standard deviation? Explain your reasoning (Dataset - 27 students in the class were asked to rate the instructor on a number scale of 1 to 9)\n",
    "\n",
    "In class I, almost all the ratings are 5, which is also the mean. The average distance between the observations and the mean, then, would be very small.\n",
    "In class II most of the observations are far from the mean (at 1 or 9). The average distance between the observations and the mean in this case would be larger.\n",
    "Class III is the case where some of the observations are close to the mean, and some are far, so the average distance between the observations and the mean would be somewhere in between class I and II.\n",
    "Ranking of Std. Dev from smallest to largest - Class I < Class III < Class II\n"
   ]
  },
  {
   "cell_type": "markdown",
   "metadata": {},
   "source": [
    "End of assignment. Return to top. By Mithesh R, J002. ML"
   ]
  }
 ],
 "metadata": {
  "kernelspec": {
   "display_name": "Python 3",
   "language": "python",
   "name": "python3"
  },
  "language_info": {
   "codemirror_mode": {
    "name": "ipython",
    "version": 3
   },
   "file_extension": ".py",
   "mimetype": "text/x-python",
   "name": "python",
   "nbconvert_exporter": "python",
   "pygments_lexer": "ipython3",
   "version": "3.7.6"
  }
 },
 "nbformat": 4,
 "nbformat_minor": 4
}
